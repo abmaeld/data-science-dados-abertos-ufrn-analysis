{
  "nbformat": 4,
  "nbformat_minor": 0,
  "metadata": {
    "colab": {
      "name": "data-science-itp-analysis.ipynb",
      "provenance": [],
      "collapsed_sections": []
    },
    "kernelspec": {
      "name": "python3",
      "display_name": "Python 3"
    }
  },
  "cells": [
    {
      "cell_type": "code",
      "metadata": {
        "id": "Y7MkOqfZIDKO"
      },
      "source": [
        "!apt-get install inxi -y -qq &> /dev/null"
      ],
      "execution_count": 1,
      "outputs": []
    },
    {
      "cell_type": "code",
      "source": [
        "!inxi -F"
      ],
      "metadata": {
        "colab": {
          "base_uri": "https://localhost:8080/"
        },
        "id": "Bak_-CY8a3So",
        "outputId": "b345921d-861a-459c-f2cc-821ef75c8e3b"
      },
      "execution_count": 2,
      "outputs": [
        {
          "output_type": "stream",
          "name": "stdout",
          "text": [
            "\u001b[1;34mSystem:   \u001b[0;37m \u001b[1;34mHost:\u001b[0;37m dbcb40890e81 \u001b[1;34mKernel:\u001b[0;37m 5.4.144+ x86_64 \u001b[1;34mbits:\u001b[0;37m 64 \u001b[1;34mConsole:\u001b[0;37m tty 0\u001b[0;37m\n",
            "\u001b[1;34m          \u001b[0;37m \u001b[1;34mDistro:\u001b[0;37m Ubuntu 18.04.5 LTS\u001b[0;37m\n",
            "\u001b[1;34mMachine:  \u001b[0;37m \u001b[1;34mDevice:\u001b[0;37m docker \u001b[1;34mMobo:\u001b[0;37m Google \u001b[1;34mmodel:\u001b[0;37m Google Compute Engine \u001b[1;34mserial:\u001b[0;37m Board-GoogleCloud-6FD7EB099BF3AEBB0E64F47FB5F90619\u001b[0;37m\n",
            "\u001b[1;34m          \u001b[0;37m \u001b[1;34mBIOS:\u001b[0;37m Google \u001b[1;34mv:\u001b[0;37m Google \u001b[1;34mdate:\u001b[0;37m 01/01/2011\u001b[0;37m\n",
            "\u001b[1;34mBattery   \u001b[0;37m \u001b[0;37mUsing dmidecode: unknown error occurred\u001b[0;37m\n",
            "\u001b[1;34mCPU:      \u001b[0;37m \u001b[1;34mSingle core\u001b[0;37m Intel Xeon (-MT-) \u001b[0;37m\u001b[1;34mcache:\u001b[0;37m 56320 KB\u001b[0;37m\n",
            "\u001b[1;34m          \u001b[0;37m \u001b[1;34mclock speeds:\u001b[0;37m \u001b[1;34mmax:\u001b[0;37m 2199 MHz \u001b[1;34m1:\u001b[0;37m 2199 MHz \u001b[1;34m2:\u001b[0;37m 2199 MHz\u001b[0;37m\n",
            "\u001b[1;34mGraphics: \u001b[0;37m \u001b[1;34mCard:\u001b[0;37m Failed to Detect Video Card!\u001b[0;37m\n",
            "\u001b[1;34m          \u001b[0;37m \u001b[1;34mDisplay Server:\u001b[0;37m X.org 1.20.8 \u001b[1;34mdriver:\u001b[0;37m N/A\u001b[0;37m\n",
            "\u001b[1;34m          \u001b[0;37m \u001b[1;34mtty size:\u001b[0;37m 0x0 \u001b[1;34mAdvanced Data:\u001b[0;37m N/A for root out of X\u001b[0;37m\n",
            "\u001b[1;34mNetwork:  \u001b[0;37m \u001b[1;34mCard:\u001b[0;37m Red Hat Virtio network device \u001b[1;34mdriver:\u001b[0;37m virtio-pci\u001b[0;37m\n",
            "\u001b[1;34m          \u001b[0;37m \u001b[1;34mIF:\u001b[0;37m N/A \u001b[1;34mstate:\u001b[0;37m N/A \u001b[1;34mspeed:\u001b[0;37m N/A \u001b[1;34mduplex:\u001b[0;37m N/A \u001b[1;34mmac:\u001b[0;37m N/A\u001b[0;37m\n",
            "\u001b[1;34mDrives:   \u001b[0;37m \u001b[1;34mHDD Total Size:\u001b[0;37m 91.3GB (53.7% used)\u001b[0;37m\n",
            "\u001b[1;34m          \u001b[0;37m \u001b[1;34mID-1:\u001b[0;37m /dev/sda \u001b[1;34mmodel:\u001b[0;37m PersistentDisk \u001b[1;34msize:\u001b[0;37m 91.3GB\u001b[0;37m\n",
            "\u001b[1;34mPartition:\u001b[0;37m \u001b[1;34mID-1:\u001b[0;37m / \u001b[1;34msize:\u001b[0;37m 108G \u001b[1;34mused:\u001b[0;37m 42G (39%) \u001b[1;34mfs:\u001b[0;37m overlay \u001b[1;34mdev:\u001b[0;37m N/A\u001b[0;37m\n",
            "\u001b[1;34mRAID:     \u001b[0;37m No RAID devices: /proc/mdstat, md_mod kernel module present\u001b[0;37m\n",
            "\u001b[1;34mSensors:  \u001b[0;37m None detected - is lm-sensors installed and configured?\u001b[0;37m\n",
            "\u001b[1;34mInfo:     \u001b[0;37m \u001b[1;34mProcesses:\u001b[0;37m 14 \u001b[1;34mUptime:\u001b[0;37m 3 min \u001b[1;34mMemory:\u001b[0;37m 1159.0/12991.1MB \u001b[1;34mInit:\u001b[0;37m N/A\u001b[0;37m\n",
            "\u001b[1;34m          \u001b[0;37m \u001b[1;34mClient:\u001b[0;37m Shell (python3) \u001b[1;34minxi:\u001b[0;37m 2.3.56\u001b[0;37m \u001b[0;37m\n",
            "\u001b[0m"
          ]
        }
      ]
    },
    {
      "cell_type": "code",
      "metadata": {
        "id": "itZjxFDjeAYZ",
        "colab": {
          "base_uri": "https://localhost:8080/",
          "height": 17
        },
        "outputId": "b047e3c3-8533-4e48-dba4-95988d3cbdd7"
      },
      "source": [
        "import os\n",
        "import warnings\n",
        "import pandas as pd\n",
        "import matplotlib.pyplot as plt\n",
        "import plotly.express as px\n",
        "import seaborn as sns\n",
        "import numpy as np\n",
        "import plotly as py\n",
        "import plotly.graph_objs as go\n",
        "from sklearn.cluster import KMeans\n",
        "\n",
        "warnings.filterwarnings(\"ignore\")\n",
        "py.offline.init_notebook_mode(connected = True)"
      ],
      "execution_count": 3,
      "outputs": [
        {
          "output_type": "display_data",
          "data": {
            "text/html": [
              "        <script type=\"text/javascript\">\n",
              "        window.PlotlyConfig = {MathJaxConfig: 'local'};\n",
              "        if (window.MathJax) {MathJax.Hub.Config({SVG: {font: \"STIX-Web\"}});}\n",
              "        if (typeof require !== 'undefined') {\n",
              "        require.undef(\"plotly\");\n",
              "        requirejs.config({\n",
              "            paths: {\n",
              "                'plotly': ['https://cdn.plot.ly/plotly-2.8.3.min']\n",
              "            }\n",
              "        });\n",
              "        require(['plotly'], function(Plotly) {\n",
              "            window._Plotly = Plotly;\n",
              "        });\n",
              "        }\n",
              "        </script>\n",
              "        "
            ]
          },
          "metadata": {}
        }
      ]
    },
    {
      "cell_type": "code",
      "source": [
        "supress_wget_output = True;\n",
        "dropna_after_reading_csv = False;\n",
        "dropna_after_merging_dfs = True;"
      ],
      "metadata": {
        "id": "6y-Z2hcxbW4g"
      },
      "execution_count": 4,
      "outputs": []
    },
    {
      "cell_type": "code",
      "source": [
        "if supress_wget_output:\n",
        "  !wget -nc https://dados.ufrn.br/dataset/3fea67e8-6916-4ed0-aaa6-9a8ca06a9bdc/resource/9a3521d2-4bc5-4fda-93f0-f701c8a20727/download/componentes-curriculares-presenciais.csv &> /dev/null\n",
        "  !wget -nc https://dados.ufrn.br/dataset/3fea67e8-6916-4ed0-aaa6-9a8ca06a9bdc/resource/99dd0a7d-4908-4e85-9f20-d58c8195260e/download/componentes-curriculares-semi-presenciais.csv &> /dev/null\n",
        "  !wget -nc https://dados.ufrn.br/dataset/3fea67e8-6916-4ed0-aaa6-9a8ca06a9bdc/resource/d1de5b44-0ae6-4a22-8dac-ae44aa1c3248/download/componentes-curriculares-ead.csv &> /dev/null\n",
        "  !wget -nc https://dados.ufrn.br/dataset/8bf1a468-48ff-4f4d-95ee-b17b7a3a5592/resource/ff0a457e-76fa-4aca-ad99-48aebd7db070/download/docentes.csv &> /dev/null\n",
        "else:\n",
        "  !wget -nc https://dados.ufrn.br/dataset/3fea67e8-6916-4ed0-aaa6-9a8ca06a9bdc/resource/9a3521d2-4bc5-4fda-93f0-f701c8a20727/download/componentes-curriculares-presenciais.csv\n",
        "  !wget -nc https://dados.ufrn.br/dataset/3fea67e8-6916-4ed0-aaa6-9a8ca06a9bdc/resource/99dd0a7d-4908-4e85-9f20-d58c8195260e/download/componentes-curriculares-semi-presenciais.csv\n",
        "  !wget -nc https://dados.ufrn.br/dataset/3fea67e8-6916-4ed0-aaa6-9a8ca06a9bdc/resource/d1de5b44-0ae6-4a22-8dac-ae44aa1c3248/download/componentes-curriculares-ead.csv\n",
        "  !wget -nc https://dados.ufrn.br/dataset/8bf1a468-48ff-4f4d-95ee-b17b7a3a5592/resource/ff0a457e-76fa-4aca-ad99-48aebd7db070/download/docentes.csv"
      ],
      "metadata": {
        "id": "fT_Xq6hbcOLk"
      },
      "execution_count": 5,
      "outputs": []
    },
    {
      "cell_type": "code",
      "source": [
        "componentes_curriculares = pd.read_csv('componentes-curriculares-presenciais.csv', sep=';', usecols=[\"id_componente\",\"codigo\",\"nivel\",\"nome\",\"unidade_responsavel\"])\n",
        "docentes = pd.read_csv('docentes.csv', sep=';')"
      ],
      "metadata": {
        "id": "yK-st9SxyT2k"
      },
      "execution_count": 6,
      "outputs": []
    },
    {
      "cell_type": "code",
      "source": [
        "componentes_curriculares.id_componente = componentes_curriculares.id_componente.astype(str)\n",
        "componentes_curriculares.dropna(inplace=True)\n",
        "componentes_curriculares = componentes_curriculares[~componentes_curriculares.id_componente.duplicated()]"
      ],
      "metadata": {
        "id": "HD1XeBVy4NDM"
      },
      "execution_count": 7,
      "outputs": []
    },
    {
      "cell_type": "code",
      "source": [
        "class semestre:\n",
        "  def __init__(self, identificador, csv_turmas, csv_matricula_componente):\n",
        "    self.identificador = identificador\n",
        "    self.csv_turmas = csv_turmas\n",
        "    self.csv_matricula_componente = csv_matricula_componente\n",
        "    self.rows_dropped = 0\n",
        "    #self.rows_dropped = 0"
      ],
      "metadata": {
        "id": "Hv6bvNlco-7c"
      },
      "execution_count": 8,
      "outputs": []
    },
    {
      "cell_type": "code",
      "source": [
        "semestres = []"
      ],
      "metadata": {
        "id": "1gW5KbzwpVag"
      },
      "execution_count": 9,
      "outputs": []
    },
    {
      "cell_type": "code",
      "source": [
        "if supress_wget_output:\n",
        "  !wget -nc https://dados.ufrn.br/dataset/1938623d-fb07-41a4-a55a-1691f7c3b8b5/resource/3ae16138-4214-4a30-ac2d-6cffd6237031/download/turmas-2018.1.csv &> /dev/null\n",
        "  !wget -nc https://dados.ufrn.br/dataset/c8650d55-3c5a-4787-a126-d28a4ef902a6/resource/3c1feba4-ced1-466e-8e94-a040224a51dc/download/matricula-componente-20181.csv &> /dev/null\n",
        "else:\n",
        "  !wget -nc https://dados.ufrn.br/dataset/1938623d-fb07-41a4-a55a-1691f7c3b8b5/resource/3ae16138-4214-4a30-ac2d-6cffd6237031/download/turmas-2018.1.csv\n",
        "  !wget -nc https://dados.ufrn.br/dataset/c8650d55-3c5a-4787-a126-d28a4ef902a6/resource/3c1feba4-ced1-466e-8e94-a040224a51dc/download/matricula-componente-20181.csv\n",
        "csv_turmas_2018_1 = 'turmas-2018.1.csv'\n",
        "csv_matricula_componente_2018_1 = 'matricula-componente-20181.csv'\n",
        "semestres.append(semestre('2018.1', csv_turmas_2018_1, csv_matricula_componente_2018_1))"
      ],
      "metadata": {
        "id": "GVHMUIf_mwpM"
      },
      "execution_count": 10,
      "outputs": []
    },
    {
      "cell_type": "code",
      "source": [
        "if supress_wget_output:\n",
        "  !wget -nc https://dados.ufrn.br/dataset/1938623d-fb07-41a4-a55a-1691f7c3b8b5/resource/77fe7603-0e71-4e21-8cd4-cb823353023f/download/turmas-2018.2.csv &> /dev/null\n",
        "  !wget -nc https://dados.ufrn.br/dataset/c8650d55-3c5a-4787-a126-d28a4ef902a6/resource/0bfcaf6a-4424-4983-8ba8-d330350a8fbe/download/matricula-componente-20182.csv &> /dev/null\n",
        "else:\n",
        "  !wget -nc https://dados.ufrn.br/dataset/1938623d-fb07-41a4-a55a-1691f7c3b8b5/resource/77fe7603-0e71-4e21-8cd4-cb823353023f/download/turmas-2018.2.csv\n",
        "  !wget -nc https://dados.ufrn.br/dataset/c8650d55-3c5a-4787-a126-d28a4ef902a6/resource/0bfcaf6a-4424-4983-8ba8-d330350a8fbe/download/matricula-componente-20182.csv\n",
        "csv_turmas_2018_2 = 'turmas-2018.2.csv'\n",
        "csv_matricula_componente_2018_2 = 'matricula-componente-20182.csv'\n",
        "semestres.append(semestre('2018.2', csv_turmas_2018_2, csv_matricula_componente_2018_2))"
      ],
      "metadata": {
        "id": "mC5gWXE-myf8"
      },
      "execution_count": 11,
      "outputs": []
    },
    {
      "cell_type": "code",
      "source": [
        "if supress_wget_output:\n",
        "  !wget -nc https://dados.ufrn.br/dataset/1938623d-fb07-41a4-a55a-1691f7c3b8b5/resource/1e42cd66-69d6-48d5-a346-d46766fd2c9c/download/turmas-2019.1.csv &> /dev/null\n",
        "  !wget -nc https://dados.ufrn.br/dataset/c8650d55-3c5a-4787-a126-d28a4ef902a6/resource/6d66d15a-8d0f-43a3-902b-d314f4a2a296/download/matricula-componente-20191.csv &> /dev/null\n",
        "else:\n",
        "  !wget -nc https://dados.ufrn.br/dataset/1938623d-fb07-41a4-a55a-1691f7c3b8b5/resource/1e42cd66-69d6-48d5-a346-d46766fd2c9c/download/turmas-2019.1.csv\n",
        "  !wget -nc https://dados.ufrn.br/dataset/c8650d55-3c5a-4787-a126-d28a4ef902a6/resource/6d66d15a-8d0f-43a3-902b-d314f4a2a296/download/matricula-componente-20191.csv\n",
        "csv_turmas_2019_1 = 'turmas-2019.1.csv'\n",
        "csv_matricula_componente_2019_1 = 'matricula-componente-20191.csv'\n",
        "semestres.append(semestre('2019.1', csv_turmas_2019_1, csv_matricula_componente_2019_1))"
      ],
      "metadata": {
        "id": "d8-T7U_Zmz8I"
      },
      "execution_count": 12,
      "outputs": []
    },
    {
      "cell_type": "code",
      "source": [
        "if supress_wget_output:\n",
        "  !wget -nc https://dados.ufrn.br/dataset/1938623d-fb07-41a4-a55a-1691f7c3b8b5/resource/d9c2863e-d1b2-4afd-b7dd-09517d5ed17d/download/turmas-2019.2.csv &> /dev/null\n",
        "  !wget -nc https://dados.ufrn.br/dataset/c8650d55-3c5a-4787-a126-d28a4ef902a6/resource/0d573a4f-de65-4c3d-b6bb-337473bc4e44/download/matricula-componente-20192.csv &> /dev/null\n",
        "else:\n",
        "  !wget -nc https://dados.ufrn.br/dataset/1938623d-fb07-41a4-a55a-1691f7c3b8b5/resource/d9c2863e-d1b2-4afd-b7dd-09517d5ed17d/download/turmas-2019.2.csv\n",
        "  !wget -nc https://dados.ufrn.br/dataset/c8650d55-3c5a-4787-a126-d28a4ef902a6/resource/0d573a4f-de65-4c3d-b6bb-337473bc4e44/download/matricula-componente-20192.csv\n",
        "csv_turmas_2019_2 = 'turmas-2019.2.csv'\n",
        "csv_matricula_componente_2019_2 = 'matricula-componente-20192.csv'\n",
        "semestres.append(semestre('2019.2', csv_turmas_2019_2, csv_matricula_componente_2019_2))"
      ],
      "metadata": {
        "id": "3jCixKKDm1uM"
      },
      "execution_count": 13,
      "outputs": []
    },
    {
      "cell_type": "code",
      "source": [
        "if supress_wget_output:\n",
        "  !wget -nc https://dados.ufrn.br/dataset/1938623d-fb07-41a4-a55a-1691f7c3b8b5/resource/3a9fe77e-478d-4b18-b7bc-a4df57cbdf46/download/turmas-2020.1.csv &> /dev/null\n",
        "  !wget -nc https://dados.ufrn.br/dataset/c8650d55-3c5a-4787-a126-d28a4ef902a6/resource/4e4dd1fb-fc0b-460d-b52a-9f37a42b82b3/download/matricula-componente-20201.csv &> /dev/null\n",
        "else:\n",
        "  !wget -nc https://dados.ufrn.br/dataset/1938623d-fb07-41a4-a55a-1691f7c3b8b5/resource/3a9fe77e-478d-4b18-b7bc-a4df57cbdf46/download/turmas-2020.1.csv\n",
        "  !wget -nc https://dados.ufrn.br/dataset/c8650d55-3c5a-4787-a126-d28a4ef902a6/resource/4e4dd1fb-fc0b-460d-b52a-9f37a42b82b3/download/matricula-componente-20201.csv\n",
        "csv_turmas_2020_1 = 'turmas-2020.1.csv'\n",
        "csv_matricula_componente_2020_1 = 'matricula-componente-20201.csv'\n",
        "semestres.append(semestre('2020.1', csv_turmas_2020_1, csv_matricula_componente_2020_1))"
      ],
      "metadata": {
        "id": "a0adq-hgm26w"
      },
      "execution_count": 14,
      "outputs": []
    },
    {
      "cell_type": "code",
      "source": [
        "if supress_wget_output:\n",
        "  !wget -nc https://dados.ufrn.br/dataset/1938623d-fb07-41a4-a55a-1691f7c3b8b5/resource/964f91df-f322-4e56-897b-f06cca611904/download/turmas-2020.6.csv &> /dev/null\n",
        "  !wget -nc https://dados.ufrn.br/dataset/c8650d55-3c5a-4787-a126-d28a4ef902a6/resource/9d663129-879a-4663-b631-4bfd0ee08e98/download/matricula-componente-20206.csv &> /dev/null\n",
        "else:\n",
        "  !wget -nc https://dados.ufrn.br/dataset/1938623d-fb07-41a4-a55a-1691f7c3b8b5/resource/964f91df-f322-4e56-897b-f06cca611904/download/turmas-2020.6.csv\n",
        "  !wget -nc https://dados.ufrn.br/dataset/c8650d55-3c5a-4787-a126-d28a4ef902a6/resource/9d663129-879a-4663-b631-4bfd0ee08e98/download/matricula-componente-20206.csv\n",
        "csv_turmas_2020_6 = 'turmas-2020.6.csv'\n",
        "csv_matricula_componente_2020_6 = 'matricula-componente-20206.csv'\n",
        "semestres.append(semestre('2020.6', csv_turmas_2020_6, csv_matricula_componente_2020_6))"
      ],
      "metadata": {
        "id": "MLthWrHZm4Fw"
      },
      "execution_count": 15,
      "outputs": []
    },
    {
      "cell_type": "code",
      "source": [
        "for semestre in semestres:\n",
        "  semestre.turmas = pd.read_csv(semestre.csv_turmas, sep=';')\n",
        "  semestre.matricula_componente = pd.read_csv(semestre.csv_matricula_componente, sep=';')\n",
        "\n",
        "  if dropna_after_reading_csv:\n",
        "    aux_1 = semestre.turmas.dropna(axis=0)\n",
        "    aux_2 = semestre.matricula_componente.dropna(axis=0)\n",
        "    semestre.rows_dropped += (semestre.turmas.size - aux_1.size) + (semestre.matricula_componente.size - aux_2.size)\n",
        "    semestre.turmas = aux_1\n",
        "    semestre.matricula_componente = aux_2"
      ],
      "metadata": {
        "id": "bPKjCj_kud20"
      },
      "execution_count": 16,
      "outputs": []
    },
    {
      "cell_type": "code",
      "source": [
        "for semestre in semestres:\n",
        "  print(semestre.identificador + ':')\n",
        "  print('  rows_dropped: ' + str(semestre.rows_dropped))\n",
        "  print('  turmas_df_size: ' + str(semestre.turmas.size))\n",
        "  print('  matricula_componente_df_size: ' + str(semestre.matricula_componente.size))\n",
        "  print()"
      ],
      "metadata": {
        "colab": {
          "base_uri": "https://localhost:8080/"
        },
        "id": "zcAW0o6Y0n_0",
        "outputId": "705762af-7c09-44b3-ea38-46a22a2e26f8"
      },
      "execution_count": 17,
      "outputs": [
        {
          "output_type": "stream",
          "name": "stdout",
          "text": [
            "2018.1:\n",
            "  rows_dropped: 0\n",
            "  turmas_df_size: 388076\n",
            "  matricula_componente_df_size: 6968180\n",
            "\n",
            "2018.2:\n",
            "  rows_dropped: 0\n",
            "  turmas_df_size: 410826\n",
            "  matricula_componente_df_size: 6887730\n",
            "\n",
            "2019.1:\n",
            "  rows_dropped: 0\n",
            "  turmas_df_size: 420108\n",
            "  matricula_componente_df_size: 7536540\n",
            "\n",
            "2019.2:\n",
            "  rows_dropped: 0\n",
            "  turmas_df_size: 394238\n",
            "  matricula_componente_df_size: 6695520\n",
            "\n",
            "2020.1:\n",
            "  rows_dropped: 0\n",
            "  turmas_df_size: 210938\n",
            "  matricula_componente_df_size: 1664620\n",
            "\n",
            "2020.6:\n",
            "  rows_dropped: 0\n",
            "  turmas_df_size: 249418\n",
            "  matricula_componente_df_size: 6153960\n",
            "\n"
          ]
        }
      ]
    },
    {
      "cell_type": "code",
      "metadata": {
        "id": "fKdtJqohnDd1"
      },
      "source": [
        "colunas_merge = [\"id_turma\",\"siape\",\"codigo\",\"nivel_ensino\",\"nome\",\"unidade_responsavel\", \"situacao_turma\",\"capacidade_aluno\",\"descricao_horario\"]\n",
        "\n",
        "for semestre in semestres:\n",
        "  aux_1 = semestre.turmas\n",
        "  aux_1.rename(columns={'id_componente_curricular': 'id_componente'}, inplace=True)\n",
        "  aux_1.id_componente = aux_1.id_componente.astype(str)\n",
        "  semestre.turmas = aux_1\n",
        "  aux_2 = pd.merge(semestre.turmas, componentes_curriculares, on='id_componente')[colunas_merge]\n",
        "  if dropna_after_merging_dfs:\n",
        "    aux_2.dropna(axis=0, inplace=True)\n",
        "\n",
        "  semestre.df = aux_2"
      ],
      "execution_count": 18,
      "outputs": []
    },
    {
      "cell_type": "code",
      "source": [
        " colunas_merge = [\"id_turma\", \"nome_y\", \"codigo\", \"nivel_ensino\",\"nome_x\",\"capacidade_aluno\", \"descricao_horario\"]\n",
        "\n",
        "for semestre in semestres:\n",
        "  aux_0 = semestre.df\n",
        "  aux_0 = aux_0[aux_0.situacao_turma == 'CONSOLIDADA']\n",
        "  aux_0.rename(columns={'siape': 'siape'}, inplace=True)\n",
        "  aux_1 = pd.merge(aux_0, docentes, on='siape')[colunas_merge]\n",
        "  aux_2 = semestre.matricula_componente[semestre.matricula_componente.id_turma.isin(aux_1.id_turma)]\n",
        "  aux_3 = pd.merge(aux_2, aux_1, on='id_turma')\n",
        "  semestre.df = aux_3"
      ],
      "metadata": {
        "id": "zmOfQW846wSE"
      },
      "execution_count": 19,
      "outputs": []
    },
    {
      "cell_type": "code",
      "source": [
        "for semestre in semestres:\n",
        "  aux_1 = semestre.df\n",
        "  aux_1 = aux_1.replace({',': '.'}, regex=True)\n",
        "  aux_1.capacidade_aluno = aux_1.capacidade_aluno.astype(np.int64)\n",
        "  aux_1.nota = aux_1.nota.astype(np.float64)\n",
        "  aux_1.media_final = aux_1.media_final.astype(np.float64)\n",
        "  aux_1.id_curso = aux_1.id_curso.fillna(0).astype(np.ushort)\n",
        "  aux_1.unidade = aux_1.unidade.fillna(0).astype(np.ushort)\n",
        "  aux_1.faltas_unidade = aux_1.faltas_unidade.fillna(0).astype(np.ushort)\n",
        "  aux_1.numero_total_faltas = aux_1.numero_total_faltas.fillna(0).astype(np.ushort)\n",
        "  aux_1.capacidade_aluno = aux_1.capacidade_aluno.fillna(0).astype(np.ushort)\n",
        "  aux_1.id_turma = aux_1.id_turma.fillna(0).astype(np.ushort)\n",
        "  semestre.df = aux_1"
      ],
      "metadata": {
        "id": "5LJakyRN9Uls"
      },
      "execution_count": 20,
      "outputs": []
    },
    {
      "cell_type": "code",
      "source": [
        "def aprovado(row):\n",
        "    if row[\"descricao\"] == \"APROVADO\" or row[\"descricao\"] == \"APROVADO POR NOTA\":\n",
        "        return True\n",
        "    else:\n",
        "        return False"
      ],
      "metadata": {
        "id": "sr3PXnAehVDt"
      },
      "execution_count": 21,
      "outputs": []
    },
    {
      "cell_type": "code",
      "source": [
        "def reprovadoporfalta(row):\n",
        "    if row[\"descricao\"] == \"REPROVADO POR FALTAS\" or row[\"descricao\"] == \"REPROVADO POR NOTA E FALTA\" or row[\"descricao\"] == \"REPROVADO POR MÉDIA E POR FALTAS\":\n",
        "        return True\n",
        "    else:\n",
        "        return False"
      ],
      "metadata": {
        "id": "AVSaWH7iWwO-"
      },
      "execution_count": 22,
      "outputs": []
    },
    {
      "cell_type": "code",
      "source": [
        "def reposicao(row):\n",
        "    if row[\"reposicao\"] == \"True\":\n",
        "        return True\n",
        "    else:\n",
        "        return False"
      ],
      "metadata": {
        "id": "Z8gxCIhnaxS5"
      },
      "execution_count": 23,
      "outputs": []
    },
    {
      "cell_type": "code",
      "source": [
        "def matematicamentereprovado(row):\n",
        "  if row[\"aprovado\"] == 0:\n",
        "    if row[\"media_final\"] < 5:\n",
        "      if row[\"reprovadoporfalta\"] == True:\n",
        "        return True;\n",
        "        # ele tem que sair\n",
        "      else:\n",
        "        return False;\n",
        "    else:\n",
        "      return False;\n",
        "  else:\n",
        "    return False;"
      ],
      "metadata": {
        "id": "ns1HGelx15QN"
      },
      "execution_count": 24,
      "outputs": []
    },
    {
      "cell_type": "code",
      "source": [
        "for semestre in semestres:\n",
        "  aux_1 = semestre.df\n",
        "  rotulos_1 = aux_1.apply(aprovado, axis = 1)\n",
        "  aux_1[\"aprovado\"] = rotulos_1\n",
        "  rotulos_2 = aux_1.apply(reprovadoporfalta, axis = 1)\n",
        "  aux_1[\"reprovadoporfalta\"] = rotulos_2\n",
        "  rotulos_3 = aux_1.apply(reposicao, axis = 1)\n",
        "  aux_1[\"reposicao\"] = rotulos_3\n",
        "  aux_1['semestre'] = semestre.identificador"
      ],
      "metadata": {
        "id": "5MSMK1tGCi0U"
      },
      "execution_count": 25,
      "outputs": []
    },
    {
      "cell_type": "code",
      "source": [
        "dfs = []\n",
        "for semestre in semestres:\n",
        "  dfs.append(semestre.df)\n",
        "df = pd.concat(dfs, ignore_index=True)"
      ],
      "metadata": {
        "id": "yof4tJL8BoaY"
      },
      "execution_count": 26,
      "outputs": []
    },
    {
      "cell_type": "code",
      "source": [
        "df = df.dropna()\n",
        "df = df.drop_duplicates()\n",
        "df.reset_index(drop=True, inplace=True)\n",
        "aux = df\n",
        "df = aux.rename(columns = {'nome_y' : 'docente', 'nome_x' : 'disciplina'})"
      ],
      "metadata": {
        "id": "lMWIfMGK029W"
      },
      "execution_count": 27,
      "outputs": []
    },
    {
      "cell_type": "code",
      "source": [
        "df"
      ],
      "metadata": {
        "id": "j61SR4wTj0lK",
        "colab": {
          "base_uri": "https://localhost:8080/",
          "height": 2338
        },
        "outputId": "0b2f5678-67a0-4ac5-c275-417d6b333655"
      },
      "execution_count": 28,
      "outputs": [
        {
          "output_type": "execute_result",
          "data": {
            "text/html": [
              "\n",
              "  <div id=\"df-aa68febb-954b-4752-9d9e-b19a9ea49e8b\">\n",
              "    <div class=\"colab-df-container\">\n",
              "      <div>\n",
              "<style scoped>\n",
              "    .dataframe tbody tr th:only-of-type {\n",
              "        vertical-align: middle;\n",
              "    }\n",
              "\n",
              "    .dataframe tbody tr th {\n",
              "        vertical-align: top;\n",
              "    }\n",
              "\n",
              "    .dataframe thead th {\n",
              "        text-align: right;\n",
              "    }\n",
              "</style>\n",
              "<table border=\"1\" class=\"dataframe\">\n",
              "  <thead>\n",
              "    <tr style=\"text-align: right;\">\n",
              "      <th></th>\n",
              "      <th>id_turma</th>\n",
              "      <th>discente</th>\n",
              "      <th>id_curso</th>\n",
              "      <th>unidade</th>\n",
              "      <th>nota</th>\n",
              "      <th>reposicao</th>\n",
              "      <th>faltas_unidade</th>\n",
              "      <th>media_final</th>\n",
              "      <th>numero_total_faltas</th>\n",
              "      <th>descricao</th>\n",
              "      <th>docente</th>\n",
              "      <th>codigo</th>\n",
              "      <th>nivel_ensino</th>\n",
              "      <th>disciplina</th>\n",
              "      <th>capacidade_aluno</th>\n",
              "      <th>descricao_horario</th>\n",
              "      <th>aprovado</th>\n",
              "      <th>reprovadoporfalta</th>\n",
              "      <th>semestre</th>\n",
              "    </tr>\n",
              "  </thead>\n",
              "  <tbody>\n",
              "    <tr>\n",
              "      <th>0</th>\n",
              "      <td>9902</td>\n",
              "      <td>150f06d25dfafd2ac87b2a49b8fb49b1</td>\n",
              "      <td>33991</td>\n",
              "      <td>1</td>\n",
              "      <td>10.0</td>\n",
              "      <td>False</td>\n",
              "      <td>0</td>\n",
              "      <td>7.7</td>\n",
              "      <td>0</td>\n",
              "      <td>APROVADO</td>\n",
              "      <td>ANDREA CRISTINA SANTOS DE JESUS</td>\n",
              "      <td>CSH8917</td>\n",
              "      <td>GRADUAÇÃO</td>\n",
              "      <td>TEORIA GERAL DA ADMINISTRAÇÃO</td>\n",
              "      <td>60</td>\n",
              "      <td>3N12 6N34</td>\n",
              "      <td>True</td>\n",
              "      <td>False</td>\n",
              "      <td>2018.1</td>\n",
              "    </tr>\n",
              "    <tr>\n",
              "      <th>1</th>\n",
              "      <td>9902</td>\n",
              "      <td>150f06d25dfafd2ac87b2a49b8fb49b1</td>\n",
              "      <td>33991</td>\n",
              "      <td>2</td>\n",
              "      <td>6.0</td>\n",
              "      <td>False</td>\n",
              "      <td>0</td>\n",
              "      <td>7.7</td>\n",
              "      <td>0</td>\n",
              "      <td>APROVADO</td>\n",
              "      <td>ANDREA CRISTINA SANTOS DE JESUS</td>\n",
              "      <td>CSH8917</td>\n",
              "      <td>GRADUAÇÃO</td>\n",
              "      <td>TEORIA GERAL DA ADMINISTRAÇÃO</td>\n",
              "      <td>60</td>\n",
              "      <td>3N12 6N34</td>\n",
              "      <td>True</td>\n",
              "      <td>False</td>\n",
              "      <td>2018.1</td>\n",
              "    </tr>\n",
              "    <tr>\n",
              "      <th>2</th>\n",
              "      <td>9902</td>\n",
              "      <td>150f06d25dfafd2ac87b2a49b8fb49b1</td>\n",
              "      <td>33991</td>\n",
              "      <td>3</td>\n",
              "      <td>7.0</td>\n",
              "      <td>False</td>\n",
              "      <td>0</td>\n",
              "      <td>7.7</td>\n",
              "      <td>0</td>\n",
              "      <td>APROVADO</td>\n",
              "      <td>ANDREA CRISTINA SANTOS DE JESUS</td>\n",
              "      <td>CSH8917</td>\n",
              "      <td>GRADUAÇÃO</td>\n",
              "      <td>TEORIA GERAL DA ADMINISTRAÇÃO</td>\n",
              "      <td>60</td>\n",
              "      <td>3N12 6N34</td>\n",
              "      <td>True</td>\n",
              "      <td>False</td>\n",
              "      <td>2018.1</td>\n",
              "    </tr>\n",
              "    <tr>\n",
              "      <th>3</th>\n",
              "      <td>9902</td>\n",
              "      <td>46f9540cc15333e6ec97dfd8e69120a5</td>\n",
              "      <td>33991</td>\n",
              "      <td>1</td>\n",
              "      <td>0.0</td>\n",
              "      <td>False</td>\n",
              "      <td>0</td>\n",
              "      <td>0.0</td>\n",
              "      <td>0</td>\n",
              "      <td>REPROVADO</td>\n",
              "      <td>ANDREA CRISTINA SANTOS DE JESUS</td>\n",
              "      <td>CSH8917</td>\n",
              "      <td>GRADUAÇÃO</td>\n",
              "      <td>TEORIA GERAL DA ADMINISTRAÇÃO</td>\n",
              "      <td>60</td>\n",
              "      <td>3N12 6N34</td>\n",
              "      <td>False</td>\n",
              "      <td>False</td>\n",
              "      <td>2018.1</td>\n",
              "    </tr>\n",
              "    <tr>\n",
              "      <th>4</th>\n",
              "      <td>9902</td>\n",
              "      <td>46f9540cc15333e6ec97dfd8e69120a5</td>\n",
              "      <td>33991</td>\n",
              "      <td>2</td>\n",
              "      <td>0.0</td>\n",
              "      <td>False</td>\n",
              "      <td>0</td>\n",
              "      <td>0.0</td>\n",
              "      <td>0</td>\n",
              "      <td>REPROVADO</td>\n",
              "      <td>ANDREA CRISTINA SANTOS DE JESUS</td>\n",
              "      <td>CSH8917</td>\n",
              "      <td>GRADUAÇÃO</td>\n",
              "      <td>TEORIA GERAL DA ADMINISTRAÇÃO</td>\n",
              "      <td>60</td>\n",
              "      <td>3N12 6N34</td>\n",
              "      <td>False</td>\n",
              "      <td>False</td>\n",
              "      <td>2018.1</td>\n",
              "    </tr>\n",
              "    <tr>\n",
              "      <th>...</th>\n",
              "      <td>...</td>\n",
              "      <td>...</td>\n",
              "      <td>...</td>\n",
              "      <td>...</td>\n",
              "      <td>...</td>\n",
              "      <td>...</td>\n",
              "      <td>...</td>\n",
              "      <td>...</td>\n",
              "      <td>...</td>\n",
              "      <td>...</td>\n",
              "      <td>...</td>\n",
              "      <td>...</td>\n",
              "      <td>...</td>\n",
              "      <td>...</td>\n",
              "      <td>...</td>\n",
              "      <td>...</td>\n",
              "      <td>...</td>\n",
              "      <td>...</td>\n",
              "      <td>...</td>\n",
              "    </tr>\n",
              "    <tr>\n",
              "      <th>1982533</th>\n",
              "      <td>51177</td>\n",
              "      <td>38739ed2f2c78b62a97d159296aada97</td>\n",
              "      <td>64347</td>\n",
              "      <td>1</td>\n",
              "      <td>0.0</td>\n",
              "      <td>False</td>\n",
              "      <td>0</td>\n",
              "      <td>0.0</td>\n",
              "      <td>0</td>\n",
              "      <td>REPROVADO</td>\n",
              "      <td>ANDREY PEREIRA DE OLIVEIRA</td>\n",
              "      <td>LET0615</td>\n",
              "      <td>GRADUAÇÃO</td>\n",
              "      <td>LITERATURA BRASILEIRA: DAS ORIGENS AO ROMANTISMO</td>\n",
              "      <td>41</td>\n",
              "      <td>2M3456</td>\n",
              "      <td>False</td>\n",
              "      <td>False</td>\n",
              "      <td>2020.6</td>\n",
              "    </tr>\n",
              "    <tr>\n",
              "      <th>1982534</th>\n",
              "      <td>51177</td>\n",
              "      <td>38739ed2f2c78b62a97d159296aada97</td>\n",
              "      <td>64347</td>\n",
              "      <td>2</td>\n",
              "      <td>0.0</td>\n",
              "      <td>False</td>\n",
              "      <td>0</td>\n",
              "      <td>0.0</td>\n",
              "      <td>0</td>\n",
              "      <td>REPROVADO</td>\n",
              "      <td>ANDREY PEREIRA DE OLIVEIRA</td>\n",
              "      <td>LET0615</td>\n",
              "      <td>GRADUAÇÃO</td>\n",
              "      <td>LITERATURA BRASILEIRA: DAS ORIGENS AO ROMANTISMO</td>\n",
              "      <td>41</td>\n",
              "      <td>2M3456</td>\n",
              "      <td>False</td>\n",
              "      <td>False</td>\n",
              "      <td>2020.6</td>\n",
              "    </tr>\n",
              "    <tr>\n",
              "      <th>1982535</th>\n",
              "      <td>51177</td>\n",
              "      <td>6ff513d319c0c2f295aee41bc1832627</td>\n",
              "      <td>64347</td>\n",
              "      <td>2</td>\n",
              "      <td>8.5</td>\n",
              "      <td>False</td>\n",
              "      <td>0</td>\n",
              "      <td>8.3</td>\n",
              "      <td>0</td>\n",
              "      <td>APROVADO</td>\n",
              "      <td>ANDREY PEREIRA DE OLIVEIRA</td>\n",
              "      <td>LET0615</td>\n",
              "      <td>GRADUAÇÃO</td>\n",
              "      <td>LITERATURA BRASILEIRA: DAS ORIGENS AO ROMANTISMO</td>\n",
              "      <td>41</td>\n",
              "      <td>2M3456</td>\n",
              "      <td>True</td>\n",
              "      <td>False</td>\n",
              "      <td>2020.6</td>\n",
              "    </tr>\n",
              "    <tr>\n",
              "      <th>1982536</th>\n",
              "      <td>51177</td>\n",
              "      <td>6ff513d319c0c2f295aee41bc1832627</td>\n",
              "      <td>64347</td>\n",
              "      <td>3</td>\n",
              "      <td>8.3</td>\n",
              "      <td>False</td>\n",
              "      <td>0</td>\n",
              "      <td>8.3</td>\n",
              "      <td>0</td>\n",
              "      <td>APROVADO</td>\n",
              "      <td>ANDREY PEREIRA DE OLIVEIRA</td>\n",
              "      <td>LET0615</td>\n",
              "      <td>GRADUAÇÃO</td>\n",
              "      <td>LITERATURA BRASILEIRA: DAS ORIGENS AO ROMANTISMO</td>\n",
              "      <td>41</td>\n",
              "      <td>2M3456</td>\n",
              "      <td>True</td>\n",
              "      <td>False</td>\n",
              "      <td>2020.6</td>\n",
              "    </tr>\n",
              "    <tr>\n",
              "      <th>1982537</th>\n",
              "      <td>51177</td>\n",
              "      <td>6ff513d319c0c2f295aee41bc1832627</td>\n",
              "      <td>64347</td>\n",
              "      <td>1</td>\n",
              "      <td>8.0</td>\n",
              "      <td>False</td>\n",
              "      <td>0</td>\n",
              "      <td>8.3</td>\n",
              "      <td>0</td>\n",
              "      <td>APROVADO</td>\n",
              "      <td>ANDREY PEREIRA DE OLIVEIRA</td>\n",
              "      <td>LET0615</td>\n",
              "      <td>GRADUAÇÃO</td>\n",
              "      <td>LITERATURA BRASILEIRA: DAS ORIGENS AO ROMANTISMO</td>\n",
              "      <td>41</td>\n",
              "      <td>2M3456</td>\n",
              "      <td>True</td>\n",
              "      <td>False</td>\n",
              "      <td>2020.6</td>\n",
              "    </tr>\n",
              "  </tbody>\n",
              "</table>\n",
              "<p>1982538 rows × 19 columns</p>\n",
              "</div>\n",
              "      <button class=\"colab-df-convert\" onclick=\"convertToInteractive('df-aa68febb-954b-4752-9d9e-b19a9ea49e8b')\"\n",
              "              title=\"Convert this dataframe to an interactive table.\"\n",
              "              style=\"display:none;\">\n",
              "        \n",
              "  <svg xmlns=\"http://www.w3.org/2000/svg\" height=\"24px\"viewBox=\"0 0 24 24\"\n",
              "       width=\"24px\">\n",
              "    <path d=\"M0 0h24v24H0V0z\" fill=\"none\"/>\n",
              "    <path d=\"M18.56 5.44l.94 2.06.94-2.06 2.06-.94-2.06-.94-.94-2.06-.94 2.06-2.06.94zm-11 1L8.5 8.5l.94-2.06 2.06-.94-2.06-.94L8.5 2.5l-.94 2.06-2.06.94zm10 10l.94 2.06.94-2.06 2.06-.94-2.06-.94-.94-2.06-.94 2.06-2.06.94z\"/><path d=\"M17.41 7.96l-1.37-1.37c-.4-.4-.92-.59-1.43-.59-.52 0-1.04.2-1.43.59L10.3 9.45l-7.72 7.72c-.78.78-.78 2.05 0 2.83L4 21.41c.39.39.9.59 1.41.59.51 0 1.02-.2 1.41-.59l7.78-7.78 2.81-2.81c.8-.78.8-2.07 0-2.86zM5.41 20L4 18.59l7.72-7.72 1.47 1.35L5.41 20z\"/>\n",
              "  </svg>\n",
              "      </button>\n",
              "      \n",
              "  <style>\n",
              "    .colab-df-container {\n",
              "      display:flex;\n",
              "      flex-wrap:wrap;\n",
              "      gap: 12px;\n",
              "    }\n",
              "\n",
              "    .colab-df-convert {\n",
              "      background-color: #E8F0FE;\n",
              "      border: none;\n",
              "      border-radius: 50%;\n",
              "      cursor: pointer;\n",
              "      display: none;\n",
              "      fill: #1967D2;\n",
              "      height: 32px;\n",
              "      padding: 0 0 0 0;\n",
              "      width: 32px;\n",
              "    }\n",
              "\n",
              "    .colab-df-convert:hover {\n",
              "      background-color: #E2EBFA;\n",
              "      box-shadow: 0px 1px 2px rgba(60, 64, 67, 0.3), 0px 1px 3px 1px rgba(60, 64, 67, 0.15);\n",
              "      fill: #174EA6;\n",
              "    }\n",
              "\n",
              "    [theme=dark] .colab-df-convert {\n",
              "      background-color: #3B4455;\n",
              "      fill: #D2E3FC;\n",
              "    }\n",
              "\n",
              "    [theme=dark] .colab-df-convert:hover {\n",
              "      background-color: #434B5C;\n",
              "      box-shadow: 0px 1px 3px 1px rgba(0, 0, 0, 0.15);\n",
              "      filter: drop-shadow(0px 1px 2px rgba(0, 0, 0, 0.3));\n",
              "      fill: #FFFFFF;\n",
              "    }\n",
              "  </style>\n",
              "\n",
              "      <script>\n",
              "        const buttonEl =\n",
              "          document.querySelector('#df-aa68febb-954b-4752-9d9e-b19a9ea49e8b button.colab-df-convert');\n",
              "        buttonEl.style.display =\n",
              "          google.colab.kernel.accessAllowed ? 'block' : 'none';\n",
              "\n",
              "        async function convertToInteractive(key) {\n",
              "          const element = document.querySelector('#df-aa68febb-954b-4752-9d9e-b19a9ea49e8b');\n",
              "          const dataTable =\n",
              "            await google.colab.kernel.invokeFunction('convertToInteractive',\n",
              "                                                     [key], {});\n",
              "          if (!dataTable) return;\n",
              "\n",
              "          const docLinkHtml = 'Like what you see? Visit the ' +\n",
              "            '<a target=\"_blank\" href=https://colab.research.google.com/notebooks/data_table.ipynb>data table notebook</a>'\n",
              "            + ' to learn more about interactive tables.';\n",
              "          element.innerHTML = '';\n",
              "          dataTable['output_type'] = 'display_data';\n",
              "          await google.colab.output.renderOutput(dataTable, element);\n",
              "          const docLink = document.createElement('div');\n",
              "          docLink.innerHTML = docLinkHtml;\n",
              "          element.appendChild(docLink);\n",
              "        }\n",
              "      </script>\n",
              "    </div>\n",
              "  </div>\n",
              "  "
            ],
            "text/plain": [
              "         id_turma                          discente  ...  reprovadoporfalta  semestre\n",
              "0            9902  150f06d25dfafd2ac87b2a49b8fb49b1  ...              False    2018.1\n",
              "1            9902  150f06d25dfafd2ac87b2a49b8fb49b1  ...              False    2018.1\n",
              "2            9902  150f06d25dfafd2ac87b2a49b8fb49b1  ...              False    2018.1\n",
              "3            9902  46f9540cc15333e6ec97dfd8e69120a5  ...              False    2018.1\n",
              "4            9902  46f9540cc15333e6ec97dfd8e69120a5  ...              False    2018.1\n",
              "...           ...                               ...  ...                ...       ...\n",
              "1982533     51177  38739ed2f2c78b62a97d159296aada97  ...              False    2020.6\n",
              "1982534     51177  38739ed2f2c78b62a97d159296aada97  ...              False    2020.6\n",
              "1982535     51177  6ff513d319c0c2f295aee41bc1832627  ...              False    2020.6\n",
              "1982536     51177  6ff513d319c0c2f295aee41bc1832627  ...              False    2020.6\n",
              "1982537     51177  6ff513d319c0c2f295aee41bc1832627  ...              False    2020.6\n",
              "\n",
              "[1982538 rows x 19 columns]"
            ]
          },
          "metadata": {},
          "execution_count": 28
        },
        {
          "output_type": "stream",
          "name": "stdout",
          "text": [
            "Warning: total number of rows (1982538) exceeds max_rows (20000). Limiting to first (20000) rows.\n"
          ]
        }
      ]
    },
    {
      "cell_type": "code",
      "source": [
        "dfc = df[['discente', 'unidade', 'nota', 'media_final','aprovado', 'reposicao', 'reprovadoporfalta', 'numero_total_faltas', 'descricao','nivel_ensino', 'id_turma', 'codigo', 'disciplina', 'docente','semestre']]"
      ],
      "metadata": {
        "id": "ZHWwhjNH4IIu"
      },
      "execution_count": 29,
      "outputs": []
    },
    {
      "cell_type": "code",
      "source": [
        "dfc"
      ],
      "metadata": {
        "colab": {
          "base_uri": "https://localhost:8080/",
          "height": 1086
        },
        "id": "pjtEsTGVGnMY",
        "outputId": "47d4faa2-53f7-4ec5-e4f8-7b0cd68e1fe0"
      },
      "execution_count": 30,
      "outputs": [
        {
          "output_type": "execute_result",
          "data": {
            "text/html": [
              "\n",
              "  <div id=\"df-58869c16-47e0-492d-95d6-8566ccc40639\">\n",
              "    <div class=\"colab-df-container\">\n",
              "      <div>\n",
              "<style scoped>\n",
              "    .dataframe tbody tr th:only-of-type {\n",
              "        vertical-align: middle;\n",
              "    }\n",
              "\n",
              "    .dataframe tbody tr th {\n",
              "        vertical-align: top;\n",
              "    }\n",
              "\n",
              "    .dataframe thead th {\n",
              "        text-align: right;\n",
              "    }\n",
              "</style>\n",
              "<table border=\"1\" class=\"dataframe\">\n",
              "  <thead>\n",
              "    <tr style=\"text-align: right;\">\n",
              "      <th></th>\n",
              "      <th>discente</th>\n",
              "      <th>unidade</th>\n",
              "      <th>nota</th>\n",
              "      <th>media_final</th>\n",
              "      <th>aprovado</th>\n",
              "      <th>reposicao</th>\n",
              "      <th>reprovadoporfalta</th>\n",
              "      <th>numero_total_faltas</th>\n",
              "      <th>descricao</th>\n",
              "      <th>nivel_ensino</th>\n",
              "      <th>id_turma</th>\n",
              "      <th>codigo</th>\n",
              "      <th>disciplina</th>\n",
              "      <th>docente</th>\n",
              "      <th>semestre</th>\n",
              "    </tr>\n",
              "  </thead>\n",
              "  <tbody>\n",
              "    <tr>\n",
              "      <th>0</th>\n",
              "      <td>150f06d25dfafd2ac87b2a49b8fb49b1</td>\n",
              "      <td>1</td>\n",
              "      <td>10.0</td>\n",
              "      <td>7.7</td>\n",
              "      <td>True</td>\n",
              "      <td>False</td>\n",
              "      <td>False</td>\n",
              "      <td>0</td>\n",
              "      <td>APROVADO</td>\n",
              "      <td>GRADUAÇÃO</td>\n",
              "      <td>9902</td>\n",
              "      <td>CSH8917</td>\n",
              "      <td>TEORIA GERAL DA ADMINISTRAÇÃO</td>\n",
              "      <td>ANDREA CRISTINA SANTOS DE JESUS</td>\n",
              "      <td>2018.1</td>\n",
              "    </tr>\n",
              "    <tr>\n",
              "      <th>1</th>\n",
              "      <td>150f06d25dfafd2ac87b2a49b8fb49b1</td>\n",
              "      <td>2</td>\n",
              "      <td>6.0</td>\n",
              "      <td>7.7</td>\n",
              "      <td>True</td>\n",
              "      <td>False</td>\n",
              "      <td>False</td>\n",
              "      <td>0</td>\n",
              "      <td>APROVADO</td>\n",
              "      <td>GRADUAÇÃO</td>\n",
              "      <td>9902</td>\n",
              "      <td>CSH8917</td>\n",
              "      <td>TEORIA GERAL DA ADMINISTRAÇÃO</td>\n",
              "      <td>ANDREA CRISTINA SANTOS DE JESUS</td>\n",
              "      <td>2018.1</td>\n",
              "    </tr>\n",
              "    <tr>\n",
              "      <th>2</th>\n",
              "      <td>150f06d25dfafd2ac87b2a49b8fb49b1</td>\n",
              "      <td>3</td>\n",
              "      <td>7.0</td>\n",
              "      <td>7.7</td>\n",
              "      <td>True</td>\n",
              "      <td>False</td>\n",
              "      <td>False</td>\n",
              "      <td>0</td>\n",
              "      <td>APROVADO</td>\n",
              "      <td>GRADUAÇÃO</td>\n",
              "      <td>9902</td>\n",
              "      <td>CSH8917</td>\n",
              "      <td>TEORIA GERAL DA ADMINISTRAÇÃO</td>\n",
              "      <td>ANDREA CRISTINA SANTOS DE JESUS</td>\n",
              "      <td>2018.1</td>\n",
              "    </tr>\n",
              "    <tr>\n",
              "      <th>3</th>\n",
              "      <td>46f9540cc15333e6ec97dfd8e69120a5</td>\n",
              "      <td>1</td>\n",
              "      <td>0.0</td>\n",
              "      <td>0.0</td>\n",
              "      <td>False</td>\n",
              "      <td>False</td>\n",
              "      <td>False</td>\n",
              "      <td>0</td>\n",
              "      <td>REPROVADO</td>\n",
              "      <td>GRADUAÇÃO</td>\n",
              "      <td>9902</td>\n",
              "      <td>CSH8917</td>\n",
              "      <td>TEORIA GERAL DA ADMINISTRAÇÃO</td>\n",
              "      <td>ANDREA CRISTINA SANTOS DE JESUS</td>\n",
              "      <td>2018.1</td>\n",
              "    </tr>\n",
              "    <tr>\n",
              "      <th>4</th>\n",
              "      <td>46f9540cc15333e6ec97dfd8e69120a5</td>\n",
              "      <td>2</td>\n",
              "      <td>0.0</td>\n",
              "      <td>0.0</td>\n",
              "      <td>False</td>\n",
              "      <td>False</td>\n",
              "      <td>False</td>\n",
              "      <td>0</td>\n",
              "      <td>REPROVADO</td>\n",
              "      <td>GRADUAÇÃO</td>\n",
              "      <td>9902</td>\n",
              "      <td>CSH8917</td>\n",
              "      <td>TEORIA GERAL DA ADMINISTRAÇÃO</td>\n",
              "      <td>ANDREA CRISTINA SANTOS DE JESUS</td>\n",
              "      <td>2018.1</td>\n",
              "    </tr>\n",
              "    <tr>\n",
              "      <th>...</th>\n",
              "      <td>...</td>\n",
              "      <td>...</td>\n",
              "      <td>...</td>\n",
              "      <td>...</td>\n",
              "      <td>...</td>\n",
              "      <td>...</td>\n",
              "      <td>...</td>\n",
              "      <td>...</td>\n",
              "      <td>...</td>\n",
              "      <td>...</td>\n",
              "      <td>...</td>\n",
              "      <td>...</td>\n",
              "      <td>...</td>\n",
              "      <td>...</td>\n",
              "      <td>...</td>\n",
              "    </tr>\n",
              "    <tr>\n",
              "      <th>1982533</th>\n",
              "      <td>38739ed2f2c78b62a97d159296aada97</td>\n",
              "      <td>1</td>\n",
              "      <td>0.0</td>\n",
              "      <td>0.0</td>\n",
              "      <td>False</td>\n",
              "      <td>False</td>\n",
              "      <td>False</td>\n",
              "      <td>0</td>\n",
              "      <td>REPROVADO</td>\n",
              "      <td>GRADUAÇÃO</td>\n",
              "      <td>51177</td>\n",
              "      <td>LET0615</td>\n",
              "      <td>LITERATURA BRASILEIRA: DAS ORIGENS AO ROMANTISMO</td>\n",
              "      <td>ANDREY PEREIRA DE OLIVEIRA</td>\n",
              "      <td>2020.6</td>\n",
              "    </tr>\n",
              "    <tr>\n",
              "      <th>1982534</th>\n",
              "      <td>38739ed2f2c78b62a97d159296aada97</td>\n",
              "      <td>2</td>\n",
              "      <td>0.0</td>\n",
              "      <td>0.0</td>\n",
              "      <td>False</td>\n",
              "      <td>False</td>\n",
              "      <td>False</td>\n",
              "      <td>0</td>\n",
              "      <td>REPROVADO</td>\n",
              "      <td>GRADUAÇÃO</td>\n",
              "      <td>51177</td>\n",
              "      <td>LET0615</td>\n",
              "      <td>LITERATURA BRASILEIRA: DAS ORIGENS AO ROMANTISMO</td>\n",
              "      <td>ANDREY PEREIRA DE OLIVEIRA</td>\n",
              "      <td>2020.6</td>\n",
              "    </tr>\n",
              "    <tr>\n",
              "      <th>1982535</th>\n",
              "      <td>6ff513d319c0c2f295aee41bc1832627</td>\n",
              "      <td>2</td>\n",
              "      <td>8.5</td>\n",
              "      <td>8.3</td>\n",
              "      <td>True</td>\n",
              "      <td>False</td>\n",
              "      <td>False</td>\n",
              "      <td>0</td>\n",
              "      <td>APROVADO</td>\n",
              "      <td>GRADUAÇÃO</td>\n",
              "      <td>51177</td>\n",
              "      <td>LET0615</td>\n",
              "      <td>LITERATURA BRASILEIRA: DAS ORIGENS AO ROMANTISMO</td>\n",
              "      <td>ANDREY PEREIRA DE OLIVEIRA</td>\n",
              "      <td>2020.6</td>\n",
              "    </tr>\n",
              "    <tr>\n",
              "      <th>1982536</th>\n",
              "      <td>6ff513d319c0c2f295aee41bc1832627</td>\n",
              "      <td>3</td>\n",
              "      <td>8.3</td>\n",
              "      <td>8.3</td>\n",
              "      <td>True</td>\n",
              "      <td>False</td>\n",
              "      <td>False</td>\n",
              "      <td>0</td>\n",
              "      <td>APROVADO</td>\n",
              "      <td>GRADUAÇÃO</td>\n",
              "      <td>51177</td>\n",
              "      <td>LET0615</td>\n",
              "      <td>LITERATURA BRASILEIRA: DAS ORIGENS AO ROMANTISMO</td>\n",
              "      <td>ANDREY PEREIRA DE OLIVEIRA</td>\n",
              "      <td>2020.6</td>\n",
              "    </tr>\n",
              "    <tr>\n",
              "      <th>1982537</th>\n",
              "      <td>6ff513d319c0c2f295aee41bc1832627</td>\n",
              "      <td>1</td>\n",
              "      <td>8.0</td>\n",
              "      <td>8.3</td>\n",
              "      <td>True</td>\n",
              "      <td>False</td>\n",
              "      <td>False</td>\n",
              "      <td>0</td>\n",
              "      <td>APROVADO</td>\n",
              "      <td>GRADUAÇÃO</td>\n",
              "      <td>51177</td>\n",
              "      <td>LET0615</td>\n",
              "      <td>LITERATURA BRASILEIRA: DAS ORIGENS AO ROMANTISMO</td>\n",
              "      <td>ANDREY PEREIRA DE OLIVEIRA</td>\n",
              "      <td>2020.6</td>\n",
              "    </tr>\n",
              "  </tbody>\n",
              "</table>\n",
              "<p>1982538 rows × 15 columns</p>\n",
              "</div>\n",
              "      <button class=\"colab-df-convert\" onclick=\"convertToInteractive('df-58869c16-47e0-492d-95d6-8566ccc40639')\"\n",
              "              title=\"Convert this dataframe to an interactive table.\"\n",
              "              style=\"display:none;\">\n",
              "        \n",
              "  <svg xmlns=\"http://www.w3.org/2000/svg\" height=\"24px\"viewBox=\"0 0 24 24\"\n",
              "       width=\"24px\">\n",
              "    <path d=\"M0 0h24v24H0V0z\" fill=\"none\"/>\n",
              "    <path d=\"M18.56 5.44l.94 2.06.94-2.06 2.06-.94-2.06-.94-.94-2.06-.94 2.06-2.06.94zm-11 1L8.5 8.5l.94-2.06 2.06-.94-2.06-.94L8.5 2.5l-.94 2.06-2.06.94zm10 10l.94 2.06.94-2.06 2.06-.94-2.06-.94-.94-2.06-.94 2.06-2.06.94z\"/><path d=\"M17.41 7.96l-1.37-1.37c-.4-.4-.92-.59-1.43-.59-.52 0-1.04.2-1.43.59L10.3 9.45l-7.72 7.72c-.78.78-.78 2.05 0 2.83L4 21.41c.39.39.9.59 1.41.59.51 0 1.02-.2 1.41-.59l7.78-7.78 2.81-2.81c.8-.78.8-2.07 0-2.86zM5.41 20L4 18.59l7.72-7.72 1.47 1.35L5.41 20z\"/>\n",
              "  </svg>\n",
              "      </button>\n",
              "      \n",
              "  <style>\n",
              "    .colab-df-container {\n",
              "      display:flex;\n",
              "      flex-wrap:wrap;\n",
              "      gap: 12px;\n",
              "    }\n",
              "\n",
              "    .colab-df-convert {\n",
              "      background-color: #E8F0FE;\n",
              "      border: none;\n",
              "      border-radius: 50%;\n",
              "      cursor: pointer;\n",
              "      display: none;\n",
              "      fill: #1967D2;\n",
              "      height: 32px;\n",
              "      padding: 0 0 0 0;\n",
              "      width: 32px;\n",
              "    }\n",
              "\n",
              "    .colab-df-convert:hover {\n",
              "      background-color: #E2EBFA;\n",
              "      box-shadow: 0px 1px 2px rgba(60, 64, 67, 0.3), 0px 1px 3px 1px rgba(60, 64, 67, 0.15);\n",
              "      fill: #174EA6;\n",
              "    }\n",
              "\n",
              "    [theme=dark] .colab-df-convert {\n",
              "      background-color: #3B4455;\n",
              "      fill: #D2E3FC;\n",
              "    }\n",
              "\n",
              "    [theme=dark] .colab-df-convert:hover {\n",
              "      background-color: #434B5C;\n",
              "      box-shadow: 0px 1px 3px 1px rgba(0, 0, 0, 0.15);\n",
              "      filter: drop-shadow(0px 1px 2px rgba(0, 0, 0, 0.3));\n",
              "      fill: #FFFFFF;\n",
              "    }\n",
              "  </style>\n",
              "\n",
              "      <script>\n",
              "        const buttonEl =\n",
              "          document.querySelector('#df-58869c16-47e0-492d-95d6-8566ccc40639 button.colab-df-convert');\n",
              "        buttonEl.style.display =\n",
              "          google.colab.kernel.accessAllowed ? 'block' : 'none';\n",
              "\n",
              "        async function convertToInteractive(key) {\n",
              "          const element = document.querySelector('#df-58869c16-47e0-492d-95d6-8566ccc40639');\n",
              "          const dataTable =\n",
              "            await google.colab.kernel.invokeFunction('convertToInteractive',\n",
              "                                                     [key], {});\n",
              "          if (!dataTable) return;\n",
              "\n",
              "          const docLinkHtml = 'Like what you see? Visit the ' +\n",
              "            '<a target=\"_blank\" href=https://colab.research.google.com/notebooks/data_table.ipynb>data table notebook</a>'\n",
              "            + ' to learn more about interactive tables.';\n",
              "          element.innerHTML = '';\n",
              "          dataTable['output_type'] = 'display_data';\n",
              "          await google.colab.output.renderOutput(dataTable, element);\n",
              "          const docLink = document.createElement('div');\n",
              "          docLink.innerHTML = docLinkHtml;\n",
              "          element.appendChild(docLink);\n",
              "        }\n",
              "      </script>\n",
              "    </div>\n",
              "  </div>\n",
              "  "
            ],
            "text/plain": [
              "                                 discente  ...  semestre\n",
              "0        150f06d25dfafd2ac87b2a49b8fb49b1  ...    2018.1\n",
              "1        150f06d25dfafd2ac87b2a49b8fb49b1  ...    2018.1\n",
              "2        150f06d25dfafd2ac87b2a49b8fb49b1  ...    2018.1\n",
              "3        46f9540cc15333e6ec97dfd8e69120a5  ...    2018.1\n",
              "4        46f9540cc15333e6ec97dfd8e69120a5  ...    2018.1\n",
              "...                                   ...  ...       ...\n",
              "1982533  38739ed2f2c78b62a97d159296aada97  ...    2020.6\n",
              "1982534  38739ed2f2c78b62a97d159296aada97  ...    2020.6\n",
              "1982535  6ff513d319c0c2f295aee41bc1832627  ...    2020.6\n",
              "1982536  6ff513d319c0c2f295aee41bc1832627  ...    2020.6\n",
              "1982537  6ff513d319c0c2f295aee41bc1832627  ...    2020.6\n",
              "\n",
              "[1982538 rows x 15 columns]"
            ]
          },
          "metadata": {},
          "execution_count": 30
        },
        {
          "output_type": "stream",
          "name": "stdout",
          "text": [
            "Warning: total number of rows (1982538) exceeds max_rows (20000). Limiting to first (20000) rows.\n"
          ]
        }
      ]
    },
    {
      "cell_type": "code",
      "source": [
        "dfc.descricao.unique()"
      ],
      "metadata": {
        "id": "sSRB896TVX_a",
        "colab": {
          "base_uri": "https://localhost:8080/"
        },
        "outputId": "1b75498b-becf-4cab-e426-f458a829e270"
      },
      "execution_count": 31,
      "outputs": [
        {
          "output_type": "execute_result",
          "data": {
            "text/plain": [
              "array(['APROVADO', 'REPROVADO', 'REPROVADO POR NOTA',\n",
              "       'REPROVADO POR MÉDIA E POR FALTAS', 'APROVADO POR NOTA',\n",
              "       'CANCELADO', 'REPROVADO POR FALTAS', 'EXCLUIDA',\n",
              "       'REPROVADO POR NOTA E FALTA', 'TRANCADO', 'DESISTENCIA',\n",
              "       'DISPENSADO', 'EM ESPERA', 'CUMPRIU', 'AGUARDANDO DEFERIMENTO'],\n",
              "      dtype=object)"
            ]
          },
          "metadata": {},
          "execution_count": 31
        }
      ]
    },
    {
      "cell_type": "code",
      "source": [
        "dfc = dfc[dfc[\"descricao\"] != \"INDEFERIDO\"]\n",
        "dfc = dfc[dfc[\"descricao\"] != \"EXCLUIDA\"]\n",
        "dfc = dfc[dfc[\"descricao\"] != \"TRANCADO\"]\n",
        "dfc = dfc[dfc[\"descricao\"] != \"CANCELADO\"]\n",
        "dfc = dfc[dfc[\"descricao\"] != \"DESISTENCIA\"]\n",
        "dfc = dfc[dfc[\"descricao\"] != \"AGUARDANDO DEFERIMENTO\"]\n",
        "dfc = dfc[dfc[\"descricao\"] != \"CUMPRIU\"]\n",
        "dfc = dfc[dfc[\"descricao\"] != \"EM ESPERA\"]\n",
        "dfc = dfc[dfc[\"descricao\"] != \"DISPENSADO\"]"
      ],
      "metadata": {
        "id": "4saKZ6riU5yS"
      },
      "execution_count": 32,
      "outputs": []
    },
    {
      "cell_type": "code",
      "source": [
        "dfc = dfc[dfc[\"nivel_ensino\"] == \"GRADUAÇÃO\"]"
      ],
      "metadata": {
        "id": "tfFBe7pwj9Br"
      },
      "execution_count": 33,
      "outputs": []
    },
    {
      "cell_type": "code",
      "source": [
        "dfc.to_csv(\"dfc.csv\")"
      ],
      "metadata": {
        "id": "04wvAwTfgayk"
      },
      "execution_count": 34,
      "outputs": []
    },
    {
      "cell_type": "code",
      "source": [
        "filtrados = dfc\n",
        "filtrados = filtrados.loc[filtrados['disciplina'] == 'INTRODUÇÃO ÀS TÉCNICAS DE PROGRAMAÇÃO']\n",
        "rotulos_filtrados = filtrados.apply(matematicamentereprovado, axis = 1)\n",
        "filtrados[\"reprovadomatematicamente\"] = rotulos_filtrados\n",
        "\n",
        "base_final = filtrados.loc[filtrados['reprovadomatematicamente'] == False]"
      ],
      "metadata": {
        "id": "j-sO0UDc-eQe"
      },
      "execution_count": 35,
      "outputs": []
    },
    {
      "cell_type": "code",
      "source": [
        "excluidos = filtrados.loc[filtrados['reprovadomatematicamente'] == True]"
      ],
      "metadata": {
        "id": "bEwYD6gISX7Z"
      },
      "execution_count": 36,
      "outputs": []
    },
    {
      "cell_type": "code",
      "source": [
        "excluidos"
      ],
      "metadata": {
        "id": "V8Fz7TneSbjt",
        "colab": {
          "base_uri": "https://localhost:8080/",
          "height": 1482
        },
        "outputId": "9c7f33a1-b2ca-4557-cb57-52cbf42b7a00"
      },
      "execution_count": 37,
      "outputs": [
        {
          "output_type": "execute_result",
          "data": {
            "text/html": [
              "\n",
              "  <div id=\"df-5ccfc549-07ba-4c3f-9ecd-5e776db4ec4a\">\n",
              "    <div class=\"colab-df-container\">\n",
              "      <div>\n",
              "<style scoped>\n",
              "    .dataframe tbody tr th:only-of-type {\n",
              "        vertical-align: middle;\n",
              "    }\n",
              "\n",
              "    .dataframe tbody tr th {\n",
              "        vertical-align: top;\n",
              "    }\n",
              "\n",
              "    .dataframe thead th {\n",
              "        text-align: right;\n",
              "    }\n",
              "</style>\n",
              "<table border=\"1\" class=\"dataframe\">\n",
              "  <thead>\n",
              "    <tr style=\"text-align: right;\">\n",
              "      <th></th>\n",
              "      <th>discente</th>\n",
              "      <th>unidade</th>\n",
              "      <th>nota</th>\n",
              "      <th>media_final</th>\n",
              "      <th>aprovado</th>\n",
              "      <th>reposicao</th>\n",
              "      <th>reprovadoporfalta</th>\n",
              "      <th>numero_total_faltas</th>\n",
              "      <th>descricao</th>\n",
              "      <th>nivel_ensino</th>\n",
              "      <th>id_turma</th>\n",
              "      <th>codigo</th>\n",
              "      <th>disciplina</th>\n",
              "      <th>docente</th>\n",
              "      <th>semestre</th>\n",
              "      <th>reprovadomatematicamente</th>\n",
              "    </tr>\n",
              "  </thead>\n",
              "  <tbody>\n",
              "    <tr>\n",
              "      <th>152557</th>\n",
              "      <td>7448bbfeb9b87ec12bbb49b0c0e87e7d</td>\n",
              "      <td>1</td>\n",
              "      <td>0.0</td>\n",
              "      <td>0.0</td>\n",
              "      <td>False</td>\n",
              "      <td>False</td>\n",
              "      <td>True</td>\n",
              "      <td>55</td>\n",
              "      <td>REPROVADO POR MÉDIA E POR FALTAS</td>\n",
              "      <td>GRADUAÇÃO</td>\n",
              "      <td>7902</td>\n",
              "      <td>DIM0118.0</td>\n",
              "      <td>INTRODUÇÃO ÀS TÉCNICAS DE PROGRAMAÇÃO</td>\n",
              "      <td>RAFAEL BESERRA GOMES</td>\n",
              "      <td>2018.1</td>\n",
              "      <td>True</td>\n",
              "    </tr>\n",
              "    <tr>\n",
              "      <th>152558</th>\n",
              "      <td>7448bbfeb9b87ec12bbb49b0c0e87e7d</td>\n",
              "      <td>2</td>\n",
              "      <td>0.0</td>\n",
              "      <td>0.0</td>\n",
              "      <td>False</td>\n",
              "      <td>False</td>\n",
              "      <td>True</td>\n",
              "      <td>55</td>\n",
              "      <td>REPROVADO POR MÉDIA E POR FALTAS</td>\n",
              "      <td>GRADUAÇÃO</td>\n",
              "      <td>7902</td>\n",
              "      <td>DIM0118.0</td>\n",
              "      <td>INTRODUÇÃO ÀS TÉCNICAS DE PROGRAMAÇÃO</td>\n",
              "      <td>RAFAEL BESERRA GOMES</td>\n",
              "      <td>2018.1</td>\n",
              "      <td>True</td>\n",
              "    </tr>\n",
              "    <tr>\n",
              "      <th>152559</th>\n",
              "      <td>7448bbfeb9b87ec12bbb49b0c0e87e7d</td>\n",
              "      <td>3</td>\n",
              "      <td>0.0</td>\n",
              "      <td>0.0</td>\n",
              "      <td>False</td>\n",
              "      <td>False</td>\n",
              "      <td>True</td>\n",
              "      <td>55</td>\n",
              "      <td>REPROVADO POR MÉDIA E POR FALTAS</td>\n",
              "      <td>GRADUAÇÃO</td>\n",
              "      <td>7902</td>\n",
              "      <td>DIM0118.0</td>\n",
              "      <td>INTRODUÇÃO ÀS TÉCNICAS DE PROGRAMAÇÃO</td>\n",
              "      <td>RAFAEL BESERRA GOMES</td>\n",
              "      <td>2018.1</td>\n",
              "      <td>True</td>\n",
              "    </tr>\n",
              "    <tr>\n",
              "      <th>152623</th>\n",
              "      <td>22c17fcdde44072a52cbc8add9822411</td>\n",
              "      <td>1</td>\n",
              "      <td>8.9</td>\n",
              "      <td>3.9</td>\n",
              "      <td>False</td>\n",
              "      <td>False</td>\n",
              "      <td>True</td>\n",
              "      <td>48</td>\n",
              "      <td>REPROVADO POR MÉDIA E POR FALTAS</td>\n",
              "      <td>GRADUAÇÃO</td>\n",
              "      <td>7902</td>\n",
              "      <td>DIM0118.0</td>\n",
              "      <td>INTRODUÇÃO ÀS TÉCNICAS DE PROGRAMAÇÃO</td>\n",
              "      <td>RAFAEL BESERRA GOMES</td>\n",
              "      <td>2018.1</td>\n",
              "      <td>True</td>\n",
              "    </tr>\n",
              "    <tr>\n",
              "      <th>152624</th>\n",
              "      <td>22c17fcdde44072a52cbc8add9822411</td>\n",
              "      <td>2</td>\n",
              "      <td>2.9</td>\n",
              "      <td>3.9</td>\n",
              "      <td>False</td>\n",
              "      <td>False</td>\n",
              "      <td>True</td>\n",
              "      <td>48</td>\n",
              "      <td>REPROVADO POR MÉDIA E POR FALTAS</td>\n",
              "      <td>GRADUAÇÃO</td>\n",
              "      <td>7902</td>\n",
              "      <td>DIM0118.0</td>\n",
              "      <td>INTRODUÇÃO ÀS TÉCNICAS DE PROGRAMAÇÃO</td>\n",
              "      <td>RAFAEL BESERRA GOMES</td>\n",
              "      <td>2018.1</td>\n",
              "      <td>True</td>\n",
              "    </tr>\n",
              "    <tr>\n",
              "      <th>...</th>\n",
              "      <td>...</td>\n",
              "      <td>...</td>\n",
              "      <td>...</td>\n",
              "      <td>...</td>\n",
              "      <td>...</td>\n",
              "      <td>...</td>\n",
              "      <td>...</td>\n",
              "      <td>...</td>\n",
              "      <td>...</td>\n",
              "      <td>...</td>\n",
              "      <td>...</td>\n",
              "      <td>...</td>\n",
              "      <td>...</td>\n",
              "      <td>...</td>\n",
              "      <td>...</td>\n",
              "      <td>...</td>\n",
              "    </tr>\n",
              "    <tr>\n",
              "      <th>1733222</th>\n",
              "      <td>70fbf2794c50774bd667207c60e4f71b</td>\n",
              "      <td>2</td>\n",
              "      <td>0.9</td>\n",
              "      <td>0.6</td>\n",
              "      <td>False</td>\n",
              "      <td>False</td>\n",
              "      <td>True</td>\n",
              "      <td>70</td>\n",
              "      <td>REPROVADO POR MÉDIA E POR FALTAS</td>\n",
              "      <td>GRADUAÇÃO</td>\n",
              "      <td>58432</td>\n",
              "      <td>IMD1012</td>\n",
              "      <td>INTRODUÇÃO ÀS TÉCNICAS DE PROGRAMAÇÃO</td>\n",
              "      <td>WELLINGTON SILVA DE SOUZA</td>\n",
              "      <td>2020.6</td>\n",
              "      <td>True</td>\n",
              "    </tr>\n",
              "    <tr>\n",
              "      <th>1733223</th>\n",
              "      <td>70fbf2794c50774bd667207c60e4f71b</td>\n",
              "      <td>1</td>\n",
              "      <td>0.9</td>\n",
              "      <td>0.6</td>\n",
              "      <td>False</td>\n",
              "      <td>False</td>\n",
              "      <td>True</td>\n",
              "      <td>70</td>\n",
              "      <td>REPROVADO POR MÉDIA E POR FALTAS</td>\n",
              "      <td>GRADUAÇÃO</td>\n",
              "      <td>58432</td>\n",
              "      <td>IMD1012</td>\n",
              "      <td>INTRODUÇÃO ÀS TÉCNICAS DE PROGRAMAÇÃO</td>\n",
              "      <td>WELLINGTON SILVA DE SOUZA</td>\n",
              "      <td>2020.6</td>\n",
              "      <td>True</td>\n",
              "    </tr>\n",
              "    <tr>\n",
              "      <th>1733236</th>\n",
              "      <td>6043307418e036ae8e52936a7a0f7a68</td>\n",
              "      <td>1</td>\n",
              "      <td>3.9</td>\n",
              "      <td>4.0</td>\n",
              "      <td>False</td>\n",
              "      <td>False</td>\n",
              "      <td>True</td>\n",
              "      <td>32</td>\n",
              "      <td>REPROVADO POR MÉDIA E POR FALTAS</td>\n",
              "      <td>GRADUAÇÃO</td>\n",
              "      <td>58432</td>\n",
              "      <td>IMD1012</td>\n",
              "      <td>INTRODUÇÃO ÀS TÉCNICAS DE PROGRAMAÇÃO</td>\n",
              "      <td>WELLINGTON SILVA DE SOUZA</td>\n",
              "      <td>2020.6</td>\n",
              "      <td>True</td>\n",
              "    </tr>\n",
              "    <tr>\n",
              "      <th>1733237</th>\n",
              "      <td>6043307418e036ae8e52936a7a0f7a68</td>\n",
              "      <td>3</td>\n",
              "      <td>4.1</td>\n",
              "      <td>4.0</td>\n",
              "      <td>False</td>\n",
              "      <td>False</td>\n",
              "      <td>True</td>\n",
              "      <td>32</td>\n",
              "      <td>REPROVADO POR MÉDIA E POR FALTAS</td>\n",
              "      <td>GRADUAÇÃO</td>\n",
              "      <td>58432</td>\n",
              "      <td>IMD1012</td>\n",
              "      <td>INTRODUÇÃO ÀS TÉCNICAS DE PROGRAMAÇÃO</td>\n",
              "      <td>WELLINGTON SILVA DE SOUZA</td>\n",
              "      <td>2020.6</td>\n",
              "      <td>True</td>\n",
              "    </tr>\n",
              "    <tr>\n",
              "      <th>1733238</th>\n",
              "      <td>6043307418e036ae8e52936a7a0f7a68</td>\n",
              "      <td>2</td>\n",
              "      <td>3.9</td>\n",
              "      <td>4.0</td>\n",
              "      <td>False</td>\n",
              "      <td>False</td>\n",
              "      <td>True</td>\n",
              "      <td>32</td>\n",
              "      <td>REPROVADO POR MÉDIA E POR FALTAS</td>\n",
              "      <td>GRADUAÇÃO</td>\n",
              "      <td>58432</td>\n",
              "      <td>IMD1012</td>\n",
              "      <td>INTRODUÇÃO ÀS TÉCNICAS DE PROGRAMAÇÃO</td>\n",
              "      <td>WELLINGTON SILVA DE SOUZA</td>\n",
              "      <td>2020.6</td>\n",
              "      <td>True</td>\n",
              "    </tr>\n",
              "  </tbody>\n",
              "</table>\n",
              "<p>339 rows × 16 columns</p>\n",
              "</div>\n",
              "      <button class=\"colab-df-convert\" onclick=\"convertToInteractive('df-5ccfc549-07ba-4c3f-9ecd-5e776db4ec4a')\"\n",
              "              title=\"Convert this dataframe to an interactive table.\"\n",
              "              style=\"display:none;\">\n",
              "        \n",
              "  <svg xmlns=\"http://www.w3.org/2000/svg\" height=\"24px\"viewBox=\"0 0 24 24\"\n",
              "       width=\"24px\">\n",
              "    <path d=\"M0 0h24v24H0V0z\" fill=\"none\"/>\n",
              "    <path d=\"M18.56 5.44l.94 2.06.94-2.06 2.06-.94-2.06-.94-.94-2.06-.94 2.06-2.06.94zm-11 1L8.5 8.5l.94-2.06 2.06-.94-2.06-.94L8.5 2.5l-.94 2.06-2.06.94zm10 10l.94 2.06.94-2.06 2.06-.94-2.06-.94-.94-2.06-.94 2.06-2.06.94z\"/><path d=\"M17.41 7.96l-1.37-1.37c-.4-.4-.92-.59-1.43-.59-.52 0-1.04.2-1.43.59L10.3 9.45l-7.72 7.72c-.78.78-.78 2.05 0 2.83L4 21.41c.39.39.9.59 1.41.59.51 0 1.02-.2 1.41-.59l7.78-7.78 2.81-2.81c.8-.78.8-2.07 0-2.86zM5.41 20L4 18.59l7.72-7.72 1.47 1.35L5.41 20z\"/>\n",
              "  </svg>\n",
              "      </button>\n",
              "      \n",
              "  <style>\n",
              "    .colab-df-container {\n",
              "      display:flex;\n",
              "      flex-wrap:wrap;\n",
              "      gap: 12px;\n",
              "    }\n",
              "\n",
              "    .colab-df-convert {\n",
              "      background-color: #E8F0FE;\n",
              "      border: none;\n",
              "      border-radius: 50%;\n",
              "      cursor: pointer;\n",
              "      display: none;\n",
              "      fill: #1967D2;\n",
              "      height: 32px;\n",
              "      padding: 0 0 0 0;\n",
              "      width: 32px;\n",
              "    }\n",
              "\n",
              "    .colab-df-convert:hover {\n",
              "      background-color: #E2EBFA;\n",
              "      box-shadow: 0px 1px 2px rgba(60, 64, 67, 0.3), 0px 1px 3px 1px rgba(60, 64, 67, 0.15);\n",
              "      fill: #174EA6;\n",
              "    }\n",
              "\n",
              "    [theme=dark] .colab-df-convert {\n",
              "      background-color: #3B4455;\n",
              "      fill: #D2E3FC;\n",
              "    }\n",
              "\n",
              "    [theme=dark] .colab-df-convert:hover {\n",
              "      background-color: #434B5C;\n",
              "      box-shadow: 0px 1px 3px 1px rgba(0, 0, 0, 0.15);\n",
              "      filter: drop-shadow(0px 1px 2px rgba(0, 0, 0, 0.3));\n",
              "      fill: #FFFFFF;\n",
              "    }\n",
              "  </style>\n",
              "\n",
              "      <script>\n",
              "        const buttonEl =\n",
              "          document.querySelector('#df-5ccfc549-07ba-4c3f-9ecd-5e776db4ec4a button.colab-df-convert');\n",
              "        buttonEl.style.display =\n",
              "          google.colab.kernel.accessAllowed ? 'block' : 'none';\n",
              "\n",
              "        async function convertToInteractive(key) {\n",
              "          const element = document.querySelector('#df-5ccfc549-07ba-4c3f-9ecd-5e776db4ec4a');\n",
              "          const dataTable =\n",
              "            await google.colab.kernel.invokeFunction('convertToInteractive',\n",
              "                                                     [key], {});\n",
              "          if (!dataTable) return;\n",
              "\n",
              "          const docLinkHtml = 'Like what you see? Visit the ' +\n",
              "            '<a target=\"_blank\" href=https://colab.research.google.com/notebooks/data_table.ipynb>data table notebook</a>'\n",
              "            + ' to learn more about interactive tables.';\n",
              "          element.innerHTML = '';\n",
              "          dataTable['output_type'] = 'display_data';\n",
              "          await google.colab.output.renderOutput(dataTable, element);\n",
              "          const docLink = document.createElement('div');\n",
              "          docLink.innerHTML = docLinkHtml;\n",
              "          element.appendChild(docLink);\n",
              "        }\n",
              "      </script>\n",
              "    </div>\n",
              "  </div>\n",
              "  "
            ],
            "text/plain": [
              "                                 discente  ...  reprovadomatematicamente\n",
              "152557   7448bbfeb9b87ec12bbb49b0c0e87e7d  ...                      True\n",
              "152558   7448bbfeb9b87ec12bbb49b0c0e87e7d  ...                      True\n",
              "152559   7448bbfeb9b87ec12bbb49b0c0e87e7d  ...                      True\n",
              "152623   22c17fcdde44072a52cbc8add9822411  ...                      True\n",
              "152624   22c17fcdde44072a52cbc8add9822411  ...                      True\n",
              "...                                   ...  ...                       ...\n",
              "1733222  70fbf2794c50774bd667207c60e4f71b  ...                      True\n",
              "1733223  70fbf2794c50774bd667207c60e4f71b  ...                      True\n",
              "1733236  6043307418e036ae8e52936a7a0f7a68  ...                      True\n",
              "1733237  6043307418e036ae8e52936a7a0f7a68  ...                      True\n",
              "1733238  6043307418e036ae8e52936a7a0f7a68  ...                      True\n",
              "\n",
              "[339 rows x 16 columns]"
            ]
          },
          "metadata": {},
          "execution_count": 37
        }
      ]
    },
    {
      "cell_type": "code",
      "source": [
        "# linhas excluidas pela regra\n",
        "excluidos.size"
      ],
      "metadata": {
        "id": "7WC3sv6P6YxW",
        "colab": {
          "base_uri": "https://localhost:8080/"
        },
        "outputId": "fcae641f-479e-492c-ed76-fb17dc507023"
      },
      "execution_count": 38,
      "outputs": [
        {
          "output_type": "execute_result",
          "data": {
            "text/plain": [
              "5424"
            ]
          },
          "metadata": {},
          "execution_count": 38
        }
      ]
    },
    {
      "cell_type": "code",
      "source": [
        "# [discente, turma] excluidos pela regra\n",
        "excluidos[excluidos.duplicated(subset = [\"discente\", \"id_turma\"], keep = 'first') != True].size"
      ],
      "metadata": {
        "id": "CXWuevH-6iWd",
        "colab": {
          "base_uri": "https://localhost:8080/"
        },
        "outputId": "3fa406b6-7f56-427d-8d2d-7234f8ba8e4e"
      },
      "execution_count": 39,
      "outputs": [
        {
          "output_type": "execute_result",
          "data": {
            "text/plain": [
              "1696"
            ]
          },
          "metadata": {},
          "execution_count": 39
        }
      ]
    },
    {
      "cell_type": "code",
      "source": [
        "base_final.to_csv(\"base_final.csv\")"
      ],
      "metadata": {
        "id": "V3_vbA2tgjVN"
      },
      "execution_count": 40,
      "outputs": []
    },
    {
      "cell_type": "code",
      "source": [
        "# [discente, turma] na base final\n",
        "base_final[base_final.duplicated(subset = [\"discente\", \"id_turma\"], keep = 'first') != True].size"
      ],
      "metadata": {
        "id": "lquvZ6Fs6_u6",
        "colab": {
          "base_uri": "https://localhost:8080/"
        },
        "outputId": "aaaf5471-11a2-4809-e116-d390adf3b432"
      },
      "execution_count": 41,
      "outputs": [
        {
          "output_type": "execute_result",
          "data": {
            "text/plain": [
              "10048"
            ]
          },
          "metadata": {},
          "execution_count": 41
        }
      ]
    },
    {
      "cell_type": "code",
      "source": [
        "kmeansdb = base_final\n",
        "dfkm = kmeansdb[['id_turma','discente', 'docente', 'unidade', 'nota', 'media_final','numero_total_faltas', 'aprovado', 'reposicao', 'reprovadoporfalta', 'semestre']]\n",
        "\n",
        "\n",
        "def strhash_to_inthash(row):\n",
        "  strhash = row['discente'];\n",
        "  return hash(strhash) % 10**8;\n",
        "\n",
        "def bool_to_int_aprovado(row):\n",
        "  if row['aprovado'] == True:\n",
        "    return 1;\n",
        "  else:\n",
        "    return 0;\n",
        "\n",
        "def bool_to_int_reprovadoporfalta(row):\n",
        "  if row['reprovadoporfalta'] == True:\n",
        "    return 1;\n",
        "  else:\n",
        "    return 0;\n",
        "\n",
        "def bool_to_int_reposicao(row):\n",
        "  if row['reposicao'] == True:\n",
        "    return 1;\n",
        "  else:\n",
        "    return 0;\n",
        "\n",
        "def docentehash(row):\n",
        "  strhash = row['docente'].split()[0];\n",
        "  inthash = hash(strhash) % 10**1;\n",
        "  return inthash;\n",
        "\n",
        "def docentenome(row):\n",
        "  return row['docente'].split()[0];\n",
        "'''\n",
        "reduced_docente = dfkm.apply(docentenome, axis = 1)\n",
        "dfkm[\"docente_nome\"] = reduced_docente'''\n",
        "\n",
        "inthashed_docente = dfkm.apply(docentehash, axis = 1)\n",
        "dfkm[\"docente\"] = inthashed_docente\n",
        "\n",
        "inthashed_discente = dfkm.apply(strhash_to_inthash, axis = 1)\n",
        "dfkm[\"discente\"] = inthashed_discente \n",
        "\n",
        "aprovacao = dfkm.apply(bool_to_int_aprovado, axis = 1)\n",
        "dfkm[\"aprovado\"] = aprovacao \n",
        "\n",
        "reprovacaoporfalta = dfkm.apply(bool_to_int_reprovadoporfalta, axis = 1)\n",
        "dfkm[\"reprovadoporfalta\"] = reprovacaoporfalta \n",
        "\n",
        "reposicao = dfkm.apply(bool_to_int_reposicao, axis = 1)\n",
        "dfkm[\"reposicao\"] = reposicao \n",
        "\n",
        "normalized_docente=(dfkm.docente-dfkm.docente.min())/(dfkm.docente.max()-dfkm.docente.min())\n",
        "dfkm[\"docente\"] = normalized_docente\n",
        "\n",
        "normalized_discente=(dfkm.discente-dfkm.discente.min())/(dfkm.discente.max()-dfkm.discente.min())\n",
        "dfkm[\"discente\"] = normalized_discente\n",
        "\n",
        "normalized_unidade=(dfkm.unidade-dfkm.unidade.min())/(dfkm.unidade.max()-dfkm.unidade.min())\n",
        "dfkm[\"unidade\"] = normalized_unidade\n",
        "\n",
        "normalized_nota=(dfkm.nota-dfkm.nota.min())/(dfkm.nota.max()-dfkm.nota.min())\n",
        "dfkm[\"nota\"] = normalized_nota\n",
        "\n",
        "normalized_media_final=(dfkm.media_final-dfkm.media_final.min())/(dfkm.media_final.max()-dfkm.media_final.min())\n",
        "dfkm[\"media_final\"] = normalized_media_final\n",
        "\n",
        "normalized_numero_total_faltas=(dfkm.numero_total_faltas-dfkm.numero_total_faltas.min())/(dfkm.numero_total_faltas.max()-dfkm.numero_total_faltas.min())\n",
        "dfkm[\"numero_total_faltas\"] = normalized_numero_total_faltas\n",
        "\n",
        "#dfkm[dfkm[\"reprovadoporfalta\"] == 1]\n",
        "#dfkm[dfkm[\"aprovado\"] == 1]\n",
        "#dfkm[dfkm[\"media_final\"] == 1]\n",
        "#dfkm[dfkm[\"nota\"] == 1]"
      ],
      "metadata": {
        "id": "cCWKktyQSV1h"
      },
      "execution_count": 58,
      "outputs": []
    },
    {
      "cell_type": "code",
      "source": [
        "dfkm.aprovado = dfkm.aprovado.astype(np.float64)\n",
        "dfkm.reprovadoporfalta = dfkm.reprovadoporfalta.astype(np.float64)\n",
        "dfkm.reposicao = dfkm.reposicao.astype(np.float64)\n",
        "\n",
        "dfkm.info()"
      ],
      "metadata": {
        "colab": {
          "base_uri": "https://localhost:8080/"
        },
        "id": "L74mxZAmauoc",
        "outputId": "40903e07-28f2-4fea-98a7-23ea484bf04d"
      },
      "execution_count": 59,
      "outputs": [
        {
          "output_type": "stream",
          "name": "stdout",
          "text": [
            "<class 'pandas.core.frame.DataFrame'>\n",
            "Int64Index: 1965 entries, 152545 to 1733241\n",
            "Data columns (total 11 columns):\n",
            " #   Column               Non-Null Count  Dtype  \n",
            "---  ------               --------------  -----  \n",
            " 0   id_turma             1965 non-null   uint16 \n",
            " 1   discente             1965 non-null   float64\n",
            " 2   docente              1965 non-null   float64\n",
            " 3   unidade              1965 non-null   float64\n",
            " 4   nota                 1965 non-null   float64\n",
            " 5   media_final          1965 non-null   float64\n",
            " 6   numero_total_faltas  1965 non-null   float64\n",
            " 7   aprovado             1965 non-null   float64\n",
            " 8   reposicao            1965 non-null   float64\n",
            " 9   reprovadoporfalta    1965 non-null   float64\n",
            " 10  semestre             1965 non-null   object \n",
            "dtypes: float64(9), object(1), uint16(1)\n",
            "memory usage: 172.7+ KB\n"
          ]
        }
      ]
    },
    {
      "cell_type": "code",
      "source": [
        "dfkm"
      ],
      "metadata": {
        "colab": {
          "base_uri": "https://localhost:8080/",
          "height": 655
        },
        "id": "GALRyoGqbjUR",
        "outputId": "282a322a-51b3-4a4f-94ce-0b40f9b07aad"
      },
      "execution_count": 61,
      "outputs": [
        {
          "output_type": "execute_result",
          "data": {
            "text/html": [
              "\n",
              "  <div id=\"df-559ee25d-f872-4022-af42-c00301756e41\">\n",
              "    <div class=\"colab-df-container\">\n",
              "      <div>\n",
              "<style scoped>\n",
              "    .dataframe tbody tr th:only-of-type {\n",
              "        vertical-align: middle;\n",
              "    }\n",
              "\n",
              "    .dataframe tbody tr th {\n",
              "        vertical-align: top;\n",
              "    }\n",
              "\n",
              "    .dataframe thead th {\n",
              "        text-align: right;\n",
              "    }\n",
              "</style>\n",
              "<table border=\"1\" class=\"dataframe\">\n",
              "  <thead>\n",
              "    <tr style=\"text-align: right;\">\n",
              "      <th></th>\n",
              "      <th>id_turma</th>\n",
              "      <th>discente</th>\n",
              "      <th>docente</th>\n",
              "      <th>unidade</th>\n",
              "      <th>nota</th>\n",
              "      <th>media_final</th>\n",
              "      <th>numero_total_faltas</th>\n",
              "      <th>aprovado</th>\n",
              "      <th>reposicao</th>\n",
              "      <th>reprovadoporfalta</th>\n",
              "      <th>semestre</th>\n",
              "    </tr>\n",
              "  </thead>\n",
              "  <tbody>\n",
              "    <tr>\n",
              "      <th>152545</th>\n",
              "      <td>7902</td>\n",
              "      <td>0.490372</td>\n",
              "      <td>1.000000</td>\n",
              "      <td>0.0</td>\n",
              "      <td>0.80</td>\n",
              "      <td>0.77</td>\n",
              "      <td>0.029412</td>\n",
              "      <td>1.0</td>\n",
              "      <td>0.0</td>\n",
              "      <td>0.0</td>\n",
              "      <td>2018.1</td>\n",
              "    </tr>\n",
              "    <tr>\n",
              "      <th>152546</th>\n",
              "      <td>7902</td>\n",
              "      <td>0.490372</td>\n",
              "      <td>1.000000</td>\n",
              "      <td>0.5</td>\n",
              "      <td>0.84</td>\n",
              "      <td>0.77</td>\n",
              "      <td>0.029412</td>\n",
              "      <td>1.0</td>\n",
              "      <td>0.0</td>\n",
              "      <td>0.0</td>\n",
              "      <td>2018.1</td>\n",
              "    </tr>\n",
              "    <tr>\n",
              "      <th>152547</th>\n",
              "      <td>7902</td>\n",
              "      <td>0.490372</td>\n",
              "      <td>1.000000</td>\n",
              "      <td>1.0</td>\n",
              "      <td>0.66</td>\n",
              "      <td>0.77</td>\n",
              "      <td>0.029412</td>\n",
              "      <td>1.0</td>\n",
              "      <td>0.0</td>\n",
              "      <td>0.0</td>\n",
              "      <td>2018.1</td>\n",
              "    </tr>\n",
              "    <tr>\n",
              "      <th>152554</th>\n",
              "      <td>7902</td>\n",
              "      <td>0.508022</td>\n",
              "      <td>1.000000</td>\n",
              "      <td>0.0</td>\n",
              "      <td>0.45</td>\n",
              "      <td>0.64</td>\n",
              "      <td>0.205882</td>\n",
              "      <td>1.0</td>\n",
              "      <td>0.0</td>\n",
              "      <td>0.0</td>\n",
              "      <td>2018.1</td>\n",
              "    </tr>\n",
              "    <tr>\n",
              "      <th>152555</th>\n",
              "      <td>7902</td>\n",
              "      <td>0.508022</td>\n",
              "      <td>1.000000</td>\n",
              "      <td>0.5</td>\n",
              "      <td>0.76</td>\n",
              "      <td>0.64</td>\n",
              "      <td>0.205882</td>\n",
              "      <td>1.0</td>\n",
              "      <td>0.0</td>\n",
              "      <td>0.0</td>\n",
              "      <td>2018.1</td>\n",
              "    </tr>\n",
              "    <tr>\n",
              "      <th>...</th>\n",
              "      <td>...</td>\n",
              "      <td>...</td>\n",
              "      <td>...</td>\n",
              "      <td>...</td>\n",
              "      <td>...</td>\n",
              "      <td>...</td>\n",
              "      <td>...</td>\n",
              "      <td>...</td>\n",
              "      <td>...</td>\n",
              "      <td>...</td>\n",
              "      <td>...</td>\n",
              "    </tr>\n",
              "    <tr>\n",
              "      <th>1733234</th>\n",
              "      <td>58432</td>\n",
              "      <td>0.853048</td>\n",
              "      <td>0.777778</td>\n",
              "      <td>0.5</td>\n",
              "      <td>0.30</td>\n",
              "      <td>0.44</td>\n",
              "      <td>0.294118</td>\n",
              "      <td>0.0</td>\n",
              "      <td>0.0</td>\n",
              "      <td>0.0</td>\n",
              "      <td>2020.6</td>\n",
              "    </tr>\n",
              "    <tr>\n",
              "      <th>1733235</th>\n",
              "      <td>58432</td>\n",
              "      <td>0.853048</td>\n",
              "      <td>0.777778</td>\n",
              "      <td>1.0</td>\n",
              "      <td>0.72</td>\n",
              "      <td>0.44</td>\n",
              "      <td>0.294118</td>\n",
              "      <td>0.0</td>\n",
              "      <td>0.0</td>\n",
              "      <td>0.0</td>\n",
              "      <td>2020.6</td>\n",
              "    </tr>\n",
              "    <tr>\n",
              "      <th>1733239</th>\n",
              "      <td>58432</td>\n",
              "      <td>0.353856</td>\n",
              "      <td>0.777778</td>\n",
              "      <td>0.5</td>\n",
              "      <td>0.50</td>\n",
              "      <td>0.57</td>\n",
              "      <td>0.147059</td>\n",
              "      <td>1.0</td>\n",
              "      <td>0.0</td>\n",
              "      <td>0.0</td>\n",
              "      <td>2020.6</td>\n",
              "    </tr>\n",
              "    <tr>\n",
              "      <th>1733240</th>\n",
              "      <td>58432</td>\n",
              "      <td>0.353856</td>\n",
              "      <td>0.777778</td>\n",
              "      <td>0.0</td>\n",
              "      <td>0.50</td>\n",
              "      <td>0.57</td>\n",
              "      <td>0.147059</td>\n",
              "      <td>1.0</td>\n",
              "      <td>0.0</td>\n",
              "      <td>0.0</td>\n",
              "      <td>2020.6</td>\n",
              "    </tr>\n",
              "    <tr>\n",
              "      <th>1733241</th>\n",
              "      <td>58432</td>\n",
              "      <td>0.353856</td>\n",
              "      <td>0.777778</td>\n",
              "      <td>1.0</td>\n",
              "      <td>0.72</td>\n",
              "      <td>0.57</td>\n",
              "      <td>0.147059</td>\n",
              "      <td>1.0</td>\n",
              "      <td>0.0</td>\n",
              "      <td>0.0</td>\n",
              "      <td>2020.6</td>\n",
              "    </tr>\n",
              "  </tbody>\n",
              "</table>\n",
              "<p>1965 rows × 11 columns</p>\n",
              "</div>\n",
              "      <button class=\"colab-df-convert\" onclick=\"convertToInteractive('df-559ee25d-f872-4022-af42-c00301756e41')\"\n",
              "              title=\"Convert this dataframe to an interactive table.\"\n",
              "              style=\"display:none;\">\n",
              "        \n",
              "  <svg xmlns=\"http://www.w3.org/2000/svg\" height=\"24px\"viewBox=\"0 0 24 24\"\n",
              "       width=\"24px\">\n",
              "    <path d=\"M0 0h24v24H0V0z\" fill=\"none\"/>\n",
              "    <path d=\"M18.56 5.44l.94 2.06.94-2.06 2.06-.94-2.06-.94-.94-2.06-.94 2.06-2.06.94zm-11 1L8.5 8.5l.94-2.06 2.06-.94-2.06-.94L8.5 2.5l-.94 2.06-2.06.94zm10 10l.94 2.06.94-2.06 2.06-.94-2.06-.94-.94-2.06-.94 2.06-2.06.94z\"/><path d=\"M17.41 7.96l-1.37-1.37c-.4-.4-.92-.59-1.43-.59-.52 0-1.04.2-1.43.59L10.3 9.45l-7.72 7.72c-.78.78-.78 2.05 0 2.83L4 21.41c.39.39.9.59 1.41.59.51 0 1.02-.2 1.41-.59l7.78-7.78 2.81-2.81c.8-.78.8-2.07 0-2.86zM5.41 20L4 18.59l7.72-7.72 1.47 1.35L5.41 20z\"/>\n",
              "  </svg>\n",
              "      </button>\n",
              "      \n",
              "  <style>\n",
              "    .colab-df-container {\n",
              "      display:flex;\n",
              "      flex-wrap:wrap;\n",
              "      gap: 12px;\n",
              "    }\n",
              "\n",
              "    .colab-df-convert {\n",
              "      background-color: #E8F0FE;\n",
              "      border: none;\n",
              "      border-radius: 50%;\n",
              "      cursor: pointer;\n",
              "      display: none;\n",
              "      fill: #1967D2;\n",
              "      height: 32px;\n",
              "      padding: 0 0 0 0;\n",
              "      width: 32px;\n",
              "    }\n",
              "\n",
              "    .colab-df-convert:hover {\n",
              "      background-color: #E2EBFA;\n",
              "      box-shadow: 0px 1px 2px rgba(60, 64, 67, 0.3), 0px 1px 3px 1px rgba(60, 64, 67, 0.15);\n",
              "      fill: #174EA6;\n",
              "    }\n",
              "\n",
              "    [theme=dark] .colab-df-convert {\n",
              "      background-color: #3B4455;\n",
              "      fill: #D2E3FC;\n",
              "    }\n",
              "\n",
              "    [theme=dark] .colab-df-convert:hover {\n",
              "      background-color: #434B5C;\n",
              "      box-shadow: 0px 1px 3px 1px rgba(0, 0, 0, 0.15);\n",
              "      filter: drop-shadow(0px 1px 2px rgba(0, 0, 0, 0.3));\n",
              "      fill: #FFFFFF;\n",
              "    }\n",
              "  </style>\n",
              "\n",
              "      <script>\n",
              "        const buttonEl =\n",
              "          document.querySelector('#df-559ee25d-f872-4022-af42-c00301756e41 button.colab-df-convert');\n",
              "        buttonEl.style.display =\n",
              "          google.colab.kernel.accessAllowed ? 'block' : 'none';\n",
              "\n",
              "        async function convertToInteractive(key) {\n",
              "          const element = document.querySelector('#df-559ee25d-f872-4022-af42-c00301756e41');\n",
              "          const dataTable =\n",
              "            await google.colab.kernel.invokeFunction('convertToInteractive',\n",
              "                                                     [key], {});\n",
              "          if (!dataTable) return;\n",
              "\n",
              "          const docLinkHtml = 'Like what you see? Visit the ' +\n",
              "            '<a target=\"_blank\" href=https://colab.research.google.com/notebooks/data_table.ipynb>data table notebook</a>'\n",
              "            + ' to learn more about interactive tables.';\n",
              "          element.innerHTML = '';\n",
              "          dataTable['output_type'] = 'display_data';\n",
              "          await google.colab.output.renderOutput(dataTable, element);\n",
              "          const docLink = document.createElement('div');\n",
              "          docLink.innerHTML = docLinkHtml;\n",
              "          element.appendChild(docLink);\n",
              "        }\n",
              "      </script>\n",
              "    </div>\n",
              "  </div>\n",
              "  "
            ],
            "text/plain": [
              "         id_turma  discente   docente  ...  reposicao  reprovadoporfalta  semestre\n",
              "152545       7902  0.490372  1.000000  ...        0.0                0.0    2018.1\n",
              "152546       7902  0.490372  1.000000  ...        0.0                0.0    2018.1\n",
              "152547       7902  0.490372  1.000000  ...        0.0                0.0    2018.1\n",
              "152554       7902  0.508022  1.000000  ...        0.0                0.0    2018.1\n",
              "152555       7902  0.508022  1.000000  ...        0.0                0.0    2018.1\n",
              "...           ...       ...       ...  ...        ...                ...       ...\n",
              "1733234     58432  0.853048  0.777778  ...        0.0                0.0    2020.6\n",
              "1733235     58432  0.853048  0.777778  ...        0.0                0.0    2020.6\n",
              "1733239     58432  0.353856  0.777778  ...        0.0                0.0    2020.6\n",
              "1733240     58432  0.353856  0.777778  ...        0.0                0.0    2020.6\n",
              "1733241     58432  0.353856  0.777778  ...        0.0                0.0    2020.6\n",
              "\n",
              "[1965 rows x 11 columns]"
            ]
          },
          "metadata": {},
          "execution_count": 61
        }
      ]
    },
    {
      "cell_type": "code",
      "source": [
        "describedb = dfkm\n",
        "describedb = dfkm[['nota', 'media_final', 'numero_total_faltas', 'aprovado']]\n",
        "describedb.describe()"
      ],
      "metadata": {
        "colab": {
          "base_uri": "https://localhost:8080/",
          "height": 283
        },
        "id": "nzcl9lulh9gS",
        "outputId": "25fa8f43-04ad-45de-a89c-197ad8148c2d"
      },
      "execution_count": 62,
      "outputs": [
        {
          "output_type": "execute_result",
          "data": {
            "text/html": [
              "\n",
              "  <div id=\"df-8cfbec19-a725-4d13-b037-6a16d8299789\">\n",
              "    <div class=\"colab-df-container\">\n",
              "      <div>\n",
              "<style scoped>\n",
              "    .dataframe tbody tr th:only-of-type {\n",
              "        vertical-align: middle;\n",
              "    }\n",
              "\n",
              "    .dataframe tbody tr th {\n",
              "        vertical-align: top;\n",
              "    }\n",
              "\n",
              "    .dataframe thead th {\n",
              "        text-align: right;\n",
              "    }\n",
              "</style>\n",
              "<table border=\"1\" class=\"dataframe\">\n",
              "  <thead>\n",
              "    <tr style=\"text-align: right;\">\n",
              "      <th></th>\n",
              "      <th>nota</th>\n",
              "      <th>media_final</th>\n",
              "      <th>numero_total_faltas</th>\n",
              "      <th>aprovado</th>\n",
              "    </tr>\n",
              "  </thead>\n",
              "  <tbody>\n",
              "    <tr>\n",
              "      <th>count</th>\n",
              "      <td>1965.000000</td>\n",
              "      <td>1965.000000</td>\n",
              "      <td>1965.000000</td>\n",
              "      <td>1965.000000</td>\n",
              "    </tr>\n",
              "    <tr>\n",
              "      <th>mean</th>\n",
              "      <td>0.591318</td>\n",
              "      <td>0.608412</td>\n",
              "      <td>0.142232</td>\n",
              "      <td>0.746565</td>\n",
              "    </tr>\n",
              "    <tr>\n",
              "      <th>std</th>\n",
              "      <td>0.315708</td>\n",
              "      <td>0.258489</td>\n",
              "      <td>0.143274</td>\n",
              "      <td>0.435089</td>\n",
              "    </tr>\n",
              "    <tr>\n",
              "      <th>min</th>\n",
              "      <td>0.000000</td>\n",
              "      <td>0.000000</td>\n",
              "      <td>0.000000</td>\n",
              "      <td>0.000000</td>\n",
              "    </tr>\n",
              "    <tr>\n",
              "      <th>25%</th>\n",
              "      <td>0.370000</td>\n",
              "      <td>0.500000</td>\n",
              "      <td>0.000000</td>\n",
              "      <td>0.000000</td>\n",
              "    </tr>\n",
              "    <tr>\n",
              "      <th>50%</th>\n",
              "      <td>0.640000</td>\n",
              "      <td>0.640000</td>\n",
              "      <td>0.117647</td>\n",
              "      <td>1.000000</td>\n",
              "    </tr>\n",
              "    <tr>\n",
              "      <th>75%</th>\n",
              "      <td>0.860000</td>\n",
              "      <td>0.790000</td>\n",
              "      <td>0.264706</td>\n",
              "      <td>1.000000</td>\n",
              "    </tr>\n",
              "    <tr>\n",
              "      <th>max</th>\n",
              "      <td>1.000000</td>\n",
              "      <td>1.000000</td>\n",
              "      <td>1.000000</td>\n",
              "      <td>1.000000</td>\n",
              "    </tr>\n",
              "  </tbody>\n",
              "</table>\n",
              "</div>\n",
              "      <button class=\"colab-df-convert\" onclick=\"convertToInteractive('df-8cfbec19-a725-4d13-b037-6a16d8299789')\"\n",
              "              title=\"Convert this dataframe to an interactive table.\"\n",
              "              style=\"display:none;\">\n",
              "        \n",
              "  <svg xmlns=\"http://www.w3.org/2000/svg\" height=\"24px\"viewBox=\"0 0 24 24\"\n",
              "       width=\"24px\">\n",
              "    <path d=\"M0 0h24v24H0V0z\" fill=\"none\"/>\n",
              "    <path d=\"M18.56 5.44l.94 2.06.94-2.06 2.06-.94-2.06-.94-.94-2.06-.94 2.06-2.06.94zm-11 1L8.5 8.5l.94-2.06 2.06-.94-2.06-.94L8.5 2.5l-.94 2.06-2.06.94zm10 10l.94 2.06.94-2.06 2.06-.94-2.06-.94-.94-2.06-.94 2.06-2.06.94z\"/><path d=\"M17.41 7.96l-1.37-1.37c-.4-.4-.92-.59-1.43-.59-.52 0-1.04.2-1.43.59L10.3 9.45l-7.72 7.72c-.78.78-.78 2.05 0 2.83L4 21.41c.39.39.9.59 1.41.59.51 0 1.02-.2 1.41-.59l7.78-7.78 2.81-2.81c.8-.78.8-2.07 0-2.86zM5.41 20L4 18.59l7.72-7.72 1.47 1.35L5.41 20z\"/>\n",
              "  </svg>\n",
              "      </button>\n",
              "      \n",
              "  <style>\n",
              "    .colab-df-container {\n",
              "      display:flex;\n",
              "      flex-wrap:wrap;\n",
              "      gap: 12px;\n",
              "    }\n",
              "\n",
              "    .colab-df-convert {\n",
              "      background-color: #E8F0FE;\n",
              "      border: none;\n",
              "      border-radius: 50%;\n",
              "      cursor: pointer;\n",
              "      display: none;\n",
              "      fill: #1967D2;\n",
              "      height: 32px;\n",
              "      padding: 0 0 0 0;\n",
              "      width: 32px;\n",
              "    }\n",
              "\n",
              "    .colab-df-convert:hover {\n",
              "      background-color: #E2EBFA;\n",
              "      box-shadow: 0px 1px 2px rgba(60, 64, 67, 0.3), 0px 1px 3px 1px rgba(60, 64, 67, 0.15);\n",
              "      fill: #174EA6;\n",
              "    }\n",
              "\n",
              "    [theme=dark] .colab-df-convert {\n",
              "      background-color: #3B4455;\n",
              "      fill: #D2E3FC;\n",
              "    }\n",
              "\n",
              "    [theme=dark] .colab-df-convert:hover {\n",
              "      background-color: #434B5C;\n",
              "      box-shadow: 0px 1px 3px 1px rgba(0, 0, 0, 0.15);\n",
              "      filter: drop-shadow(0px 1px 2px rgba(0, 0, 0, 0.3));\n",
              "      fill: #FFFFFF;\n",
              "    }\n",
              "  </style>\n",
              "\n",
              "      <script>\n",
              "        const buttonEl =\n",
              "          document.querySelector('#df-8cfbec19-a725-4d13-b037-6a16d8299789 button.colab-df-convert');\n",
              "        buttonEl.style.display =\n",
              "          google.colab.kernel.accessAllowed ? 'block' : 'none';\n",
              "\n",
              "        async function convertToInteractive(key) {\n",
              "          const element = document.querySelector('#df-8cfbec19-a725-4d13-b037-6a16d8299789');\n",
              "          const dataTable =\n",
              "            await google.colab.kernel.invokeFunction('convertToInteractive',\n",
              "                                                     [key], {});\n",
              "          if (!dataTable) return;\n",
              "\n",
              "          const docLinkHtml = 'Like what you see? Visit the ' +\n",
              "            '<a target=\"_blank\" href=https://colab.research.google.com/notebooks/data_table.ipynb>data table notebook</a>'\n",
              "            + ' to learn more about interactive tables.';\n",
              "          element.innerHTML = '';\n",
              "          dataTable['output_type'] = 'display_data';\n",
              "          await google.colab.output.renderOutput(dataTable, element);\n",
              "          const docLink = document.createElement('div');\n",
              "          docLink.innerHTML = docLinkHtml;\n",
              "          element.appendChild(docLink);\n",
              "        }\n",
              "      </script>\n",
              "    </div>\n",
              "  </div>\n",
              "  "
            ],
            "text/plain": [
              "              nota  media_final  numero_total_faltas     aprovado\n",
              "count  1965.000000  1965.000000          1965.000000  1965.000000\n",
              "mean      0.591318     0.608412             0.142232     0.746565\n",
              "std       0.315708     0.258489             0.143274     0.435089\n",
              "min       0.000000     0.000000             0.000000     0.000000\n",
              "25%       0.370000     0.500000             0.000000     0.000000\n",
              "50%       0.640000     0.640000             0.117647     1.000000\n",
              "75%       0.860000     0.790000             0.264706     1.000000\n",
              "max       1.000000     1.000000             1.000000     1.000000"
            ]
          },
          "metadata": {},
          "execution_count": 62
        }
      ]
    },
    {
      "cell_type": "code",
      "source": [
        "dfkm.to_csv(\"dfkm.csv\")"
      ],
      "metadata": {
        "id": "3nnrJPsGkGN0"
      },
      "execution_count": 63,
      "outputs": []
    },
    {
      "cell_type": "code",
      "source": [
        "dfkm20201 = dfkm.loc[dfkm['semestre'] == '2020.6']"
      ],
      "metadata": {
        "id": "AdBC6IK4S1tU"
      },
      "execution_count": 64,
      "outputs": []
    },
    {
      "cell_type": "code",
      "source": [
        "dfkmnot20201 = dfkm.loc[dfkm['semestre'] != '2020.6']"
      ],
      "metadata": {
        "id": "sDGMzMlsTG3w"
      },
      "execution_count": 65,
      "outputs": []
    },
    {
      "cell_type": "code",
      "source": [
        "X2 = base_final[['nota','media_final']].iloc[: , :].values\n",
        "inertia = []\n",
        "for n in range(1 , 11):\n",
        "    algorithm = (KMeans(n_clusters = n))\n",
        "    algorithm.fit(X2)\n",
        "    inertia.append(algorithm.inertia_)\n",
        "\n",
        "plt.figure(1 , figsize = (15 ,6))\n",
        "plt.plot(np.arange(1 , 11) , inertia , 'o')\n",
        "plt.plot(np.arange(1 , 11) , inertia , '-' , alpha = 0.5)\n",
        "plt.xlabel('Número de Clusters') , plt.ylabel('Soma das Distâncias Q intra Clusters')\n",
        "plt.show()\n",
        "\n",
        "# Inicializando e Computando o KMeans com o valor de 4 clusters:\n",
        "algorithm = (KMeans(n_clusters = 3))\n",
        "algorithm.fit(X2)\n",
        "\n",
        "# Saída:\n",
        "\n",
        "KMeans(algorithm='auto', copy_x=True, init='k-means++', max_iter=300,\n",
        "       n_clusters=3, n_init=10,\n",
        "       random_state=None, tol=0.0001, verbose=0)\n",
        "\n",
        "# Visualizando os grupos criados e seus centroides:\n",
        "labels2 = algorithm.labels_\n",
        "centroids2 = algorithm.cluster_centers_\n",
        "\n",
        "h = 0.02\n",
        "x_min, x_max = X2[:, 0].min() - 1, X2[:, 0].max() + 1\n",
        "y_min, y_max = X2[:, 1].min() - 1, X2[:, 1].max() + 1\n",
        "xx, yy = np.meshgrid(np.arange(x_min, x_max, h), np.arange(y_min, y_max, h))\n",
        "Z = algorithm.predict(np.c_[xx.ravel(), yy.ravel()]) \n",
        "\n",
        "plt.figure(1 , figsize = (15 , 7) )\n",
        "plt.clf()\n",
        "Z2 = Z.reshape(xx.shape)\n",
        "plt.imshow(Z2 , interpolation='nearest', extent=(xx.min(), xx.max(), yy.min(), yy.max()), cmap = plt.cm.Pastel2, aspect = 'auto', origin='lower')\n",
        "plt.scatter( x = 'nota' ,y = 'media_final' , data = base_final , c = labels2 , s = 200 )\n",
        "plt.scatter(x = centroids2[: , 0] , y =  centroids2[: , 1] , s = 300 , c = 'red' , alpha = 0.5)\n",
        "plt.ylabel('Média Final') , plt.xlabel('Nota')\n",
        "plt.show()"
      ],
      "metadata": {
        "id": "OUK_9NWk-p2S",
        "colab": {
          "base_uri": "https://localhost:8080/",
          "height": 813
        },
        "outputId": "4ce19ce1-5a1d-4124-ffb9-c8f109f1999a"
      },
      "execution_count": 66,
      "outputs": [
        {
          "output_type": "display_data",
          "data": {
            "image/png": "[encoded data removed]",
            "text/plain": [
              "<Figure size 1080x432 with 1 Axes>"
            ]
          },
          "metadata": {
            "needs_background": "light"
          }
        },
        {
          "output_type": "display_data",
          "data": {
            "image/png": "[encoded data removed]",
            "text/plain": [
              "<Figure size 1080x504 with 1 Axes>"
            ]
          },
          "metadata": {
            "needs_background": "light"
          }
        }
      ]
    },
    {
      "cell_type": "code",
      "source": [
        "X2 = dfkm[['docente','media_final']].iloc[: , :].values\n",
        "inertia = []\n",
        "for n in range(1 , 11):\n",
        "    algorithm = (KMeans(n_clusters = n))\n",
        "    algorithm.fit(X2)\n",
        "    inertia.append(algorithm.inertia_)\n",
        "\n",
        "plt.figure(1 , figsize = (15 ,6))\n",
        "plt.plot(np.arange(1 , 11) , inertia , 'o')\n",
        "plt.plot(np.arange(1 , 11) , inertia , '-' , alpha = 0.5)\n",
        "plt.xlabel('Número de Clusters') , plt.ylabel('Soma das Distâncias Q intra Clusters')\n",
        "plt.show()\n",
        "\n",
        "# Inicializando e Computando o KMeans com o valor de 4 clusters:\n",
        "algorithm = (KMeans(n_clusters = 3))\n",
        "algorithm.fit(X2)\n",
        "\n",
        "# Saída:\n",
        "\n",
        "KMeans(algorithm='auto', copy_x=True, init='k-means++', max_iter=300,\n",
        "       n_clusters=3, n_init=10,\n",
        "       random_state=None, tol=0.0001, verbose=0)\n",
        "\n",
        "# Visualizando os grupos criados e seus centroides:\n",
        "labels2 = algorithm.labels_\n",
        "centroids2 = algorithm.cluster_centers_\n",
        "\n",
        "h = 0.02\n",
        "x_min, x_max = X2[:, 0].min() - 1, X2[:, 0].max() + 1\n",
        "y_min, y_max = X2[:, 1].min() - 1, X2[:, 1].max() + 1\n",
        "xx, yy = np.meshgrid(np.arange(x_min, x_max, h), np.arange(y_min, y_max, h))\n",
        "Z = algorithm.predict(np.c_[xx.ravel(), yy.ravel()]) \n",
        "\n",
        "plt.figure(1 , figsize = (15 , 6) )\n",
        "plt.clf()\n",
        "Z2 = Z.reshape(xx.shape)\n",
        "plt.imshow(Z2 , interpolation='nearest', extent=(xx.min(), xx.max(), yy.min(), yy.max()), cmap = plt.cm.Pastel2, aspect = 'auto', origin='lower')\n",
        "plt.scatter( x = 'docente' ,y = 'media_final' , data = dfkm , c = labels2 , s = 200 )\n",
        "plt.scatter(x = centroids2[: , 0] , y =  centroids2[: , 1] , s = 300 , c = 'red' , alpha = 0.5)\n",
        "plt.ylabel('Média Final') , plt.xlabel('Docente')\n",
        "plt.show()"
      ],
      "metadata": {
        "id": "xhnKFN0yCd1t",
        "colab": {
          "base_uri": "https://localhost:8080/",
          "height": 759
        },
        "outputId": "a983d4f9-3f35-4b5d-a33d-4a3d5959f7e2"
      },
      "execution_count": 67,
      "outputs": [
        {
          "output_type": "display_data",
          "data": {
            "image/png": "[encoded data removed]",
            "text/plain": [
              "<Figure size 1080x432 with 1 Axes>"
            ]
          },
          "metadata": {
            "needs_background": "light"
          }
        },
        {
          "output_type": "display_data",
          "data": {
            "image/png": "[encoded data removed]",
            "text/plain": [
              "<Figure size 1080x432 with 1 Axes>"
            ]
          },
          "metadata": {
            "needs_background": "light"
          }
        }
      ]
    },
    {
      "cell_type": "code",
      "source": [
        "X2 = dfkm20201[['docente','media_final']].iloc[: , :].values\n",
        "inertia = []\n",
        "for n in range(1 , 11):\n",
        "    algorithm = (KMeans(n_clusters = n))\n",
        "    algorithm.fit(X2)\n",
        "    inertia.append(algorithm.inertia_)\n",
        "\n",
        "plt.figure(1 , figsize = (15 ,6))\n",
        "plt.plot(np.arange(1 , 11) , inertia , 'o')\n",
        "plt.plot(np.arange(1 , 11) , inertia , '-' , alpha = 0.5)\n",
        "plt.xlabel('Número de Clusters') , plt.ylabel('Soma das Distâncias Q intra Clusters')\n",
        "plt.show()\n",
        "\n",
        "# Inicializando e Computando o KMeans com o valor de 4 clusters:\n",
        "algorithm = (KMeans(n_clusters = 3))\n",
        "algorithm.fit(X2)\n",
        "\n",
        "# Saída:\n",
        "\n",
        "KMeans(algorithm='auto', copy_x=True, init='k-means++', max_iter=300,\n",
        "       n_clusters=3, n_init=10,\n",
        "       random_state=None, tol=0.0001, verbose=0)\n",
        "\n",
        "# Visualizando os grupos criados e seus centroides:\n",
        "labels2 = algorithm.labels_\n",
        "centroids2 = algorithm.cluster_centers_\n",
        "\n",
        "h = 0.02\n",
        "x_min, x_max = X2[:, 0].min() - 1, X2[:, 0].max() + 1\n",
        "y_min, y_max = X2[:, 1].min() - 1, X2[:, 1].max() + 1\n",
        "xx, yy = np.meshgrid(np.arange(x_min, x_max, h), np.arange(y_min, y_max, h))\n",
        "Z = algorithm.predict(np.c_[xx.ravel(), yy.ravel()]) \n",
        "\n",
        "plt.figure(1 , figsize = (10 , 8) )\n",
        "plt.clf()\n",
        "Z2 = Z.reshape(xx.shape)\n",
        "plt.imshow(Z2 , interpolation='nearest', extent=(xx.min(), xx.max(), yy.min(), yy.max()), cmap = plt.cm.Pastel2, aspect = 'auto', origin='lower')\n",
        "plt.scatter( x = 'docente' ,y = 'media_final' , data = dfkm20201 , c = labels2 , s = 200 )\n",
        "plt.scatter(x = centroids2[: , 0] , y =  centroids2[: , 1] , s = 300 , c = 'red' , alpha = 0.5)\n",
        "plt.ylabel('Média Final') , plt.xlabel('Docente')\n",
        "plt.show()"
      ],
      "metadata": {
        "id": "noEJhYKAKz2I",
        "outputId": "fff1dadd-bc1b-49c4-d7fa-f2a4c80a1767",
        "colab": {
          "base_uri": "https://localhost:8080/",
          "height": 868
        }
      },
      "execution_count": 68,
      "outputs": [
        {
          "output_type": "display_data",
          "data": {
            "image/png": "[encoded data removed]",
            "text/plain": [
              "<Figure size 1080x432 with 1 Axes>"
            ]
          },
          "metadata": {
            "needs_background": "light"
          }
        },
        {
          "output_type": "display_data",
          "data": {
            "image/png": "[encoded data removed]",
            "text/plain": [
              "<Figure size 720x576 with 1 Axes>"
            ]
          },
          "metadata": {
            "needs_background": "light"
          }
        }
      ]
    },
    {
      "cell_type": "code",
      "source": [
        "X2 = dfkmnot20201[['docente','media_final']].iloc[: , :].values\n",
        "inertia = []\n",
        "for n in range(1 , 11):\n",
        "    algorithm = (KMeans(n_clusters = n))\n",
        "    algorithm.fit(X2)\n",
        "    inertia.append(algorithm.inertia_)\n",
        "\n",
        "plt.figure(1 , figsize = (15 ,6))\n",
        "plt.plot(np.arange(1 , 11) , inertia , 'o')\n",
        "plt.plot(np.arange(1 , 11) , inertia , '-' , alpha = 0.5)\n",
        "plt.xlabel('Número de Clusters') , plt.ylabel('Soma das Distâncias Q intra Clusters')\n",
        "plt.show()\n",
        "\n",
        "# Inicializando e Computando o KMeans com o valor de 4 clusters:\n",
        "algorithm = (KMeans(n_clusters = 3))\n",
        "algorithm.fit(X2)\n",
        "\n",
        "# Saída:\n",
        "\n",
        "KMeans(algorithm='auto', copy_x=True, init='k-means++', max_iter=300,\n",
        "       n_clusters=3, n_init=10,\n",
        "       random_state=None, tol=0.0001, verbose=0)\n",
        "\n",
        "# Visualizando os grupos criados e seus centroides:\n",
        "labels2 = algorithm.labels_\n",
        "centroids2 = algorithm.cluster_centers_\n",
        "\n",
        "h = 0.02\n",
        "x_min, x_max = X2[:, 0].min() - 1, X2[:, 0].max() + 1\n",
        "y_min, y_max = X2[:, 1].min() - 1, X2[:, 1].max() + 1\n",
        "xx, yy = np.meshgrid(np.arange(x_min, x_max, h), np.arange(y_min, y_max, h))\n",
        "Z = algorithm.predict(np.c_[xx.ravel(), yy.ravel()]) \n",
        "\n",
        "plt.figure(1 , figsize = (10 , 8) )\n",
        "plt.clf()\n",
        "Z2 = Z.reshape(xx.shape)\n",
        "plt.imshow(Z2 , interpolation='nearest', extent=(xx.min(), xx.max(), yy.min(), yy.max()), cmap = plt.cm.Pastel2, aspect = 'auto', origin='lower')\n",
        "plt.scatter( x = 'docente' ,y = 'media_final' , data = dfkmnot20201 , c = labels2 , s = 200 )\n",
        "plt.scatter(x = centroids2[: , 0] , y =  centroids2[: , 1] , s = 300 , c = 'red' , alpha = 0.5)\n",
        "plt.ylabel('Média Final') , plt.xlabel('Docente')\n",
        "plt.show()"
      ],
      "metadata": {
        "id": "o0v7cpahD1At",
        "colab": {
          "base_uri": "https://localhost:8080/",
          "height": 868
        },
        "outputId": "4a9e4fa6-aaae-4950-a914-43b2e8d11d6d"
      },
      "execution_count": 69,
      "outputs": [
        {
          "output_type": "display_data",
          "data": {
            "image/png": "[encoded data removed]",
            "text/plain": [
              "<Figure size 1080x432 with 1 Axes>"
            ]
          },
          "metadata": {
            "needs_background": "light"
          }
        },
        {
          "output_type": "display_data",
          "data": {
            "image/png": "[encoded data removed]",
            "text/plain": [
              "<Figure size 720x576 with 1 Axes>"
            ]
          },
          "metadata": {
            "needs_background": "light"
          }
        }
      ]
    },
    {
      "cell_type": "code",
      "source": [
        "X2 = dfkm20201[['nota','reprovadoporfalta']].iloc[: , :].values\n",
        "inertia = []\n",
        "for n in range(1 , 11):\n",
        "    algorithm = (KMeans(n_clusters = n))\n",
        "    algorithm.fit(X2)\n",
        "    inertia.append(algorithm.inertia_)\n",
        "\n",
        "plt.figure(1 , figsize = (15 ,6))\n",
        "plt.plot(np.arange(1 , 11) , inertia , 'o')\n",
        "plt.plot(np.arange(1 , 11) , inertia , '-' , alpha = 0.5)\n",
        "plt.xlabel('Número de Clusters') , plt.ylabel('Soma das Distâncias Q intra Clusters')\n",
        "plt.show()\n",
        "\n",
        "# Inicializando e Computando o KMeans com o valor de 4 clusters:\n",
        "algorithm = (KMeans(n_clusters = 3))\n",
        "algorithm.fit(X2)\n",
        "\n",
        "# Saída:\n",
        "\n",
        "KMeans(algorithm='auto', copy_x=True, init='k-means++', max_iter=300,\n",
        "       n_clusters=3, n_init=10,\n",
        "       random_state=None, tol=0.0001, verbose=0)\n",
        "\n",
        "# Visualizando os grupos criados e seus centroides:\n",
        "labels2 = algorithm.labels_\n",
        "centroids2 = algorithm.cluster_centers_\n",
        "\n",
        "h = 0.02\n",
        "x_min, x_max = X2[:, 0].min() - 1, X2[:, 0].max() + 1\n",
        "y_min, y_max = X2[:, 1].min() - 1, X2[:, 1].max() + 1\n",
        "xx, yy = np.meshgrid(np.arange(x_min, x_max, h), np.arange(y_min, y_max, h))\n",
        "Z = algorithm.predict(np.c_[xx.ravel(), yy.ravel()]) \n",
        "\n",
        "plt.figure(1 , figsize = (10 , 8) )\n",
        "plt.clf()\n",
        "Z2 = Z.reshape(xx.shape)\n",
        "plt.imshow(Z2 , interpolation='nearest', extent=(xx.min(), xx.max(), yy.min(), yy.max()), cmap = plt.cm.Pastel2, aspect = 'auto', origin='lower')\n",
        "plt.scatter( x = 'nota' ,y = 'reprovadoporfalta' , data = dfkm20201 , c = labels2 , s = 200 )\n",
        "plt.scatter(x = centroids2[: , 0] , y =  centroids2[: , 1] , s = 300 , c = 'red' , alpha = 0.5)\n",
        "plt.ylabel('Reprovado por falta') , plt.xlabel('Nota')\n",
        "plt.show()"
      ],
      "metadata": {
        "id": "I9G8lscuEBPA",
        "colab": {
          "base_uri": "https://localhost:8080/",
          "height": 868
        },
        "outputId": "0e736f5f-23d0-41ee-ba8a-8e402ba0a5b3"
      },
      "execution_count": 70,
      "outputs": [
        {
          "output_type": "display_data",
          "data": {
            "image/png": "[encoded data removed]",
            "text/plain": [
              "<Figure size 1080x432 with 1 Axes>"
            ]
          },
          "metadata": {
            "needs_background": "light"
          }
        },
        {
          "output_type": "display_data",
          "data": {
            "image/png": "[encoded data removed]",
            "text/plain": [
              "<Figure size 720x576 with 1 Axes>"
            ]
          },
          "metadata": {
            "needs_background": "light"
          }
        }
      ]
    },
    {
      "cell_type": "code",
      "source": [
        "X2 = dfkmnot20201[['nota','reprovadoporfalta']].iloc[: , :].values\n",
        "inertia = []\n",
        "for n in range(1 , 11):\n",
        "    algorithm = (KMeans(n_clusters = n))\n",
        "    algorithm.fit(X2)\n",
        "    inertia.append(algorithm.inertia_)\n",
        "\n",
        "plt.figure(1 , figsize = (15 ,6))\n",
        "plt.plot(np.arange(1 , 11) , inertia , 'o')\n",
        "plt.plot(np.arange(1 , 11) , inertia , '-' , alpha = 0.5)\n",
        "plt.xlabel('Número de Clusters') , plt.ylabel('Soma das Distâncias Q intra Clusters')\n",
        "plt.show()\n",
        "\n",
        "# Inicializando e Computando o KMeans com o valor de 4 clusters:\n",
        "algorithm = (KMeans(n_clusters = 3))\n",
        "algorithm.fit(X2)\n",
        "\n",
        "# Saída:\n",
        "\n",
        "KMeans(algorithm='auto', copy_x=True, init='k-means++', max_iter=300,\n",
        "       n_clusters=3, n_init=10,\n",
        "       random_state=None, tol=0.0001, verbose=0)\n",
        "\n",
        "# Visualizando os grupos criados e seus centroides:\n",
        "labels2 = algorithm.labels_\n",
        "centroids2 = algorithm.cluster_centers_\n",
        "\n",
        "h = 0.02\n",
        "x_min, x_max = X2[:, 0].min() - 1, X2[:, 0].max() + 1\n",
        "y_min, y_max = X2[:, 1].min() - 1, X2[:, 1].max() + 1\n",
        "xx, yy = np.meshgrid(np.arange(x_min, x_max, h), np.arange(y_min, y_max, h))\n",
        "Z = algorithm.predict(np.c_[xx.ravel(), yy.ravel()]) \n",
        "\n",
        "plt.figure(1 , figsize = (10 , 8) )\n",
        "plt.clf()\n",
        "Z2 = Z.reshape(xx.shape)\n",
        "plt.imshow(Z2 , interpolation='nearest', extent=(xx.min(), xx.max(), yy.min(), yy.max()), cmap = plt.cm.Pastel2, aspect = 'auto', origin='lower')\n",
        "plt.scatter( x = 'nota' ,y = 'reprovadoporfalta' , data = dfkmnot20201 , c = labels2 , s = 200 )\n",
        "plt.scatter(x = centroids2[: , 0] , y =  centroids2[: , 1] , s = 300 , c = 'red' , alpha = 0.5)\n",
        "plt.ylabel('Reprovado por falta') , plt.xlabel('Nota')\n",
        "plt.show()"
      ],
      "metadata": {
        "colab": {
          "base_uri": "https://localhost:8080/",
          "height": 868
        },
        "id": "jJfKJCj0Xo9Y",
        "outputId": "16891275-fb0d-4e58-f540-3921d40e2b08"
      },
      "execution_count": 71,
      "outputs": [
        {
          "output_type": "display_data",
          "data": {
            "image/png": "[encoded data removed]",
            "text/plain": [
              "<Figure size 1080x432 with 1 Axes>"
            ]
          },
          "metadata": {
            "needs_background": "light"
          }
        },
        {
          "output_type": "display_data",
          "data": {
            "image/png": "[encoded data removed]",
            "text/plain": [
              "<Figure size 720x576 with 1 Axes>"
            ]
          },
          "metadata": {
            "needs_background": "light"
          }
        }
      ]
    },
    {
      "cell_type": "code",
      "source": [
        "# id_turma\tdiscente\tdocente\tunidade\tnota\tmedia_final\tnumero_total_faltas\taprovado\treposicao\treprovadoporfalta\tdocente_nome\n",
        "X2 = dfkm20201[['media_final', 'numero_total_faltas']].iloc[: , :].values\n",
        "inertia = []\n",
        "for n in range(1 , 11):\n",
        "    algorithm = (KMeans(n_clusters = n))\n",
        "    algorithm.fit(X2)\n",
        "    inertia.append(algorithm.inertia_)\n",
        "\n",
        "plt.figure(1 , figsize = (15 ,6))\n",
        "plt.plot(np.arange(1 , 11) , inertia , 'o')\n",
        "plt.plot(np.arange(1 , 11) , inertia , '-' , alpha = 0.5)\n",
        "plt.xlabel('Número de Clusters') , plt.ylabel('Soma das Distâncias Q intra Clusters')\n",
        "plt.show()\n",
        "\n",
        "# Inicializando e Computando o KMeans com o valor de 4 clusters:\n",
        "algorithm = (KMeans(n_clusters = 3))\n",
        "algorithm.fit(X2)\n",
        "\n",
        "# Saída:\n",
        "\n",
        "KMeans(algorithm='auto', copy_x=True, init='k-means++', max_iter=300,\n",
        "       n_clusters=3, n_init=10,\n",
        "       random_state=None, tol=0.0001, verbose=0)\n",
        "\n",
        "# Visualizando os grupos criados e seus centroides:\n",
        "labels2 = algorithm.labels_\n",
        "centroids2 = algorithm.cluster_centers_\n",
        "\n",
        "h = 0.02\n",
        "x_min, x_max = X2[:, 0].min() - 1, X2[:, 0].max() + 1\n",
        "y_min, y_max = X2[:, 1].min() - 1, X2[:, 1].max() + 1\n",
        "xx, yy = np.meshgrid(np.arange(x_min, x_max, h), np.arange(y_min, y_max, h))\n",
        "Z = algorithm.predict(np.c_[xx.ravel(), yy.ravel()]) \n",
        "\n",
        "plt.figure(1 , figsize = (10 , 8) )\n",
        "plt.clf()\n",
        "Z2 = Z.reshape(xx.shape)\n",
        "plt.imshow(Z2 , interpolation='nearest', extent=(xx.min(), xx.max(), yy.min(), yy.max()), cmap = plt.cm.Pastel2, aspect = 'auto', origin='lower')\n",
        "plt.scatter( x = 'media_final' ,y = 'numero_total_faltas' , data = dfkm20201 , c = labels2 , s = 200 )\n",
        "plt.scatter(x = centroids2[: , 0] , y =  centroids2[: , 1] , s = 300 , c = 'red' , alpha = 0.5)\n",
        "plt.ylabel('Número total de faltas') , plt.xlabel('Média final')\n",
        "plt.show()"
      ],
      "metadata": {
        "colab": {
          "base_uri": "https://localhost:8080/",
          "height": 868
        },
        "id": "Smqe2B7-5l_J",
        "outputId": "e4baafa2-5636-47c1-d045-c24a9ce2d2be"
      },
      "execution_count": 72,
      "outputs": [
        {
          "output_type": "display_data",
          "data": {
            "image/png": "[encoded data removed]",
            "text/plain": [
              "<Figure size 1080x432 with 1 Axes>"
            ]
          },
          "metadata": {
            "needs_background": "light"
          }
        },
        {
          "output_type": "display_data",
          "data": {
            "image/png": "[encoded data removed]",
            "text/plain": [
              "<Figure size 720x576 with 1 Axes>"
            ]
          },
          "metadata": {
            "needs_background": "light"
          }
        }
      ]
    },
    {
      "cell_type": "code",
      "source": [
        "# id_turma\tdiscente\tdocente\tunidade\tnota\tmedia_final\tnumero_total_faltas\taprovado\treposicao\treprovadoporfalta\tdocente_nome\n",
        "X2 = dfkmnot20201[['media_final', 'numero_total_faltas']].iloc[: , :].values\n",
        "inertia = []\n",
        "for n in range(1 , 11):\n",
        "    algorithm = (KMeans(n_clusters = n))\n",
        "    algorithm.fit(X2)\n",
        "    inertia.append(algorithm.inertia_)\n",
        "\n",
        "plt.figure(1 , figsize = (15 ,6))\n",
        "plt.plot(np.arange(1 , 11) , inertia , 'o')\n",
        "plt.plot(np.arange(1 , 11) , inertia , '-' , alpha = 0.5)\n",
        "plt.xlabel('Número de Clusters') , plt.ylabel('Soma das Distâncias Q intra Clusters')\n",
        "plt.show()\n",
        "\n",
        "# Inicializando e Computando o KMeans com o valor de 4 clusters:\n",
        "algorithm = (KMeans(n_clusters = 3))\n",
        "algorithm.fit(X2)\n",
        "\n",
        "# Saída:\n",
        "\n",
        "KMeans(algorithm='auto', copy_x=True, init='k-means++', max_iter=300,\n",
        "       n_clusters=3, n_init=10,\n",
        "       random_state=None, tol=0.0001, verbose=0)\n",
        "\n",
        "# Visualizando os grupos criados e seus centroides:\n",
        "labels2 = algorithm.labels_\n",
        "centroids2 = algorithm.cluster_centers_\n",
        "\n",
        "h = 0.02\n",
        "x_min, x_max = X2[:, 0].min() - 1, X2[:, 0].max() + 1\n",
        "y_min, y_max = X2[:, 1].min() - 1, X2[:, 1].max() + 1\n",
        "xx, yy = np.meshgrid(np.arange(x_min, x_max, h), np.arange(y_min, y_max, h))\n",
        "Z = algorithm.predict(np.c_[xx.ravel(), yy.ravel()]) \n",
        "\n",
        "plt.figure(1 , figsize = (10 , 8) )\n",
        "plt.clf()\n",
        "Z2 = Z.reshape(xx.shape)\n",
        "plt.imshow(Z2 , interpolation='nearest', extent=(xx.min(), xx.max(), yy.min(), yy.max()), cmap = plt.cm.Pastel2, aspect = 'auto', origin='lower')\n",
        "plt.scatter( x = 'media_final' ,y = 'numero_total_faltas' , data = dfkmnot20201 , c = labels2 , s = 200 )\n",
        "plt.scatter(x = centroids2[: , 0] , y =  centroids2[: , 1] , s = 300 , c = 'red' , alpha = 0.5)\n",
        "plt.ylabel('Número total de faltas') , plt.xlabel('Média final')\n",
        "plt.show()"
      ],
      "metadata": {
        "colab": {
          "base_uri": "https://localhost:8080/",
          "height": 868
        },
        "id": "aDgNdqIiYU54",
        "outputId": "9bdc0583-dcc1-44ea-d8ac-e52e47f28907"
      },
      "execution_count": 73,
      "outputs": [
        {
          "output_type": "display_data",
          "data": {
            "image/png": "[encoded data removed]",
            "text/plain": [
              "<Figure size 1080x432 with 1 Axes>"
            ]
          },
          "metadata": {
            "needs_background": "light"
          }
        },
        {
          "output_type": "display_data",
          "data": {
            "image/png": "[encoded data removed]",
            "text/plain": [
              "<Figure size 720x576 with 1 Axes>"
            ]
          },
          "metadata": {
            "needs_background": "light"
          }
        }
      ]
    },
    {
      "cell_type": "code",
      "source": [
        "# id_turma\tdiscente\tdocente\tunidade\tnota\tmedia_final\tnumero_total_faltas\taprovado\treposicao\treprovadoporfalta\tdocente_nome\n",
        "X2 = dfkm[['media_final','reprovadoporfalta']].iloc[: , :].values\n",
        "inertia = []\n",
        "for n in range(1 , 11):\n",
        "    algorithm = (KMeans(n_clusters = n))\n",
        "    algorithm.fit(X2)\n",
        "    inertia.append(algorithm.inertia_)\n",
        "\n",
        "plt.figure(1 , figsize = (15 ,6))\n",
        "plt.plot(np.arange(1 , 11) , inertia , 'o')\n",
        "plt.plot(np.arange(1 , 11) , inertia , '-' , alpha = 0.5)\n",
        "plt.xlabel('Número de Clusters') , plt.ylabel('Soma das Distâncias Q intra Clusters')\n",
        "plt.show()\n",
        "\n",
        "# Inicializando e Computando o KMeans com o valor de 4 clusters:\n",
        "algorithm = (KMeans(n_clusters = 3))\n",
        "algorithm.fit(X2)\n",
        "\n",
        "# Saída:\n",
        "\n",
        "KMeans(algorithm='auto', copy_x=True, init='k-means++', max_iter=300,\n",
        "       n_clusters=3, n_init=10,\n",
        "       random_state=None, tol=0.0001, verbose=0)\n",
        "\n",
        "# Visualizando os grupos criados e seus centroides:\n",
        "labels2 = algorithm.labels_\n",
        "centroids2 = algorithm.cluster_centers_\n",
        "\n",
        "h = 0.02\n",
        "x_min, x_max = X2[:, 0].min() - 1, X2[:, 0].max() + 1\n",
        "y_min, y_max = X2[:, 1].min() - 1, X2[:, 1].max() + 1\n",
        "xx, yy = np.meshgrid(np.arange(x_min, x_max, h), np.arange(y_min, y_max, h))\n",
        "Z = algorithm.predict(np.c_[xx.ravel(), yy.ravel()]) \n",
        "\n",
        "plt.figure(1 , figsize = (15 , 7) )\n",
        "plt.clf()\n",
        "Z2 = Z.reshape(xx.shape)\n",
        "plt.imshow(Z2 , interpolation='nearest', extent=(xx.min(), xx.max(), yy.min(), yy.max()), cmap = plt.cm.Pastel2, aspect = 'auto', origin='lower')\n",
        "plt.scatter( x = 'media_final' ,y = 'reprovadoporfalta' , data = dfkm , c = labels2 , s = 200 )\n",
        "plt.scatter(x = centroids2[: , 0] , y =  centroids2[: , 1] , s = 300 , c = 'red' , alpha = 0.5)\n",
        "plt.ylabel('Reprovado por falta') , plt.xlabel('Média Final')\n",
        "plt.show()"
      ],
      "metadata": {
        "colab": {
          "base_uri": "https://localhost:8080/",
          "height": 813
        },
        "id": "J7la11qd59tT",
        "outputId": "50a00223-c95a-424c-d017-e7f7c147961b"
      },
      "execution_count": 74,
      "outputs": [
        {
          "output_type": "display_data",
          "data": {
            "image/png": "[encoded data removed]",
            "text/plain": [
              "<Figure size 1080x432 with 1 Axes>"
            ]
          },
          "metadata": {
            "needs_background": "light"
          }
        },
        {
          "output_type": "display_data",
          "data": {
            "image/png": "[encoded data removed]",
            "text/plain": [
              "<Figure size 1080x504 with 1 Axes>"
            ]
          },
          "metadata": {
            "needs_background": "light"
          }
        }
      ]
    }
  ]
}