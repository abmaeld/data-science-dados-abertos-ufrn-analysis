{
  "nbformat": 4,
  "nbformat_minor": 0,
  "metadata": {
    "colab": {
      "name": " data-science-itp-analysis",
      "provenance": [],
      "collapsed_sections": []
    },
    "kernelspec": {
      "name": "python3",
      "display_name": "Python 3"
    }
  },
  "cells": [
    {
      "cell_type": "code",
      "source": [
        "#https://towardsdatascience.com/9-distance-measures-in-data-science-918109d069fa\n",
        "#https://medium.com/@leobezerra_90682/python-r-messi-and-cristiano-d2b5278dbd5a\n",
        "#https://towardsdatascience.com/clustering-in-detail-b439f31c56b7\n",
        "#https://www.youtube.com/watch?v=Fqk3sdeAXMo\n",
        "#https://www.youtube.com/watch?v=-XKCV3V26i4\n",
        "#https://www.youtube.com/watch?v=D-SRERibbiU"
      ],
      "metadata": {
        "id": "Og7HyfWFfMQA"
      },
      "execution_count": null,
      "outputs": []
    },
    {
      "cell_type": "code",
      "source": [
        "from google.colab import drive\n",
        "drive.mount('/content/drive')"
      ],
      "metadata": {
        "colab": {
          "base_uri": "https://localhost:8080/"
        },
        "id": "StikDkm6mOCc",
        "outputId": "53b70b75-6006-4125-fc87-8a22e8242d08"
      },
      "execution_count": null,
      "outputs": [
        {
          "output_type": "stream",
          "name": "stdout",
          "text": [
            "Drive already mounted at /content/drive; to attempt to forcibly remount, call drive.mount(\"/content/drive\", force_remount=True).\n"
          ]
        }
      ]
    },
    {
      "cell_type": "code",
      "source": [
        "#Tampermonkey autoscroll colab notebook\n",
        "%%javascript\n",
        "\n",
        "window.scroll_flag = true\n",
        "window.scroll_exit = false\n",
        "window.scroll_delay = 100\n",
        "\n",
        "$(\".output_scroll\").each(function() {\n",
        "    $(this)[0].scrollTop = $(this)[0].scrollHeight;\n",
        "});\n",
        "\n",
        "function callScrollToBottom() {\n",
        "    setTimeout(scrollToBottom, window.scroll_delay);\n",
        "}\n",
        "\n",
        "function scrollToBottom() {\n",
        "    if (window.scroll_exit) {\n",
        "        return;\n",
        "    }\n",
        "    if (!window.scroll_flag) {\n",
        "        callScrollToBottom();\n",
        "        return;\n",
        "    };\n",
        "    \n",
        "    $(\".output_scroll\").each(function() {\n",
        "        if (!$(this).attr('scroll_checkbox')){\n",
        "            window.scroll_flag = true;\n",
        "            $(this).attr('scroll_checkbox',true);\n",
        "            var div = document.createElement('div');\n",
        "            var checkbox = document.createElement('input');\n",
        "            checkbox.type = \"checkbox\";\n",
        "            checkbox.onclick = function(){window.scroll_flag = checkbox.checked}\n",
        "            checkbox.checked = \"checked\"\n",
        "            div.append(\"Auto-Scroll-To-Bottom: \");\n",
        "            div.append(checkbox);\n",
        "            $(this).parent().before(div);\n",
        "        }\n",
        "        \n",
        "        $(this)[0].scrollTop = $(this)[0].scrollHeight;\n",
        "    });\n",
        "    callScrollToBottom();\n",
        "}\n",
        "scrollToBottom();"
      ],
      "metadata": {
        "colab": {
          "base_uri": "https://localhost:8080/",
          "height": 17
        },
        "id": "WQc88UOSJYys",
        "outputId": "09717ffa-a03f-4b12-b8bf-f584210dbe79"
      },
      "execution_count": null,
      "outputs": [
        {
          "output_type": "display_data",
          "data": {
            "application/javascript": [
              "\n",
              "window.scroll_flag = true\n",
              "window.scroll_exit = false\n",
              "window.scroll_delay = 100\n",
              "\n",
              "$(\".output_scroll\").each(function() {\n",
              "    $(this)[0].scrollTop = $(this)[0].scrollHeight;\n",
              "});\n",
              "\n",
              "function callScrollToBottom() {\n",
              "    setTimeout(scrollToBottom, window.scroll_delay);\n",
              "}\n",
              "\n",
              "function scrollToBottom() {\n",
              "    if (window.scroll_exit) {\n",
              "        return;\n",
              "    }\n",
              "    if (!window.scroll_flag) {\n",
              "        callScrollToBottom();\n",
              "        return;\n",
              "    };\n",
              "    \n",
              "    $(\".output_scroll\").each(function() {\n",
              "        if (!$(this).attr('scroll_checkbox')){\n",
              "            window.scroll_flag = true;\n",
              "            $(this).attr('scroll_checkbox',true);\n",
              "            var div = document.createElement('div');\n",
              "            var checkbox = document.createElement('input');\n",
              "            checkbox.type = \"checkbox\";\n",
              "            checkbox.onclick = function(){window.scroll_flag = checkbox.checked}\n",
              "            checkbox.checked = \"checked\"\n",
              "            div.append(\"Auto-Scroll-To-Bottom: \");\n",
              "            div.append(checkbox);\n",
              "            $(this).parent().before(div);\n",
              "        }\n",
              "        \n",
              "        $(this)[0].scrollTop = $(this)[0].scrollHeight;\n",
              "    });\n",
              "    callScrollToBottom();\n",
              "}\n",
              "scrollToBottom();"
            ],
            "text/plain": [
              "<IPython.core.display.Javascript object>"
            ]
          },
          "metadata": {}
        }
      ]
    },
    {
      "cell_type": "code",
      "source": [
        "# CTRL + F10 HERE\n",
        "#ou need to paste this script into the JavaScript console of the Colab browser window (Ctrl+Shift+i):\n",
        "'''\n",
        "function ClickConnect() {\n",
        "  console.log('Working')\n",
        "  document\n",
        "    .querySelector('#top-toolbar > colab-connect-button')\n",
        "    .shadowRoot.querySelector('#connect')\n",
        "    .click()\n",
        "}\n",
        "\n",
        "setInterval(ClickConnect, 60000)\n",
        "'''\n",
        "#"
      ],
      "metadata": {
        "id": "PBcyron8txUJ",
        "colab": {
          "base_uri": "https://localhost:8080/",
          "height": 53
        },
        "outputId": "b5f77791-41a2-4540-878f-b9d44c9adf7d"
      },
      "execution_count": null,
      "outputs": [
        {
          "output_type": "execute_result",
          "data": {
            "application/vnd.google.colaboratory.intrinsic+json": {
              "type": "string"
            },
            "text/plain": [
              "\"\\nfunction ClickConnect() {\\n  console.log('Working')\\n  document\\n    .querySelector('#top-toolbar > colab-connect-button')\\n    .shadowRoot.querySelector('#connect')\\n    .click()\\n}\\n\\nsetInterval(ClickConnect, 60000)\\n\""
            ]
          },
          "metadata": {},
          "execution_count": 236
        }
      ]
    },
    {
      "cell_type": "code",
      "metadata": {
        "id": "Y7MkOqfZIDKO",
        "colab": {
          "base_uri": "https://localhost:8080/"
        },
        "outputId": "3aa6cd0a-9125-4527-b8fc-06a668231394"
      },
      "source": [
        "'''#GPU count and name\n",
        "!/usr/local/cuda/bin/nvcc --version\n",
        "!nvidia-smi\n",
        "#CPU\n",
        "!lscpu |grep 'Model name'\n",
        "#no.of sockets i.e available slots for physical processors\n",
        "!lscpu | grep 'Socket(s):'\n",
        "#no.of cores each processor is having \n",
        "!lscpu | grep 'Core(s) per socket:'\n",
        "#no.of threads each core is having\n",
        "!lscpu | grep 'Thread(s) per core'\n",
        "#L3 cache\n",
        "!lscpu | grep \"L3 cache\" \n",
        "#if it had turbo boost it would've shown Min and Max MHz also but it is only showing current frequency this means it always operates at shown frequency\n",
        "!lscpu | grep \"MHz\"\n",
        "#memory that we can use\n",
        "!free -h --si | awk  '/Mem:/{print $2}'\n",
        "#hard disk space that we can use\n",
        "!df -h / | awk '{print $4}'\n",
        "'''\n",
        "#\n",
        "!apt-get install inxi -y\n",
        "!inxi -F"
      ],
      "execution_count": null,
      "outputs": [
        {
          "output_type": "stream",
          "name": "stdout",
          "text": [
            "Reading package lists... Done\n",
            "Building dependency tree       \n",
            "Reading state information... Done\n",
            "inxi is already the newest version (2.3.56-1).\n"
          ]
        }
      ]
    },
    {
      "cell_type": "code",
      "source": [
        "from google.colab import drive\n",
        "drive.mount('/content/drive/')"
      ],
      "metadata": {
        "id": "znYdvOuYPupG"
      },
      "execution_count": null,
      "outputs": []
    },
    {
      "cell_type": "code",
      "source": [
        "import warnings\n",
        "warnings.filterwarnings('ignore')"
      ],
      "metadata": {
        "id": "nLhkYfKzTYnB"
      },
      "execution_count": null,
      "outputs": []
    },
    {
      "cell_type": "code",
      "metadata": {
        "id": "itZjxFDjeAYZ"
      },
      "source": [
        "# boas práticas: criar uma célula com todas as bibliotecas necessárias\n",
        "# importando as bibliotecas necessárias\n",
        "import pandas as pd\n",
        "import matplotlib.pyplot as plt\n",
        "import plotly.express as px\n",
        "import seaborn as sns\n",
        "import numpy as np\n",
        "import plotly as py\n",
        "import plotly.graph_objs as go\n",
        "from sklearn.cluster import KMeans\n",
        "import warnings\n",
        "import os\n",
        "#warnings.filterwarnings(\"ignore\")\n",
        "py.offline.init_notebook_mode(connected = True)"
      ],
      "execution_count": null,
      "outputs": []
    },
    {
      "cell_type": "code",
      "metadata": {
        "id": "3_BZoc1zgQip"
      },
      "source": [
        "# http://dados.ufrn.br/dataset/turmas\n",
        "\n",
        "path = '/content/drive/'+\"MyDrive\"+'/DataScience/Dados/';\n",
        "\n",
        "# turmas dos 3 semestres\n",
        "turmas_url_2018_02 = path+'turmas-2018.2.csv'\n",
        "turmas_url_2019_02 = path+'turmas-2019.2.csv'\n",
        "turmas_url_2018_01 = path+'turmas-2018.1.csv'\n",
        "turmas_url_2019_01 = path+'turmas-2019.1.csv'\n",
        "turmas_url_2020_01 = path+'turmas-2020.6.csv'\n",
        "\n",
        "# matrículas em componentes dos 3 semestres\n",
        "notas_url_2018_02 = path+'matricula-componente-20182.csv'\n",
        "notas_url_2019_02 = path+'matricula-componente-20192.csv'\n",
        "notas_url_2018_01 = path+'matricula-componente-20181.csv'\n",
        "notas_url_2019_01 = path+'matricula-componente-20191.csv'\n",
        "notas_url_2020_01 = path+'matricula-componente-20206.csv'\n",
        "\n",
        "# componentes curriculares presenciais\n",
        "disciplinas_url = path+'componentes-curriculares-presenciais.csv'\n",
        "\n",
        "# docentes da ufrn\n",
        "docentes_url = path+'docentes.csv'\n",
        "\n",
        "turmas_2018_02 = pd.read_csv(turmas_url_2018_02, sep=';')\n",
        "turmas_2019_02 = pd.read_csv(turmas_url_2019_02, sep=';')\n",
        "turmas_2018_01 = pd.read_csv(turmas_url_2018_01, sep=';')\n",
        "turmas_2019_01 = pd.read_csv(turmas_url_2019_01, sep=';')\n",
        "turmas_2020_01 = pd.read_csv(turmas_url_2020_01, sep=';')\n",
        "\n",
        "# matriculas em componentes em todas as disciplinas\n",
        "notas_2018_02 = pd.read_csv(notas_url_2018_02, sep=';')\n",
        "notas_2019_02 = pd.read_csv(notas_url_2019_02, sep=';')\n",
        "notas_2018_01 = pd.read_csv(notas_url_2018_01, sep=';')\n",
        "notas_2019_01 = pd.read_csv(notas_url_2019_01, sep=';')\n",
        "notas_2020_01 = pd.read_csv(notas_url_2020_01, sep=';')\n",
        "\n",
        "# failsafe dropna\n",
        "'''\n",
        "turmas_2018_01 = turmas_2018_01.dropna()\n",
        "notas_2018_01 =  notas_2018_01.dropna()\n",
        "\n",
        "turmas_2018_02 = turmas_2018_02.dropna()\n",
        "notas_2018_02 =  notas_2018_02.dropna()\n",
        "\n",
        "turmas_2019_01 = turmas_2019_01.dropna()\n",
        "notas_2019_01 =  notas_2019_01.dropna()\n",
        "\n",
        "turmas_2019_02 = turmas_2019_02.dropna()\n",
        "notas_2019_02 =  notas_2019_02.dropna()\n",
        "\n",
        "turmas_2020_01 = turmas_2020_01.dropna()\n",
        "notas_2020_01 =  notas_2020_01.dropna()\n",
        "\n",
        "'''\n",
        "\n",
        "# componentes curriculares presenciais\n",
        "# por alguma razão ou outra, esse dataset tinha algum lixo em linhas que ocasionava \n",
        "# erros de leitura, dessa forma foi realizado um filtro apenas por colunas mais importantes\n",
        "disciplinas = pd.read_csv(disciplinas_url, \n",
        "                          sep=';', \n",
        "                          usecols=[\"id_componente\",\"codigo\",\"nivel\",\"nome\",\"unidade_responsavel\"])\n",
        "\n",
        "docentes = pd.read_csv(docentes_url, sep=';')"
      ],
      "execution_count": null,
      "outputs": []
    },
    {
      "cell_type": "code",
      "metadata": {
        "id": "fKdtJqohnDd1"
      },
      "source": [
        "# Adaptando o dataframe turma e disciplinas para o merge\n",
        "# Esse procedimento é necessário pois o dataframe turma está codificado com ids\n",
        "\n",
        "# A coluna id_componente precisa ser a mesma em ambos os dataframes\n",
        "turmas_2018_02.rename(columns={'id_componente_curricular': 'id_componente'}, inplace=True)\n",
        "turmas_2019_02.rename(columns={'id_componente_curricular': 'id_componente'}, inplace=True)\n",
        "turmas_2018_01.rename(columns={'id_componente_curricular': 'id_componente'}, inplace=True)\n",
        "turmas_2019_01.rename(columns={'id_componente_curricular': 'id_componente'}, inplace=True)\n",
        "turmas_2020_01.rename(columns={'id_componente_curricular': 'id_componente'}, inplace=True)\n",
        "\n",
        "# id_componente em ambos os dataframes precisam ser do mesmo tipo\n",
        "turmas_2018_02.id_componente = turmas_2018_02.id_componente.astype(str)\n",
        "turmas_2019_02.id_componente = turmas_2019_02.id_componente.astype(str)\n",
        "turmas_2018_01.id_componente = turmas_2018_01.id_componente.astype(str)\n",
        "turmas_2019_01.id_componente = turmas_2019_01.id_componente.astype(str)\n",
        "turmas_2020_01.id_componente = turmas_2020_01.id_componente.astype(str)\n",
        "\n",
        "disciplinas.id_componente = disciplinas.id_componente.astype(str)\n",
        "\n",
        "# Limpando o dataframe disciplinas com linhas desnecessárias\n",
        "disciplinas.dropna(inplace=True)\n",
        "disciplinas = disciplinas[~disciplinas.id_componente.duplicated()]"
      ],
      "execution_count": null,
      "outputs": []
    },
    {
      "cell_type": "code",
      "metadata": {
        "id": "fam5120pnemF"
      },
      "source": [
        "# Fazendo um merge entre o dataframe turmas e disciplinas utilizando como base a coluna id_componente\n",
        "# https://pandas.pydata.org/pandas-docs/stable/merging.html\n",
        "colunas = [\"id_turma\",\"siape\",\"codigo\",\"nivel_ensino\",\"nome\",\"unidade_responsavel\",\n",
        "          \"situacao_turma\",\"capacidade_aluno\",\"descricao_horario\"]\n",
        "\n",
        "# merge os dois dataframes utilizando como base a coluna id_componente\n",
        "merge_turmas_disciplinas_2018_02 = pd.merge(turmas_2018_02, disciplinas, on='id_componente')[colunas]\n",
        "merge_turmas_disciplinas_2019_02 = pd.merge(turmas_2019_02, disciplinas, on='id_componente')[colunas]\n",
        "merge_turmas_disciplinas_2018_01 = pd.merge(turmas_2018_01, disciplinas, on='id_componente')[colunas]\n",
        "merge_turmas_disciplinas_2019_01 = pd.merge(turmas_2019_01, disciplinas, on='id_componente')[colunas]\n",
        "merge_turmas_disciplinas_2020_01 = pd.merge(turmas_2020_01, disciplinas, on='id_componente')[colunas]\n",
        "\n",
        "merge_turmas_disciplinas_2018_02.dropna(inplace=True)\n",
        "merge_turmas_disciplinas_2019_02.dropna(inplace=True)\n",
        "merge_turmas_disciplinas_2018_01.dropna(inplace=True)\n",
        "merge_turmas_disciplinas_2019_01.dropna(inplace=True)\n",
        "merge_turmas_disciplinas_2020_01.dropna(inplace=True)"
      ],
      "execution_count": null,
      "outputs": []
    },
    {
      "cell_type": "code",
      "metadata": {
        "id": "Cz5YcA-doQ-r"
      },
      "source": [
        "# filtrando as turmas com código IMD\n",
        "\n",
        "turmas_imd_2018_02 = merge_turmas_disciplinas_2018_02; #merge_turmas_disciplinas_2018_02[merge_turmas_disciplinas_2018_02.codigo.str.contains(\"IMD\")]\n",
        "turmas_imd_2019_02 = merge_turmas_disciplinas_2019_02; #merge_turmas_disciplinas_2019_02[merge_turmas_disciplinas_2019_02.codigo.str.contains(\"IMD\")]\n",
        "turmas_imd_2018_01 = merge_turmas_disciplinas_2018_01; #merge_turmas_disciplinas_2018_02[merge_turmas_disciplinas_2018_02.codigo.str.contains(\"IMD\")]\n",
        "turmas_imd_2019_01 = merge_turmas_disciplinas_2019_01; #merge_turmas_disciplinas_2019_02[merge_turmas_disciplinas_2019_02.codigo.str.contains(\"IMD\")]\n",
        "turmas_imd_2020_01 = merge_turmas_disciplinas_2020_01; #merge_turmas_disciplinas_2020_01[merge_turmas_disciplinas_2020_01.codigo.str.contains(\"IMD\")]\n",
        "\n",
        "# utilizar apenas disciplinas com código \"CONSOLIDADA\"\n",
        "turmas_imd_2018_02 = turmas_imd_2018_02[turmas_imd_2018_02.situacao_turma == 'CONSOLIDADA'] \n",
        "turmas_imd_2019_02 = turmas_imd_2019_02[turmas_imd_2019_02.situacao_turma == 'CONSOLIDADA']\n",
        "turmas_imd_2018_01 = turmas_imd_2018_01[turmas_imd_2018_01.situacao_turma == 'CONSOLIDADA'] \n",
        "turmas_imd_2019_01 = turmas_imd_2019_01[turmas_imd_2019_01.situacao_turma == 'CONSOLIDADA']\n",
        "turmas_imd_2020_01 = turmas_imd_2020_01[turmas_imd_2020_01.situacao_turma == 'CONSOLIDADA']\n",
        "\n",
        "# Adaptar o nome da coluna id_docente_interno para siape\n",
        "turmas_imd_2018_02.rename(columns={'siape': 'siape'}, inplace=True)\n",
        "turmas_imd_2019_02.rename(columns={'siape': 'siape'}, inplace=True)\n",
        "turmas_imd_2018_01.rename(columns={'siape': 'siape'}, inplace=True)\n",
        "turmas_imd_2019_01.rename(columns={'siape': 'siape'}, inplace=True)\n",
        "turmas_imd_2020_01.rename(columns={'siape': 'siape'}, inplace=True)\n",
        "\n",
        "turmas_imd_2018_02.capacidade_aluno = turmas_imd_2018_02.capacidade_aluno.astype(np.int64)\n",
        "turmas_imd_2019_02.capacidade_aluno = turmas_imd_2019_02.capacidade_aluno.astype(np.int64)\n",
        "turmas_imd_2018_01.capacidade_aluno = turmas_imd_2018_01.capacidade_aluno.astype(np.int64)\n",
        "turmas_imd_2019_01.capacidade_aluno = turmas_imd_2019_01.capacidade_aluno.astype(np.int64)\n",
        "turmas_imd_2020_01.capacidade_aluno = turmas_imd_2020_01.capacidade_aluno.astype(np.int64)\n",
        "'''\n",
        "# Adaptar os tipos de dados em turmas_imd para o merge com o dataframe docentes\n",
        "turmas_imd_2018_02.siape = turmas_imd_2018_02.siape.astype(np.int64)\n",
        "turmas_imd_2019_02.siape = turmas_imd_2019_02.siape.astype(np.int64)\n",
        "turmas_imd_2018_01.siape = turmas_imd_2018_01.siape.astype(np.int64)\n",
        "turmas_imd_2019_01.siape = turmas_imd_2019_01.siape.astype(np.int64)\n",
        "turmas_imd_2020_01.siape = turmas_imd_2020_01.siape.astype(np.int64)\n",
        "'''\n",
        "#"
      ],
      "execution_count": null,
      "outputs": []
    },
    {
      "cell_type": "code",
      "metadata": {
        "id": "bx6k4DVCpnZg"
      },
      "source": [
        "# merge os dataframes  turmas_imd e docentes utilizando como base a coluna id_servidor\n",
        "colunas = [\"id_turma\", \"nome_y\", \"codigo\", \"nivel_ensino\",\n",
        "          \"nome_x\",\"capacidade_aluno\", \"descricao_horario\"]\n",
        "turmas_imd_2018_02_nomesprof = pd.merge(turmas_imd_2018_02, docentes, on='siape')[colunas]\n",
        "turmas_imd_2019_02_nomesprof = pd.merge(turmas_imd_2019_02, docentes, on='siape')[colunas]\n",
        "turmas_imd_2018_01_nomesprof = pd.merge(turmas_imd_2018_01, docentes, on='siape')[colunas]\n",
        "turmas_imd_2019_01_nomesprof = pd.merge(turmas_imd_2019_01, docentes, on='siape')[colunas]\n",
        "turmas_imd_2020_01_nomesprof = pd.merge(turmas_imd_2020_01, docentes, on='siape')[colunas]"
      ],
      "execution_count": null,
      "outputs": []
    },
    {
      "cell_type": "code",
      "source": [
        "# This is a checkpoint CTRL + F10 HERE"
      ],
      "metadata": {
        "id": "E0qlBLeX1Gms"
      },
      "execution_count": null,
      "outputs": []
    },
    {
      "cell_type": "code",
      "metadata": {
        "id": "2bpkMJ9vqrX-"
      },
      "source": [
        "notas_imd_2018_02 = notas_2018_02[notas_2018_02.id_turma.isin(turmas_imd_2018_02_nomesprof.id_turma)]\n",
        "notas_imd_2019_02 = notas_2019_02[notas_2019_02.id_turma.isin(turmas_imd_2019_02_nomesprof.id_turma)]\n",
        "notas_imd_2018_01 = notas_2018_01[notas_2018_01.id_turma.isin(turmas_imd_2018_01_nomesprof.id_turma)]\n",
        "notas_imd_2019_01 = notas_2019_01[notas_2019_01.id_turma.isin(turmas_imd_2019_01_nomesprof.id_turma)]\n",
        "notas_imd_2020_01 = notas_2020_01[notas_2020_01.id_turma.isin(turmas_imd_2020_01_nomesprof.id_turma)]\n",
        "\n",
        "# merge entre os dataframes notas_imd e turmas_imd_nomesprof utilizando como referencia id_turma\n",
        "notas_imd_2018_02_merge = pd.merge(notas_imd_2018_02, turmas_imd_2018_02_nomesprof, on='id_turma')\n",
        "notas_imd_2019_02_merge = pd.merge(notas_imd_2019_02, turmas_imd_2019_02_nomesprof, on='id_turma')\n",
        "notas_imd_2018_01_merge = pd.merge(notas_imd_2018_01, turmas_imd_2018_01_nomesprof, on='id_turma')\n",
        "notas_imd_2019_01_merge = pd.merge(notas_imd_2019_01, turmas_imd_2019_01_nomesprof, on='id_turma')\n",
        "notas_imd_2020_01_merge = pd.merge(notas_imd_2020_01, turmas_imd_2020_01_nomesprof, on='id_turma')\n"
      ],
      "execution_count": null,
      "outputs": []
    },
    {
      "cell_type": "code",
      "source": [
        "notas_imd_2018_01_merge = notas_imd_2018_01_merge.replace({',': '.'}, regex=True)\n",
        "notas_imd_2018_01_merge.nota = notas_imd_2018_01_merge.nota.astype(np.float64)\n",
        "notas_imd_2018_01_merge.media_final = notas_imd_2018_01_merge.media_final.astype(np.float64)\n",
        "notas_imd_2018_01_merge.id_curso = notas_imd_2018_01_merge.id_curso.fillna(0).astype(np.ushort)\n",
        "notas_imd_2018_01_merge.unidade = notas_imd_2018_01_merge.unidade.fillna(0).astype(np.ushort)\n",
        "notas_imd_2018_01_merge.faltas_unidade = notas_imd_2018_01_merge.faltas_unidade.fillna(0).astype(np.ushort)\n",
        "notas_imd_2018_01_merge.numero_total_faltas = notas_imd_2018_01_merge.numero_total_faltas.fillna(0).astype(np.ushort)\n",
        "notas_imd_2018_01_merge.capacidade_aluno = notas_imd_2018_01_merge.capacidade_aluno.fillna(0).astype(np.ushort)\n",
        "notas_imd_2018_01_merge.id_turma = notas_imd_2018_01_merge.id_turma.fillna(0).astype(np.ushort)\n",
        "\n",
        "notas_imd_2018_02_merge = notas_imd_2018_02_merge.replace({',': '.'}, regex=True)\n",
        "notas_imd_2018_02_merge.nota = notas_imd_2018_02_merge.nota.astype(np.float64)\n",
        "notas_imd_2018_02_merge.media_final = notas_imd_2018_02_merge.media_final.astype(np.float64)\n",
        "notas_imd_2018_02_merge.id_curso = notas_imd_2018_02_merge.id_curso.fillna(0).astype(np.ushort)\n",
        "notas_imd_2018_02_merge.unidade = notas_imd_2018_02_merge.unidade.fillna(0).astype(np.ushort)\n",
        "notas_imd_2018_02_merge.faltas_unidade = notas_imd_2018_02_merge.faltas_unidade.fillna(0).astype(np.ushort)\n",
        "notas_imd_2018_02_merge.numero_total_faltas = notas_imd_2018_02_merge.numero_total_faltas.fillna(0).astype(np.ushort)\n",
        "notas_imd_2018_02_merge.capacidade_aluno = notas_imd_2018_02_merge.capacidade_aluno.fillna(0).astype(np.ushort)\n",
        "notas_imd_2018_02_merge.id_turma = notas_imd_2018_02_merge.id_turma.fillna(0).astype(np.ushort)\n",
        "\n",
        "notas_imd_2019_01_merge = notas_imd_2019_01_merge.replace({',': '.'}, regex=True)\n",
        "notas_imd_2019_01_merge.nota = notas_imd_2019_01_merge.nota.astype(np.float64)\n",
        "notas_imd_2019_01_merge.media_final = notas_imd_2019_01_merge.media_final.astype(np.float64)\n",
        "notas_imd_2019_01_merge.id_curso = notas_imd_2019_01_merge.id_curso.fillna(0).astype(np.ushort)\n",
        "notas_imd_2019_01_merge.unidade = notas_imd_2019_01_merge.unidade.fillna(0).astype(np.ushort)\n",
        "notas_imd_2019_01_merge.faltas_unidade = notas_imd_2019_01_merge.faltas_unidade.fillna(0).astype(np.ushort)\n",
        "notas_imd_2019_01_merge.numero_total_faltas = notas_imd_2019_01_merge.numero_total_faltas.fillna(0).astype(np.ushort)\n",
        "notas_imd_2019_01_merge.capacidade_aluno = notas_imd_2019_01_merge.capacidade_aluno.fillna(0).astype(np.ushort)\n",
        "notas_imd_2019_01_merge.id_turma = notas_imd_2019_01_merge.id_turma.fillna(0).astype(np.ushort)\n",
        "\n",
        "notas_imd_2019_02_merge = notas_imd_2019_02_merge.replace({',': '.'}, regex=True)\n",
        "notas_imd_2019_02_merge.nota = notas_imd_2019_02_merge.nota.astype(np.float64)\n",
        "notas_imd_2019_02_merge.media_final = notas_imd_2019_02_merge.media_final.astype(np.float64)\n",
        "notas_imd_2019_02_merge.id_curso = notas_imd_2019_02_merge.id_curso.fillna(0).astype(np.ushort)\n",
        "notas_imd_2019_02_merge.unidade = notas_imd_2019_02_merge.unidade.fillna(0).astype(np.ushort)\n",
        "notas_imd_2019_02_merge.faltas_unidade = notas_imd_2019_02_merge.faltas_unidade.fillna(0).astype(np.ushort)\n",
        "notas_imd_2019_02_merge.numero_total_faltas = notas_imd_2019_02_merge.numero_total_faltas.fillna(0).astype(np.ushort)\n",
        "notas_imd_2019_02_merge.capacidade_aluno = notas_imd_2019_02_merge.capacidade_aluno.fillna(0).astype(np.ushort)\n",
        "notas_imd_2019_02_merge.id_turma = notas_imd_2019_02_merge.id_turma.fillna(0).astype(np.ushort)\n",
        "\n",
        "notas_imd_2020_01_merge = notas_imd_2020_01_merge.replace({',': '.'}, regex=True)\n",
        "notas_imd_2020_01_merge.nota = notas_imd_2020_01_merge.nota.astype(np.float64)\n",
        "notas_imd_2020_01_merge.media_final = notas_imd_2020_01_merge.media_final.astype(np.float64)\n",
        "notas_imd_2020_01_merge.id_curso = notas_imd_2020_01_merge.id_curso.fillna(0).astype(np.ushort)\n",
        "notas_imd_2020_01_merge.unidade = notas_imd_2020_01_merge.unidade.fillna(0).astype(np.ushort)\n",
        "notas_imd_2020_01_merge.faltas_unidade = notas_imd_2020_01_merge.faltas_unidade.fillna(0).astype(np.ushort)\n",
        "notas_imd_2020_01_merge.numero_total_faltas = notas_imd_2020_01_merge.numero_total_faltas.fillna(0).astype(np.ushort)\n",
        "notas_imd_2020_01_merge.capacidade_aluno = notas_imd_2020_01_merge.capacidade_aluno.fillna(0).astype(np.ushort)\n",
        "notas_imd_2020_01_merge.id_turma = notas_imd_2020_01_merge.id_turma.fillna(0).astype(np.ushort)\n"
      ],
      "metadata": {
        "id": "Ur1YERDShJbJ"
      },
      "execution_count": null,
      "outputs": []
    },
    {
      "cell_type": "code",
      "source": [
        "def aprovado(row):\n",
        "    if row[\"descricao\"] == \"APROVADO\" or row[\"descricao\"] == \"APROVADO POR NOTA\":\n",
        "        return True\n",
        "    else:\n",
        "        return False"
      ],
      "metadata": {
        "id": "sr3PXnAehVDt"
      },
      "execution_count": null,
      "outputs": []
    },
    {
      "cell_type": "code",
      "source": [
        "def reprovadoporfalta(row):\n",
        "    if row[\"descricao\"] == \"REPROVADO POR FALTAS\" or row[\"descricao\"] == \"REPROVADO POR NOTA E FALTA\" or row[\"descricao\"] == \"REPROVADO POR MÉDIA E POR FALTAS\":\n",
        "        return True\n",
        "    else:\n",
        "        return False"
      ],
      "metadata": {
        "id": "AVSaWH7iWwO-"
      },
      "execution_count": null,
      "outputs": []
    },
    {
      "cell_type": "code",
      "source": [
        "def reposicao(row):\n",
        "    if row[\"reposicao\"] == \"True\":\n",
        "        return True\n",
        "    else:\n",
        "        return False"
      ],
      "metadata": {
        "id": "Z8gxCIhnaxS5"
      },
      "execution_count": null,
      "outputs": []
    },
    {
      "cell_type": "code",
      "source": [
        "def matematicamentereprovado(row):\n",
        "  if row[\"aprovado\"] == 0:\n",
        "    if row[\"media_final\"] < 5:\n",
        "      if row[\"reprovadoporfalta\"] == True:\n",
        "        return True;\n",
        "        # ele tem que sair\n",
        "      else:\n",
        "        return False;\n",
        "    else:\n",
        "      return False;\n",
        "      # ele tem que sair\n",
        "  else:\n",
        "    return False;"
      ],
      "metadata": {
        "id": "ns1HGelx15QN"
      },
      "execution_count": null,
      "outputs": []
    },
    {
      "cell_type": "code",
      "metadata": {
        "id": "oY2M_9XXsEJL"
      },
      "source": [
        "# Colocando uma flag nos alunos aprovados\n",
        "rotulos_2018_02 = notas_imd_2018_02_merge.apply(aprovado, axis = 1)\n",
        "notas_imd_2018_02_merge[\"aprovado\"] = rotulos_2018_02\n",
        "rotulos_2019_02 = notas_imd_2019_02_merge.apply(aprovado, axis = 1)\n",
        "notas_imd_2019_02_merge[\"aprovado\"] = rotulos_2019_02\n",
        "rotulos_2018_01 = notas_imd_2018_01_merge.apply(aprovado, axis = 1)\n",
        "notas_imd_2018_01_merge[\"aprovado\"] = rotulos_2018_01\n",
        "rotulos_2019_01 = notas_imd_2019_01_merge.apply(aprovado, axis = 1)\n",
        "notas_imd_2019_01_merge[\"aprovado\"] = rotulos_2019_01\n",
        "rotulos_2020_01 = notas_imd_2020_01_merge.apply(aprovado, axis = 1)\n",
        "notas_imd_2020_01_merge[\"aprovado\"] = rotulos_2020_01"
      ],
      "execution_count": null,
      "outputs": []
    },
    {
      "cell_type": "code",
      "source": [
        "# Colocando uma flag nos alunos reprovados por falta\n",
        "rotulos_2018_02 = notas_imd_2018_02_merge.apply(reprovadoporfalta, axis = 1)\n",
        "notas_imd_2018_02_merge[\"reprovadoporfalta\"] = rotulos_2018_02\n",
        "rotulos_2019_02 = notas_imd_2019_02_merge.apply(reprovadoporfalta, axis = 1)\n",
        "notas_imd_2019_02_merge[\"reprovadoporfalta\"] = rotulos_2019_02\n",
        "rotulos_2018_01 = notas_imd_2018_01_merge.apply(reprovadoporfalta, axis = 1)\n",
        "notas_imd_2018_01_merge[\"reprovadoporfalta\"] = rotulos_2018_01\n",
        "rotulos_2019_01 = notas_imd_2019_01_merge.apply(reprovadoporfalta, axis = 1)\n",
        "notas_imd_2019_01_merge[\"reprovadoporfalta\"] = rotulos_2019_01\n",
        "rotulos_2020_01 = notas_imd_2020_01_merge.apply(reprovadoporfalta, axis = 1)\n",
        "notas_imd_2020_01_merge[\"reprovadoporfalta\"] = rotulos_2020_01"
      ],
      "metadata": {
        "id": "wvMF20eYXPH_"
      },
      "execution_count": null,
      "outputs": []
    },
    {
      "cell_type": "code",
      "source": [
        "# Corrigindo o tipo da coluna reposicao\n",
        "rotulos_2018_02 = notas_imd_2018_02_merge.apply(reposicao, axis = 1)\n",
        "notas_imd_2018_02_merge[\"reposicao\"] = rotulos_2018_02\n",
        "rotulos_2019_02 = notas_imd_2019_02_merge.apply(reposicao, axis = 1)\n",
        "notas_imd_2019_02_merge[\"reposicao\"] = rotulos_2019_02\n",
        "rotulos_2018_01 = notas_imd_2018_01_merge.apply(reposicao, axis = 1)\n",
        "notas_imd_2018_01_merge[\"reposicao\"] = rotulos_2018_01\n",
        "rotulos_2019_01 = notas_imd_2019_01_merge.apply(reposicao, axis = 1)\n",
        "notas_imd_2019_01_merge[\"reposicao\"] = rotulos_2019_01\n",
        "rotulos_2020_01 = notas_imd_2020_01_merge.apply(reposicao, axis = 1)\n",
        "notas_imd_2020_01_merge[\"reposicao\"] = rotulos_2020_01"
      ],
      "metadata": {
        "id": "ptdk7dc-a9ay"
      },
      "execution_count": null,
      "outputs": []
    },
    {
      "cell_type": "code",
      "source": [
        "# Checkpoint CTRL + F10 HERE"
      ],
      "metadata": {
        "id": "7DM0HZWe31Rm"
      },
      "execution_count": null,
      "outputs": []
    },
    {
      "cell_type": "code",
      "source": [
        "notas_imd_2018_02_merge['semestre'] = '2018.2'\n",
        "notas_imd_2019_02_merge['semestre'] = '2019.2'\n",
        "notas_imd_2018_01_merge['semestre'] = '2018.1'\n",
        "notas_imd_2019_01_merge['semestre'] = '2019.1'\n",
        "notas_imd_2020_01_merge['semestre'] = '2020.1'\n",
        "\n",
        "df = pd.concat([notas_imd_2018_01_merge, notas_imd_2018_02_merge, notas_imd_2019_01_merge, notas_imd_2019_02_merge, notas_imd_2020_01_merge], ignore_index=True)\n",
        "df.info()"
      ],
      "metadata": {
        "id": "yof4tJL8BoaY"
      },
      "execution_count": null,
      "outputs": []
    },
    {
      "cell_type": "code",
      "source": [
        "df.size"
      ],
      "metadata": {
        "id": "AikvnnL_DC94"
      },
      "execution_count": null,
      "outputs": []
    },
    {
      "cell_type": "code",
      "source": [
        "df = df.dropna()\n",
        "df = df.drop_duplicates()"
      ],
      "metadata": {
        "id": "lMWIfMGK029W"
      },
      "execution_count": null,
      "outputs": []
    },
    {
      "cell_type": "code",
      "source": [
        "df.reset_index(drop=True, inplace=True)\n",
        "df = df.drop_duplicates()"
      ],
      "metadata": {
        "id": "uX6sgmvHjIbd"
      },
      "execution_count": null,
      "outputs": []
    },
    {
      "cell_type": "code",
      "source": [
        "df.size"
      ],
      "metadata": {
        "id": "jwDEHmCVnjAd"
      },
      "execution_count": null,
      "outputs": []
    },
    {
      "cell_type": "code",
      "source": [
        "df.head()"
      ],
      "metadata": {
        "id": "j61SR4wTj0lK"
      },
      "execution_count": null,
      "outputs": []
    },
    {
      "cell_type": "code",
      "source": [
        "aux = df\n",
        "df = aux.rename(columns = {'nome_y' : 'docente', 'nome_x' : 'disciplina'})"
      ],
      "metadata": {
        "id": "Cnrwse5TrFGk"
      },
      "execution_count": null,
      "outputs": []
    },
    {
      "cell_type": "code",
      "source": [
        "dfc = df[['discente', 'unidade', 'nota', 'media_final','aprovado', 'reposicao', 'reprovadoporfalta', 'numero_total_faltas', 'descricao','nivel_ensino', 'id_turma', 'codigo', 'disciplina', 'docente','semestre']]\n",
        "dfc.head()"
      ],
      "metadata": {
        "id": "ZHWwhjNH4IIu"
      },
      "execution_count": null,
      "outputs": []
    },
    {
      "cell_type": "code",
      "source": [
        "dfc.size"
      ],
      "metadata": {
        "id": "XmzyIhLuUuxf"
      },
      "execution_count": null,
      "outputs": []
    },
    {
      "cell_type": "code",
      "source": [
        "#dfc = dfc[dfc.duplicated(subset = [\"discente\", \"semestre\"], keep = 'first') != True]"
      ],
      "metadata": {
        "id": "rsYBufY1SDgu"
      },
      "execution_count": null,
      "outputs": []
    },
    {
      "cell_type": "code",
      "source": [
        "dfc.descricao.unique()"
      ],
      "metadata": {
        "id": "sSRB896TVX_a"
      },
      "execution_count": null,
      "outputs": []
    },
    {
      "cell_type": "code",
      "source": [
        "dfc.size"
      ],
      "metadata": {
        "id": "I8twoXp1qlH0"
      },
      "execution_count": null,
      "outputs": []
    },
    {
      "cell_type": "code",
      "source": [
        "# Fim de tratamento e limpeza, início de recorte e seleção"
      ],
      "metadata": {
        "id": "ZCJxiuyS1Z6r"
      },
      "execution_count": null,
      "outputs": []
    },
    {
      "cell_type": "code",
      "source": [
        "dfc = dfc[dfc[\"descricao\"] != \"INDEFERIDO\"]\n",
        "dfc = dfc[dfc[\"descricao\"] != \"EXCLUIDA\"]\n",
        "dfc = dfc[dfc[\"descricao\"] != \"TRANCADO\"]\n",
        "dfc = dfc[dfc[\"descricao\"] != \"CANCELADO\"]\n",
        "dfc = dfc[dfc[\"descricao\"] != \"DESISTENCIA\"]\n",
        "dfc = dfc[dfc[\"descricao\"] != \"AGUARDANDO DEFERIMENTO\"]\n",
        "dfc = dfc[dfc[\"descricao\"] != \"CUMPRIU\"]\n",
        "dfc = dfc[dfc[\"descricao\"] != \"EM ESPERA\"]\n",
        "dfc = dfc[dfc[\"descricao\"] != \"DISPENSADO\"]"
      ],
      "metadata": {
        "id": "4saKZ6riU5yS"
      },
      "execution_count": null,
      "outputs": []
    },
    {
      "cell_type": "code",
      "source": [
        "dfc.descricao.unique()"
      ],
      "metadata": {
        "id": "SUT1KQ9vVilo"
      },
      "execution_count": null,
      "outputs": []
    },
    {
      "cell_type": "code",
      "source": [
        "dfc = dfc[dfc[\"nivel_ensino\"] == \"GRADUAÇÃO\"]"
      ],
      "metadata": {
        "id": "tfFBe7pwj9Br"
      },
      "execution_count": null,
      "outputs": []
    },
    {
      "cell_type": "code",
      "source": [
        "dfc.to_csv(\"dfc.csv\")"
      ],
      "metadata": {
        "id": "04wvAwTfgayk"
      },
      "execution_count": null,
      "outputs": []
    },
    {
      "cell_type": "code",
      "source": [
        "pensamento_computacional = df\n",
        "pensamento_computacional = pensamento_computacional.loc[pensamento_computacional['disciplina'] == 'PENSAMENTO COMPUTACIONAL']\n",
        "pensamento_computacional = pensamento_computacional.loc[pensamento_computacional['semestre'] == '2020.1']\n",
        "pensamento_computacional = pensamento_computacional[['discente', 'unidade', 'nota', 'media_final','descricao', 'numero_total_faltas', 'disciplina','semestre']]\n",
        "pensamento_computacional = pensamento_computacional.drop_duplicates()\n",
        "pensamento_computacional.reset_index(drop=True, inplace=True)\n",
        "pensamento_computacional = pensamento_computacional.drop_duplicates()\n",
        "pensamento_computacional.head()"
      ],
      "metadata": {
        "id": "eBlrYhtLEg53"
      },
      "execution_count": null,
      "outputs": []
    },
    {
      "cell_type": "code",
      "source": [
        "pensamento_computacional.to_csv(\"pensamento_computacional.csv\")"
      ],
      "metadata": {
        "id": "rwQ-OFUSFMSQ"
      },
      "execution_count": null,
      "outputs": []
    },
    {
      "cell_type": "code",
      "source": [
        "pensamento_computacional.size"
      ],
      "metadata": {
        "id": "Uzlk0G83F2bP"
      },
      "execution_count": null,
      "outputs": []
    },
    {
      "cell_type": "code",
      "source": [
        "dfc.size"
      ],
      "metadata": {
        "id": "Xa7hbrlLkNYb"
      },
      "execution_count": null,
      "outputs": []
    },
    {
      "cell_type": "code",
      "source": [
        "filtrados = dfc\n",
        "filtrados = filtrados.loc[filtrados['disciplina'] == 'INTRODUÇÃO ÀS TÉCNICAS DE PROGRAMAÇÃO']\n",
        "'''\n",
        "rotulos_filtrados_2 = filtrados.apply(aprovado, axis = 1)\n",
        "filtrados[\"aprovado\"] = rotulos_filtrados_2\n",
        "'''\n",
        "rotulos_filtrados = filtrados.apply(matematicamentereprovado, axis = 1)\n",
        "filtrados[\"reprovadomatematicamente\"] = rotulos_filtrados\n",
        "\n",
        "base_final = filtrados.loc[filtrados['reprovadomatematicamente'] == False]"
      ],
      "metadata": {
        "id": "j-sO0UDc-eQe"
      },
      "execution_count": null,
      "outputs": []
    },
    {
      "cell_type": "code",
      "source": [
        "excluidos = filtrados.loc[filtrados['reprovadomatematicamente'] == True]"
      ],
      "metadata": {
        "id": "bEwYD6gISX7Z"
      },
      "execution_count": null,
      "outputs": []
    },
    {
      "cell_type": "code",
      "source": [
        "excluidos.head()"
      ],
      "metadata": {
        "id": "V8Fz7TneSbjt"
      },
      "execution_count": null,
      "outputs": []
    },
    {
      "cell_type": "code",
      "source": [
        "excluidos.describe()"
      ],
      "metadata": {
        "id": "y4Yl3AsqSeFc"
      },
      "execution_count": null,
      "outputs": []
    },
    {
      "cell_type": "code",
      "source": [
        "# linhas excluidas pela regra\n",
        "excluidos.size"
      ],
      "metadata": {
        "id": "7WC3sv6P6YxW"
      },
      "execution_count": null,
      "outputs": []
    },
    {
      "cell_type": "code",
      "source": [
        "# discentes excluidos pela regra\n",
        "excluidos[excluidos.duplicated(subset = [\"discente\", \"semestre\"], keep = 'first') != True].size"
      ],
      "metadata": {
        "id": "CXWuevH-6iWd"
      },
      "execution_count": null,
      "outputs": []
    },
    {
      "cell_type": "code",
      "source": [
        "base_final.head()"
      ],
      "metadata": {
        "id": "joYIn-D7SRm2"
      },
      "execution_count": null,
      "outputs": []
    },
    {
      "cell_type": "code",
      "source": [
        "base_final.describe()"
      ],
      "metadata": {
        "id": "hykeSUGvST92"
      },
      "execution_count": null,
      "outputs": []
    },
    {
      "cell_type": "code",
      "source": [
        "base_final.info()"
      ],
      "metadata": {
        "id": "sfv4p88iwula"
      },
      "execution_count": null,
      "outputs": []
    },
    {
      "cell_type": "code",
      "source": [
        "base_final.to_csv(\"base_final.csv\")"
      ],
      "metadata": {
        "id": "V3_vbA2tgjVN"
      },
      "execution_count": null,
      "outputs": []
    },
    {
      "cell_type": "code",
      "source": [
        "# discentes na base final\n",
        "base_final[base_final.duplicated(subset = [\"discente\", \"semestre\"], keep = 'first') != True].size"
      ],
      "metadata": {
        "id": "lquvZ6Fs6_u6"
      },
      "execution_count": null,
      "outputs": []
    },
    {
      "cell_type": "code",
      "source": [
        "base_final.size"
      ],
      "metadata": {
        "id": "PQghLWw-Iv2U"
      },
      "execution_count": null,
      "outputs": []
    },
    {
      "cell_type": "code",
      "source": [
        "#Separando e tratando os alunos de graduação\n",
        "graduacao_imd_2018_02 = notas_imd_2018_02_merge[notas_imd_2018_02_merge[\"nivel_ensino\"] == \"GRADUAÇÃO\"]\n",
        "graduacao_imd_2018_01 = notas_imd_2018_01_merge[notas_imd_2018_01_merge[\"nivel_ensino\"] == \"GRADUAÇÃO\"]\n",
        "graduacao_imd_2020_01 = notas_imd_2020_01_merge[notas_imd_2020_01_merge[\"nivel_ensino\"] == \"GRADUAÇÃO\"]\n",
        "graduacao_imd_2019_02 = notas_imd_2019_02_merge[notas_imd_2019_02_merge[\"nivel_ensino\"] == \"GRADUAÇÃO\"]\n",
        "graduacao_imd_2019_01 = notas_imd_2019_01_merge[notas_imd_2019_01_merge[\"nivel_ensino\"] == \"GRADUAÇÃO\"]"
      ],
      "metadata": {
        "id": "OHPprF3SvY0c"
      },
      "execution_count": null,
      "outputs": []
    },
    {
      "cell_type": "code",
      "metadata": {
        "id": "OF7rHgellTCb"
      },
      "source": [
        "#Separando as turmas da disciplina de itp em cada semestre\n",
        "\n",
        "graduacao_imd_2018_02 = graduacao_imd_2018_02.rename(columns = {'nome_y' : 'docente', 'nome_x' : 'disciplina'})\n",
        "#graduacao_imd_2018_02.sort_values(ascending = True, by = [\"id_turma\", \"discente\",\"unidade\"], inplace = True)\n",
        "graduacao_imd_2018_02.sort_values(ascending = True, by = \"discente\", inplace = True)\n",
        "graduacao_imd_2018_02.reset_index(inplace = True)\n",
        "materias_2018_02 = graduacao_imd_2018_02.disciplina.unique()\n",
        "\n",
        "graduacao_imd_2018_01 = graduacao_imd_2018_01.rename(columns = {'nome_y' : 'docente', 'nome_x' : 'disciplina'})\n",
        "#graduacao_imd_2018_01.sort_values(ascending = True, by = [\"id_turma\", \"discente\",\"unidade\"], inplace = True)\n",
        "graduacao_imd_2018_01.sort_values(ascending = True, by = \"discente\", inplace = True)\n",
        "graduacao_imd_2018_01.reset_index(inplace = True)\n",
        "materias_2018_01 = graduacao_imd_2018_01.disciplina.unique()\n",
        "\n",
        "graduacao_imd_2020_01 = graduacao_imd_2020_01.rename(columns = {'nome_y' : 'docente', 'nome_x' : 'disciplina'})\n",
        "#graduacao_imd_2020_01.sort_values(ascending = True, by = [\"id_turma\", \"discente\",\"unidade\"], inplace = True)\n",
        "graduacao_imd_2020_01.sort_values(ascending = True, by = \"discente\", inplace = True)\n",
        "graduacao_imd_2020_01.reset_index(inplace = True)\n",
        "materias_2020_01 = graduacao_imd_2020_01.disciplina.unique()\n",
        "\n",
        "graduacao_imd_2019_02 = graduacao_imd_2019_02.rename(columns = {'nome_y' : 'docente', 'nome_x' : 'disciplina'})\n",
        "#graduacao_imd_2019_02.sort_values(ascending = True, by = [\"id_turma\", \"discente\",\"unidade\"], inplace = True)\n",
        "graduacao_imd_2019_02.sort_values(ascending = True, by = \"discente\", inplace = True)\n",
        "graduacao_imd_2019_02.reset_index(inplace = True)\n",
        "materias_2019_02 = graduacao_imd_2019_02.disciplina.unique()\n",
        "\n",
        "graduacao_imd_2019_01 = graduacao_imd_2019_01.rename(columns = {'nome_y' : 'docente', 'nome_x' : 'disciplina'})\n",
        "#graduacao_imd_2019_01.sort_values(ascending = True, by = [\"id_turma\", \"discente\",\"unidade\"], inplace = True)\n",
        "graduacao_imd_2019_01.sort_values(ascending = True, by = \"discente\", inplace = True)\n",
        "graduacao_imd_2019_01.reset_index(inplace = True)\n",
        "materias_2019_01 = graduacao_imd_2019_01.disciplina.unique()\n",
        "\n",
        "graduacao_imd_2018_02 = graduacao_imd_2018_02.loc[graduacao_imd_2018_02['disciplina'] == 'INTRODUÇÃO ÀS TÉCNICAS DE PROGRAMAÇÃO']\n",
        "graduacao_imd_2018_01 = graduacao_imd_2018_01.loc[graduacao_imd_2018_01['disciplina'] == 'INTRODUÇÃO ÀS TÉCNICAS DE PROGRAMAÇÃO']\n",
        "graduacao_imd_2020_01 = graduacao_imd_2020_01.loc[graduacao_imd_2020_01['disciplina'] == 'INTRODUÇÃO ÀS TÉCNICAS DE PROGRAMAÇÃO']\n",
        "graduacao_imd_2019_02 = graduacao_imd_2019_02.loc[graduacao_imd_2019_02['disciplina'] == 'INTRODUÇÃO ÀS TÉCNICAS DE PROGRAMAÇÃO']\n",
        "graduacao_imd_2019_01 = graduacao_imd_2019_01.loc[graduacao_imd_2019_01['disciplina'] == 'INTRODUÇÃO ÀS TÉCNICAS DE PROGRAMAÇÃO']\n",
        "\n",
        "graduacao_imd_2018_01 = graduacao_imd_2018_01.drop_duplicates()\n",
        "graduacao_imd_2018_01.reset_index(drop=True, inplace=True)\n",
        "graduacao_imd_2018_01 = graduacao_imd_2018_01.drop_duplicates()\n",
        "\n",
        "graduacao_imd_2018_02 = graduacao_imd_2018_02.drop_duplicates()\n",
        "graduacao_imd_2018_02.reset_index(drop=True, inplace=True)\n",
        "graduacao_imd_2018_02 = graduacao_imd_2018_02.drop_duplicates()\n",
        "\n",
        "graduacao_imd_2019_01 = graduacao_imd_2019_01.drop_duplicates()\n",
        "graduacao_imd_2019_01.reset_index(drop=True, inplace=True)\n",
        "graduacao_imd_2019_01 = graduacao_imd_2019_01.drop_duplicates()\n",
        "\n",
        "graduacao_imd_2019_02 = graduacao_imd_2019_02.drop_duplicates()\n",
        "graduacao_imd_2019_02.reset_index(drop=True, inplace=True)\n",
        "graduacao_imd_2019_02 = graduacao_imd_2019_02.drop_duplicates()\n",
        "\n",
        "graduacao_imd_2020_01 = graduacao_imd_2020_01.drop_duplicates()\n",
        "graduacao_imd_2020_01.reset_index(drop=True, inplace=True)\n",
        "graduacao_imd_2020_01 = graduacao_imd_2020_01.drop_duplicates()"
      ],
      "execution_count": null,
      "outputs": []
    },
    {
      "cell_type": "code",
      "source": [
        "print('2018.1:', end =\" \")\n",
        "for codigo in graduacao_imd_2018_01.codigo.unique():\n",
        "  print(codigo, end =\" \")\n",
        "print('\\n')\n",
        "print('2018.2:', end =\" \")\n",
        "for codigo in graduacao_imd_2018_02.codigo.unique():\n",
        "  print(codigo, end =\" \")\n",
        "print('\\n')\n",
        "print('2019.1:', end =\" \")\n",
        "for codigo in graduacao_imd_2019_01.codigo.unique():\n",
        "  print(codigo, end =\" \")\n",
        "print('\\n')\n",
        "print('2019.2:', end =\" \")\n",
        "for codigo in graduacao_imd_2019_02.codigo.unique():\n",
        "  print(codigo, end =\" \")\n",
        "print('\\n')\n",
        "print('2020.1:', end =\" \")\n",
        "for codigo in graduacao_imd_2020_01.codigo.unique():\n",
        "  print(codigo, end =\" \")\n",
        "print('\\n')"
      ],
      "metadata": {
        "id": "NjnjwvhbBhJU"
      },
      "execution_count": null,
      "outputs": []
    },
    {
      "cell_type": "code",
      "source": [
        "graduacao_imd_2018_02 = graduacao_imd_2018_02.replace({',': '.'}, regex=True)\n",
        "graduacao_imd_2018_01 = graduacao_imd_2018_01.replace({',': '.'}, regex=True)\n",
        "graduacao_imd_2020_01 = graduacao_imd_2020_01.replace({',': '.'}, regex=True)\n",
        "graduacao_imd_2019_02 = graduacao_imd_2019_02.replace({',': '.'}, regex=True)\n",
        "graduacao_imd_2019_01 = graduacao_imd_2019_01.replace({',': '.'}, regex=True)\n",
        "\n",
        "graduacao_imd_2018_02.nota = graduacao_imd_2018_02.nota.astype(np.float64)\n",
        "graduacao_imd_2018_01.nota = graduacao_imd_2018_01.nota.astype(np.float64)\n",
        "graduacao_imd_2020_01.nota = graduacao_imd_2020_01.nota.astype(np.float64)\n",
        "graduacao_imd_2019_02.nota = graduacao_imd_2019_02.nota.astype(np.float64)\n",
        "graduacao_imd_2019_01.nota = graduacao_imd_2019_01.nota.astype(np.float64)\n",
        "\n",
        "graduacao_imd_2018_02.media_final = graduacao_imd_2018_02.media_final.astype(np.float64)\n",
        "graduacao_imd_2018_01.media_final = graduacao_imd_2018_01.media_final.astype(np.float64)\n",
        "graduacao_imd_2020_01.media_final = graduacao_imd_2020_01.media_final.astype(np.float64)\n",
        "graduacao_imd_2019_02.media_final = graduacao_imd_2019_02.media_final.astype(np.float64)\n",
        "graduacao_imd_2019_01.media_final = graduacao_imd_2019_01.media_final.astype(np.float64)\n",
        "\n",
        "\n",
        "\n",
        "#COMMENT"
      ],
      "metadata": {
        "id": "imaCMK5D9Oet"
      },
      "execution_count": null,
      "outputs": []
    },
    {
      "cell_type": "code",
      "metadata": {
        "id": "uC4pBgUySt-s"
      },
      "source": [
        "fig = plt.figure(figsize=(50, 100));\n",
        "labels = ['APROVADO' 'REPROVADO' 'APROVADO POR NOTA' 'REPROVADO POR NOTA'\n",
        "'DESISTENCIA' 'REPROVADO POR MÉDIA E POR FALTAS'\n",
        "'REPROVADO POR NOTA E FALTA']\n",
        "\n",
        "\n",
        "columns_labels = {\n",
        "    'APROVADO': 'green',\n",
        "    'REPROVADO': 'red',\n",
        "    'APROVADO POR NOTA': 'darkgreen',\n",
        "    'REPROVADO POR NOTA': 'tomato',\n",
        "    'REPROVADO POR FALTAS': 'crimson',\n",
        "    'DESISTENCIA': 'silver',\n",
        "    'REPROVADO POR MÉDIA E POR FALTAS': 'coral',\n",
        "    'REPROVADO POR NOTA E FALTA': 'maroon',\n",
        "    'TRANCADO': 'gray',\n",
        "}\n",
        "\n",
        "\n",
        "axx1 = plt.subplot(1, 5, 1);\n",
        "pxxx1 = graduacao_imd_2018_01[graduacao_imd_2018_01.duplicated(subset = [\"discente\", \"semestre\"], keep = 'first') != True]\n",
        "pxxx1 = pxxx1[pxxx1[\"descricao\"] != \"INDEFERIDO\"]\n",
        "pxxx1 = pxxx1[pxxx1[\"descricao\"] != \"EXCLUIDA\"]\n",
        "pxxx1 = pxxx1[pxxx1[\"descricao\"] != \"CANCELADO\"]\n",
        "\n",
        "pxxx1 = pxxx1.descricao.value_counts()\n",
        "plt.title('2018.1');\n",
        "pxxx1.plot(kind='pie', autopct='%1.1f%%', label='', colors=[columns_labels[v] for v in pxxx1.keys()])\n",
        "\n",
        "\n",
        "axx4 = plt.subplot(1, 5, 2);\n",
        "pxxx4 = graduacao_imd_2018_02[graduacao_imd_2018_02.duplicated(subset = [\"discente\", \"semestre\"], keep = 'first') != True]\n",
        "pxxx4 = pxxx4[pxxx4[\"descricao\"] != \"INDEFERIDO\"]\n",
        "pxxx4 = pxxx4[pxxx4[\"descricao\"] != \"EXCLUIDA\"]\n",
        "pxxx4 = pxxx4[pxxx4[\"descricao\"] != \"CANCELADO\"]\n",
        "\n",
        "pxxx4 = pxxx4.descricao.value_counts()\n",
        "plt.title('2018.2');\n",
        "pxxx4.plot(kind='pie', autopct='%1.1f%%', label='', colors=[columns_labels[v] for v in pxxx4.keys()])\n",
        "\n",
        "\n",
        "axx2 = plt.subplot(1, 5, 3);\n",
        "pxxx2 = graduacao_imd_2019_01[graduacao_imd_2019_01.duplicated(subset = [\"discente\", \"semestre\"], keep = 'first') != True]\n",
        "pxxx2 = pxxx2[pxxx2[\"descricao\"] != \"INDEFERIDO\"]\n",
        "pxxx2 = pxxx2[pxxx2[\"descricao\"] != \"EXCLUIDA\"]\n",
        "pxxx2 = pxxx2[pxxx2[\"descricao\"] != \"CANCELADO\"]\n",
        "\n",
        "pxxx2 = pxxx2.descricao.value_counts()\n",
        "plt.title('2019.1');\n",
        "pxxx2.plot(kind='pie', autopct='%1.1f%%', label='', colors=[columns_labels[v] for v in pxxx2.keys()])\n",
        "\n",
        "\n",
        "axx5 = plt.subplot(1, 5, 4);\n",
        "pxxx5 = graduacao_imd_2019_02[graduacao_imd_2019_02.duplicated(subset = [\"discente\", \"semestre\"], keep = 'first') != True]\n",
        "pxxx5 = pxxx5[pxxx5[\"descricao\"] != \"INDEFERIDO\"]\n",
        "pxxx5 = pxxx5[pxxx5[\"descricao\"] != \"EXCLUIDA\"]\n",
        "pxxx5 = pxxx5[pxxx5[\"descricao\"] != \"CANCELADO\"]\n",
        "\n",
        "pxxx5 = pxxx5.descricao.value_counts()\n",
        "plt.title('2019.2');\n",
        "pxxx5.plot(kind='pie', autopct='%1.1f%%', label='', colors=[columns_labels[v] for v in pxxx5.keys()])\n",
        "\n",
        "\n",
        "axx3 = plt.subplot(1, 5, 5);\n",
        "pxxx3 = graduacao_imd_2020_01[graduacao_imd_2020_01.duplicated(subset = [\"discente\", \"semestre\"], keep = 'first') != True]\n",
        "pxxx3 = pxxx3[pxxx3[\"descricao\"] != \"INDEFERIDO\"]\n",
        "pxxx3 = pxxx3[pxxx3[\"descricao\"] != \"EXCLUIDA\"]\n",
        "pxxx3 = pxxx3[pxxx3[\"descricao\"] != \"CANCELADO\"]\n",
        "\n",
        "plt.title('2020.1');\n",
        "pxxx3 = pxxx3.descricao.value_counts()\n",
        "pxxx3.plot(kind='pie', autopct='%1.1f%%', label='', colors=[columns_labels[v] for v in pxxx3.keys()])\n",
        "\n",
        "print('Matrículas')"
      ],
      "execution_count": null,
      "outputs": []
    },
    {
      "cell_type": "code",
      "metadata": {
        "id": "9xrv_WVOUV9d"
      },
      "source": [
        "graduacao_imd_2018_01 = graduacao_imd_2018_01.loc[graduacao_imd_2018_01['disciplina'] == 'INTRODUÇÃO ÀS TÉCNICAS DE PROGRAMAÇÃO']\n",
        "graduacao_imd_2018_01 = graduacao_imd_2018_01.loc[graduacao_imd_2018_01[\"descricao\"] != \"INDEFERIDO\"]\n",
        "graduacao_imd_2018_01 = graduacao_imd_2018_01.loc[graduacao_imd_2018_01[\"descricao\"] != \"DESISTENCIA\"]\n",
        "graduacao_imd_2018_01 = graduacao_imd_2018_01.loc[graduacao_imd_2018_01[\"descricao\"] != \"EXCLUIDA\"]\n",
        "graduacao_imd_2018_01 = graduacao_imd_2018_01.loc[graduacao_imd_2018_01[\"descricao\"] != \"CANCELADO\"]\n",
        "graduacao_imd_2018_01 = graduacao_imd_2018_01.loc[graduacao_imd_2018_01[\"descricao\"] != \"TRANCADO\"]\n",
        "rotulos_1 = graduacao_imd_2018_01.apply(matematicamentereprovado, axis = 1)\n",
        "graduacao_imd_2018_01[\"reprovadomatematicamente\"] = rotulos_1\n",
        "graduacao_imd_2018_01 = graduacao_imd_2018_01.loc[graduacao_imd_2018_01['reprovadomatematicamente'] == False]\n",
        "\n",
        "\n",
        "graduacao_imd_2018_02 = graduacao_imd_2018_02.loc[graduacao_imd_2018_02['disciplina'] == 'INTRODUÇÃO ÀS TÉCNICAS DE PROGRAMAÇÃO']\n",
        "graduacao_imd_2018_02 = graduacao_imd_2018_02.loc[graduacao_imd_2018_02[\"descricao\"] != \"INDEFERIDO\"]\n",
        "graduacao_imd_2018_02 = graduacao_imd_2018_02.loc[graduacao_imd_2018_02[\"descricao\"] != \"DESISTENCIA\"]\n",
        "graduacao_imd_2018_02 = graduacao_imd_2018_02.loc[graduacao_imd_2018_02[\"descricao\"] != \"EXCLUIDA\"]\n",
        "graduacao_imd_2018_02 = graduacao_imd_2018_02.loc[graduacao_imd_2018_02[\"descricao\"] != \"CANCELADO\"]\n",
        "graduacao_imd_2018_02 = graduacao_imd_2018_02.loc[graduacao_imd_2018_02[\"descricao\"] != \"TRANCADO\"]\n",
        "rotulos_2 = graduacao_imd_2018_02.apply(matematicamentereprovado, axis = 1)\n",
        "graduacao_imd_2018_02[\"reprovadomatematicamente\"] = rotulos_2\n",
        "graduacao_imd_2018_02 = graduacao_imd_2018_02.loc[graduacao_imd_2018_02['reprovadomatematicamente'] == False]\n",
        "\n",
        "\n",
        "graduacao_imd_2019_01 = graduacao_imd_2019_01.loc[graduacao_imd_2019_01['disciplina'] == 'INTRODUÇÃO ÀS TÉCNICAS DE PROGRAMAÇÃO']\n",
        "graduacao_imd_2019_01 = graduacao_imd_2019_01.loc[graduacao_imd_2019_01[\"descricao\"] != \"INDEFERIDO\"]\n",
        "graduacao_imd_2019_01 = graduacao_imd_2019_01.loc[graduacao_imd_2019_01[\"descricao\"] != \"DESISTENCIA\"]\n",
        "graduacao_imd_2019_01 = graduacao_imd_2019_01.loc[graduacao_imd_2019_01[\"descricao\"] != \"EXCLUIDA\"]\n",
        "graduacao_imd_2019_01 = graduacao_imd_2019_01.loc[graduacao_imd_2019_01[\"descricao\"] != \"CANCELADO\"]\n",
        "graduacao_imd_2019_01 = graduacao_imd_2019_01.loc[graduacao_imd_2019_01[\"descricao\"] != \"TRANCADO\"]\n",
        "rotulos_3 = graduacao_imd_2019_01.apply(matematicamentereprovado, axis = 1)\n",
        "graduacao_imd_2019_01[\"reprovadomatematicamente\"] = rotulos_3\n",
        "graduacao_imd_2019_01 = graduacao_imd_2019_01.loc[graduacao_imd_2019_01['reprovadomatematicamente'] == False]\n",
        "\n",
        "graduacao_imd_2019_02 = graduacao_imd_2019_02.loc[graduacao_imd_2019_02['disciplina'] == 'INTRODUÇÃO ÀS TÉCNICAS DE PROGRAMAÇÃO']\n",
        "graduacao_imd_2019_02 = graduacao_imd_2019_02.loc[graduacao_imd_2019_02[\"descricao\"] != \"INDEFERIDO\"]\n",
        "graduacao_imd_2019_02 = graduacao_imd_2019_02.loc[graduacao_imd_2019_02[\"descricao\"] != \"DESISTENCIA\"]\n",
        "graduacao_imd_2019_02 = graduacao_imd_2019_02.loc[graduacao_imd_2019_02[\"descricao\"] != \"EXCLUIDA\"]\n",
        "graduacao_imd_2019_02 = graduacao_imd_2019_02.loc[graduacao_imd_2019_02[\"descricao\"] != \"CANCELADO\"]\n",
        "graduacao_imd_2019_02 = graduacao_imd_2019_02.loc[graduacao_imd_2019_02[\"descricao\"] != \"TRANCADO\"]\n",
        "rotulos_4 = graduacao_imd_2019_02.apply(matematicamentereprovado, axis = 1)\n",
        "graduacao_imd_2019_02[\"reprovadomatematicamente\"] = rotulos_4\n",
        "graduacao_imd_2019_02 = graduacao_imd_2019_02.loc[graduacao_imd_2019_02['reprovadomatematicamente'] == False]\n",
        "\n",
        "graduacao_imd_2020_01 = graduacao_imd_2020_01.loc[graduacao_imd_2020_01['disciplina'] == 'INTRODUÇÃO ÀS TÉCNICAS DE PROGRAMAÇÃO']\n",
        "graduacao_imd_2020_01 = graduacao_imd_2020_01.loc[graduacao_imd_2020_01[\"descricao\"] != \"INDEFERIDO\"]\n",
        "graduacao_imd_2020_01 = graduacao_imd_2020_01.loc[graduacao_imd_2020_01[\"descricao\"] != \"DESISTENCIA\"]\n",
        "graduacao_imd_2020_01 = graduacao_imd_2020_01.loc[graduacao_imd_2020_01[\"descricao\"] != \"EXCLUIDA\"]\n",
        "graduacao_imd_2020_01 = graduacao_imd_2020_01.loc[graduacao_imd_2020_01[\"descricao\"] != \"CANCELADO\"]\n",
        "graduacao_imd_2020_01 = graduacao_imd_2020_01.loc[graduacao_imd_2020_01[\"descricao\"] != \"TRANCADO\"]\n",
        "rotulos_5 = graduacao_imd_2020_01.apply(matematicamentereprovado, axis = 1)\n",
        "graduacao_imd_2020_01[\"reprovadomatematicamente\"] = rotulos_5\n",
        "graduacao_imd_2020_01 = graduacao_imd_2020_01.loc[graduacao_imd_2020_01['reprovadomatematicamente'] == False]\n",
        "\n",
        "graduacao_imd_2018_02.descricao.unique()"
      ],
      "execution_count": null,
      "outputs": []
    },
    {
      "cell_type": "code",
      "metadata": {
        "id": "g46VvqcUmH4U"
      },
      "source": [
        "#Realizando os cálculos da taxa de aprovação de cada um dos semestres\n",
        "itp_2018_01 = graduacao_imd_2018_01[graduacao_imd_2018_01.duplicated(subset = [\"discente\", \"semestre\"], keep = 'first') != True]\n",
        "aprovados_itp_2018_01 = itp_2018_01.pivot_table(index = [\"disciplina\"], values = \"aprovado\", aggfunc = np.sum)\n",
        "quantidade_alunos = itp_2018_01.pivot_table(index = \"disciplina\", values = \"capacidade_aluno\", aggfunc = len)\n",
        "percent = (aprovados_itp_2018_01.aprovado/quantidade_alunos.capacidade_aluno)*100\n",
        "aprovados_itp_2018_01.aprovado = percent\n",
        "\n",
        "itp_2018_02 = graduacao_imd_2018_02[graduacao_imd_2018_02.duplicated(subset = [\"discente\", \"semestre\"], keep = 'first') != True]\n",
        "aprovados_itp_2018_02 = itp_2018_02.pivot_table(index = [\"disciplina\"], values = \"aprovado\", aggfunc = np.sum)\n",
        "quantidade_alunos = itp_2018_02.pivot_table(index = \"disciplina\", values = \"capacidade_aluno\", aggfunc = len)\n",
        "percent = (aprovados_itp_2018_02.aprovado/quantidade_alunos.capacidade_aluno)*100\n",
        "aprovados_itp_2018_02.aprovado = percent\n",
        "\n",
        "itp_2019_01 = graduacao_imd_2019_01[graduacao_imd_2019_01.duplicated(subset = [\"discente\", \"semestre\"], keep = 'first') != True]\n",
        "aprovados_itp_2019_01 = itp_2019_01.pivot_table(index = [\"disciplina\"], values = 'aprovado' , aggfunc = np.sum)\n",
        "quantidade_alunos = itp_2019_01.pivot_table(index = \"disciplina\", values = \"capacidade_aluno\", aggfunc = len)\n",
        "percent = (aprovados_itp_2019_01.aprovado/quantidade_alunos.capacidade_aluno)*100\n",
        "aprovados_itp_2019_01.aprovado = percent\n",
        "\n",
        "itp_2019_02 = graduacao_imd_2019_02[graduacao_imd_2019_02.duplicated(subset = [\"discente\", \"semestre\"], keep = 'first') != True]\n",
        "aprovados_itp_2019_02 = itp_2019_02.pivot_table(index = [\"disciplina\"], values = 'aprovado' , aggfunc = np.sum)\n",
        "quantidade_alunos = itp_2019_02.pivot_table(index = \"disciplina\", values = \"capacidade_aluno\", aggfunc = len)\n",
        "percent = (aprovados_itp_2019_02.aprovado/quantidade_alunos.capacidade_aluno)*100\n",
        "aprovados_itp_2019_02.aprovado = percent\n",
        "\n",
        "itp_2020_01 = graduacao_imd_2020_01[graduacao_imd_2020_01.duplicated(subset = [\"discente\", \"semestre\"], keep = 'first') != True]\n",
        "aprovados_itp_2020_01 = itp_2020_01.pivot_table(index = [\"disciplina\"], values = 'aprovado' , aggfunc = np.sum)\n",
        "quantidade_alunos = itp_2020_01.pivot_table(index = \"disciplina\", values = \"capacidade_aluno\", aggfunc = len)\n",
        "percent = (aprovados_itp_2020_01.aprovado/quantidade_alunos.capacidade_aluno)*100\n",
        "aprovados_itp_2020_01.aprovado = percent\n"
      ],
      "execution_count": null,
      "outputs": []
    },
    {
      "cell_type": "code",
      "metadata": {
        "id": "jlqmU8K6y6Lh"
      },
      "source": [
        "#Realizando os cálculos da taxa de aprovação por horário\n",
        "itp_2018_01 = graduacao_imd_2018_01[graduacao_imd_2018_01.duplicated(subset = [\"discente\", \"semestre\"], keep = 'first') != True]\n",
        "aprovados_itp_2018_01_horario = itp_2018_01.pivot_table(index = [\"descricao_horario\"], values = \"aprovado\", aggfunc = np.sum)\n",
        "quantidade_alunos = itp_2018_01.pivot_table(index = \"descricao_horario\", values = \"capacidade_aluno\", aggfunc = len)\n",
        "percent = (aprovados_itp_2018_01_horario.aprovado/quantidade_alunos.capacidade_aluno)*100\n",
        "aprovados_itp_2018_01_horario.aprovado = percent\n",
        "\n",
        "itp_2018_02 = graduacao_imd_2018_02[graduacao_imd_2018_02.duplicated(subset = [\"discente\", \"semestre\"], keep = 'first') != True]\n",
        "aprovados_itp_2018_02_horario = itp_2018_02.pivot_table(index = [\"descricao_horario\"], values = \"aprovado\", aggfunc = np.sum)\n",
        "quantidade_alunos = itp_2018_02.pivot_table(index = \"descricao_horario\", values = \"capacidade_aluno\", aggfunc = len)\n",
        "percent = (aprovados_itp_2018_02_horario.aprovado/quantidade_alunos.capacidade_aluno)*100\n",
        "aprovados_itp_2018_02_horario.aprovado = percent\n",
        "\n",
        "itp_2019_01 = graduacao_imd_2019_01[graduacao_imd_2019_01.duplicated(subset = [\"discente\", \"semestre\"], keep = 'first') != True]\n",
        "aprovados_itp_2019_01_horario = itp_2019_01.pivot_table(index = [\"descricao_horario\"], values = 'aprovado' , aggfunc = np.sum)\n",
        "quantidade_alunos = itp_2019_01.pivot_table(index = \"descricao_horario\", values = \"capacidade_aluno\", aggfunc = len)\n",
        "percent = (aprovados_itp_2019_01_horario.aprovado/quantidade_alunos.capacidade_aluno)*100\n",
        "aprovados_itp_2019_01_horario.aprovado = percent\n",
        "\n",
        "itp_2019_02 = graduacao_imd_2019_02[graduacao_imd_2019_02.duplicated(subset = [\"discente\", \"semestre\"], keep = 'first') != True]\n",
        "aprovados_itp_2019_02_horario = itp_2019_02.pivot_table(index = [\"descricao_horario\"], values = 'aprovado' , aggfunc = np.sum)\n",
        "quantidade_alunos = itp_2019_02.pivot_table(index = \"descricao_horario\", values = \"capacidade_aluno\", aggfunc = len)\n",
        "percent = (aprovados_itp_2019_02_horario.aprovado/quantidade_alunos.capacidade_aluno)*100\n",
        "aprovados_itp_2019_02_horario.aprovado = percent\n",
        "\n",
        "itp_2020_01 = graduacao_imd_2020_01[graduacao_imd_2020_01.duplicated(subset = [\"discente\", \"semestre\"], keep = 'first') != True]\n",
        "aprovados_itp_2020_01_horario = itp_2020_01.pivot_table(index = [\"descricao_horario\"], values = 'aprovado' , aggfunc = np.sum)\n",
        "quantidade_alunos = itp_2020_01.pivot_table(index = \"descricao_horario\", values = \"capacidade_aluno\", aggfunc = len)\n",
        "percent = (aprovados_itp_2020_01_horario.aprovado/quantidade_alunos.capacidade_aluno)*100\n",
        "aprovados_itp_2020_01_horario.aprovado = percent"
      ],
      "execution_count": null,
      "outputs": []
    },
    {
      "cell_type": "code",
      "metadata": {
        "id": "XAa-L3DPQbFJ"
      },
      "source": [
        "medias_por_semestre = []\n",
        "\n",
        "p1 = graduacao_imd_2018_01[graduacao_imd_2018_01.duplicated(subset = [\"discente\", \"semestre\"], keep = 'first') != True]\n",
        "p1 = pd.DataFrame(p1,columns = ['id_turma', 'discente','media_final'])\n",
        "p1 = p1[p1['media_final'].notna()]\n",
        "sum = 0;\n",
        "for nota in p1.media_final:\n",
        "  sum += float(nota);\n",
        "mean = sum / p1.media_final.size\n",
        "medias_por_semestre.append(mean)\n",
        "\n",
        "\n",
        "p2 = graduacao_imd_2018_02[graduacao_imd_2018_02.duplicated(subset = [\"discente\", \"semestre\"], keep = 'first') != True]\n",
        "p2 = pd.DataFrame(p2,columns = ['id_turma', 'discente','media_final'])\n",
        "p2 = p2[p2['media_final'].notna()]\n",
        "sum = 0;\n",
        "for nota in p2.media_final:\n",
        "  sum += float(nota);\n",
        "mean = sum / p2.media_final.size\n",
        "medias_por_semestre.append(mean)\n",
        "\n",
        "\n",
        "p6 = graduacao_imd_2019_02[graduacao_imd_2019_02.duplicated(subset = [\"discente\", \"semestre\"], keep = 'first') != True]\n",
        "#itp_2018_02 = itp_2018_02.pivot_table(index = [\"id_turma\"])\n",
        "p6 = pd.DataFrame(p6,columns = ['id_turma', 'discente','media_final'])\n",
        "p6 = p6[p6['media_final'].notna()]\n",
        "sum = 0;\n",
        "for nota in p6.media_final:\n",
        "  sum += float(nota);\n",
        "mean = sum / p6.media_final.size\n",
        "medias_por_semestre.append(mean)\n",
        "\n",
        "\n",
        "p3 = graduacao_imd_2019_02[graduacao_imd_2019_02.duplicated(subset = [\"discente\", \"semestre\"], keep = 'first') != True]\n",
        "#itp_2018_02 = itp_2018_02.pivot_table(index = [\"id_turma\"])\n",
        "p3 = pd.DataFrame(p3,columns = ['id_turma', 'discente','media_final'])\n",
        "p3 = p3[p3['media_final'].notna()]\n",
        "sum = 0;\n",
        "for nota in p3.media_final:\n",
        "  sum += float(nota);\n",
        "mean = sum / p3.media_final.size\n",
        "medias_por_semestre.append(mean)\n",
        "\n",
        "\n",
        "p5 = graduacao_imd_2020_01[graduacao_imd_2020_01.duplicated(subset = [\"discente\", \"semestre\"], keep = 'first') != True]\n",
        "p5 = pd.DataFrame(p5,columns = ['id_turma', 'discente','media_final'])\n",
        "p5 = p5[p5['media_final'].notna()]\n",
        "sum = 0;\n",
        "for nota in p5.media_final:\n",
        "  sum += float(nota);\n",
        "mean = sum / p5.media_final.size\n",
        "medias_por_semestre.append(mean)\n",
        "\n",
        "\n",
        "p4 = pd.DataFrame(graduacao_imd_2018_02,columns = ['id_turma', 'discente','media_final'])\n",
        "#graduacao_imd_2018_02"
      ],
      "execution_count": null,
      "outputs": []
    },
    {
      "cell_type": "code",
      "source": [
        "aprovados_itp_2019_02_horario"
      ],
      "metadata": {
        "id": "4P62yYcP_hWc"
      },
      "execution_count": null,
      "outputs": []
    },
    {
      "cell_type": "code",
      "source": [
        "fig = plt.figure(figsize=(15, 5));\n",
        "\n",
        "frames = [graduacao_imd_2018_01, graduacao_imd_2018_02, graduacao_imd_2019_01, graduacao_imd_2019_02, graduacao_imd_2020_01] \n",
        "result = pd.concat(frames)\n",
        "plt.scatter(result.media_final, result.numero_total_faltas)"
      ],
      "metadata": {
        "id": "vwEXCn7_UtoP"
      },
      "execution_count": null,
      "outputs": []
    },
    {
      "cell_type": "code",
      "metadata": {
        "id": "l2gFiYr11fE0"
      },
      "source": [
        "%matplotlib inline \n",
        "\n",
        "def reduce(str, n):\n",
        "  str_splited = str.split();\n",
        "  str = '';\n",
        "  for i in range(n):\n",
        "    str += str_splited[i];\n",
        "    if i+1 != n:\n",
        "      str += ' ';\n",
        "  return str;\n",
        "\n",
        "def reduce_names(arr, n):\n",
        "  n_arr = [None] * len(arr);\n",
        "  for i in range(len(arr)):\n",
        "    n_arr[i] = reduce(arr[i], n);\n",
        "  return n_arr;\n",
        "\n",
        "print('Aprovação/Reprovação por semestre')\n",
        "\n",
        "fig = plt.figure(figsize=(20, 6));\n",
        "\n",
        "\n",
        "plt.subplot(1, 5, 1);\n",
        "plt.title('2018.1');\n",
        "itp_2018_01.aprovado.value_counts().plot(kind='pie', labels=['Aprovado', 'Reprovado'], autopct='%.2f%%');\n",
        "plt.ylabel('');\n",
        "\n",
        "plt.subplot(1, 5, 2);\n",
        "plt.title('2018.2');\n",
        "itp_2018_02.aprovado.value_counts().plot(kind='pie', labels=['Aprovado', 'Reprovado'], autopct='%.2f%%');\n",
        "plt.ylabel('');\n",
        "\n",
        "plt.subplot(1, 5, 3);\n",
        "plt.title('2019.1');\n",
        "itp_2019_01.aprovado.value_counts().plot(kind='pie', labels=['Aprovado', 'Reprovado'], autopct='%.2f%%');\n",
        "plt.ylabel('');\n",
        "\n",
        "plt.subplot(1, 5, 4);\n",
        "plt.title('2019.2');\n",
        "itp_2019_02.aprovado.value_counts().plot(kind='pie', labels=['Aprovado', 'Reprovado'], autopct='%.2f%%');\n",
        "plt.ylabel('');\n",
        "\n",
        "plt.subplot(1, 5, 5);\n",
        "plt.title('2020.1');\n",
        "itp_2020_01.aprovado.value_counts().plot(kind='pie', labels=['Aprovado', 'Reprovado'], autopct='%.2f%%');\n",
        "plt.ylabel('');\n",
        "\n",
        "plt.show();\n",
        "\n",
        "print('Aprovação por turma');\n",
        "\n",
        "fig = plt.figure(figsize=(20, 6));\n",
        "\n",
        "plt.subplot(1, 5, 1);\n",
        "plt.title('2018.1');\n",
        "aprovados_itp_2018_01_horario.aprovado.plot(kind='bar', width=0.5);\n",
        "plt.xticks(range(len(aprovados_itp_2018_01_horario.index.values)), reduce_names(aprovados_itp_2018_01_horario.index.values, 1), rotation='horizontal');\n",
        "plt.xlabel('');\n",
        "plt.ylim(0, 100);\n",
        "\n",
        "\n",
        "plt.subplot(1, 5, 2);\n",
        "plt.title('2018.2');\n",
        "aprovados_itp_2018_02_horario.aprovado.plot(kind='bar', width=0.5);\n",
        "plt.xticks(range(len(aprovados_itp_2018_02_horario.index.values)), reduce_names(aprovados_itp_2018_02_horario.index.values, 1), rotation='horizontal');\n",
        "plt.xlabel('');\n",
        "plt.ylim(0, 100);\n",
        "\n",
        "plt.subplot(1, 5, 3);\n",
        "plt.title('2019.1');\n",
        "aprovados_itp_2019_01_horario.aprovado.plot(kind='bar', width=0.5);\n",
        "plt.xticks(range(len(aprovados_itp_2019_01_horario.index.values)), reduce_names(aprovados_itp_2019_01_horario.index.values, 1), rotation='horizontal');\n",
        "plt.xlabel('');\n",
        "plt.ylim(0, 100);\n",
        "\n",
        "plt.subplot(1, 5, 4);\n",
        "plt.title('2019.2');\n",
        "aprovados_itp_2019_02_horario.aprovado.plot(kind='bar', width=0.5);\n",
        "plt.xticks(range(len(aprovados_itp_2019_02_horario.index.values)), reduce_names(aprovados_itp_2019_02_horario.index.values, 1), rotation='horizontal');\n",
        "plt.xlabel('');\n",
        "plt.ylim(0, 100);\n",
        "\n",
        "plt.subplot(1, 5, 5);\n",
        "plt.title('2020.1');\n",
        "aprovados_itp_2020_01_horario.aprovado.plot(kind='bar', width=0.5);\n",
        "plt.xticks(range(len(aprovados_itp_2020_01_horario.index.values)), reduce_names(aprovados_itp_2020_01_horario.index.values, 1), rotation='horizontal');\n",
        "plt.xlabel('');\n",
        "plt.ylim(0, 100);\n",
        "\n",
        "plt.show();\n",
        "  \n",
        "print('Média por semestre');\n",
        "\n",
        "fig = plt.figure(figsize=(4, 4));\n",
        "medias_por_semestre_frame = pd.DataFrame(medias_por_semestre);\n",
        "medias_por_semestre_frame.plot(kind='bar', width=0.5)\n",
        "plt.title('Média final dos alunos')\n",
        "plt.xticks(range((len(medias_por_semestre))), ['2018.1', '2018.2', '2019.1', '2019.2', '2020.1'], rotation='horizontal');\n",
        "#plt.xlabel('');\n",
        "plt.legend().remove()\n",
        "plt.ylim(0, 10);\n",
        "\n",
        "plt.show();\n",
        "\n",
        "pxx1 = graduacao_imd_2018_01[graduacao_imd_2018_01.duplicated(subset = [\"discente\", \"semestre\"], keep = 'first') != True]\n",
        "pxx1 = pxx1.replace({',': '.'}, regex=True)\n",
        "pxx1[\"media_final\"] = pd.to_numeric(pxx1[\"media_final\"])\n",
        "pxx1.boxplot(column='media_final')\n",
        "\n",
        "pxx4 = graduacao_imd_2018_02[graduacao_imd_2018_02.duplicated(subset = [\"discente\", \"semestre\"], keep = 'first') != True]\n",
        "pxx4 = pxx4.replace({',': '.'}, regex=True)\n",
        "pxx4[\"media_final\"] = pd.to_numeric(pxx4[\"media_final\"])\n",
        "pxx4.boxplot(column='media_final')\n",
        "\n",
        "pxx5 = graduacao_imd_2019_01[graduacao_imd_2019_01.duplicated(subset = [\"discente\", \"semestre\"], keep = 'first') != True]\n",
        "pxx5 = pxx5.replace({',': '.'}, regex=True)\n",
        "pxx5[\"media_final\"] = pd.to_numeric(pxx5[\"media_final\"])\n",
        "pxx5.boxplot(column='media_final')\n",
        "\n",
        "pxx2 = graduacao_imd_2019_02[graduacao_imd_2019_02.duplicated(subset = [\"discente\", \"semestre\"], keep = 'first') != True]\n",
        "pxx2 = pxx2.replace({',': '.'}, regex=True)\n",
        "pxx2[\"media_final\"] = pd.to_numeric(pxx2[\"media_final\"])\n",
        "pxx2.boxplot(column='media_final')\n",
        "\n",
        "pxx3 = graduacao_imd_2020_01[graduacao_imd_2020_01.duplicated(subset = [\"discente\", \"semestre\"], keep = 'first') != True]\n",
        "pxx3 = pxx3.replace({',': '.'}, regex=True)\n",
        "pxx3[\"media_final\"] = pd.to_numeric(pxx3[\"media_final\"])\n",
        "\n",
        "\n",
        "print('Média final por semestre');\n",
        "\n",
        "fig = plt.figure(figsize=(20, 6));\n",
        "\n",
        "ax1 = plt.subplot(1, 5, 1);\n",
        "fig.add_subplot(ax1)\n",
        "pxx1.boxplot(column='media_final')\n",
        "plt.title('2018.1');\n",
        "#plt.xticks(range(len(pxx1.index.values)), reduce_names(aprovados_itp_2018_02_horario.index.values, 1), rotation='horizontal');\n",
        "plt.xlabel('');\n",
        "plt.ylim(0, 10);\n",
        "\n",
        "ax4 = plt.subplot(1, 5, 2);\n",
        "fig.add_subplot(ax4)\n",
        "pxx4.boxplot(column='media_final')\n",
        "plt.title('2018.2');\n",
        "#plt.xticks(range(len(pxx1.index.values)), reduce_names(aprovados_itp_2018_02_horario.index.values, 1), rotation='horizontal');\n",
        "plt.xlabel('');\n",
        "plt.ylim(0, 10);\n",
        "\n",
        "ax2 = plt.subplot(1, 5, 3);\n",
        "fig.add_subplot(ax2)\n",
        "pxx2.boxplot(column='media_final')\n",
        "plt.title('2019.1');\n",
        "#plt.xticks(range(len(aprovados_itp_2019_02_horario.index.values)), reduce_names(aprovados_itp_2019_02_horario.index.values, 1), rotation='horizontal');\n",
        "plt.xlabel('');\n",
        "plt.ylim(0, 10);\n",
        "\n",
        "ax5 = plt.subplot(1, 5, 4);\n",
        "fig.add_subplot(ax5)\n",
        "pxx5.boxplot(column='media_final')\n",
        "plt.title('2019.2');\n",
        "#plt.xticks(range(len(aprovados_itp_2019_02_horario.index.values)), reduce_names(aprovados_itp_2019_02_horario.index.values, 1), rotation='horizontal');\n",
        "plt.xlabel('');\n",
        "plt.ylim(0, 10);\n",
        "\n",
        "ax3 = plt.subplot(1, 5, 5);\n",
        "fig.add_subplot(ax3)\n",
        "pxx3.boxplot(column='media_final')\n",
        "plt.title('2020.1');\n",
        "#plt.xticks(range(len(aprovados_itp_2020_01_horario.index.values)), reduce_names(aprovados_itp_2020_01_horario.index.values, 1), rotation='horizontal');\n",
        "plt.xlabel('');\n",
        "plt.ylim(0, 10);\n",
        "\n",
        "plt.show();\n",
        "\n",
        "print('Distribuição das notas')\n",
        "fig = plt.figure(figsize=(20, 6));\n",
        "\n",
        "\n",
        "plt.subplot(1, 5, 1);\n",
        "plt.title('2018.1');\n",
        "\n",
        "px4 = graduacao_imd_2018_01.replace({',': '.'}, regex=True)\n",
        "px4[\"nota\"] = pd.to_numeric(px4[\"nota\"])\n",
        "px4[\"media_final\"] = pd.to_numeric(px4[\"media_final\"])\n",
        "plt.hist(px4.dropna().nota, bins='auto', density=True)\n",
        "plt.ylim(0, 0.33);\n",
        "\n",
        "\n",
        "plt.subplot(1, 5, 2);\n",
        "plt.title('2018.2');\n",
        "\n",
        "px1 = graduacao_imd_2018_02.replace({',': '.'}, regex=True)\n",
        "px1[\"nota\"] = pd.to_numeric(px1[\"nota\"])\n",
        "px1[\"media_final\"] = pd.to_numeric(px1[\"media_final\"])\n",
        "plt.hist(px1.dropna().nota, bins='auto', density=True)\n",
        "plt.ylim(0, 0.33);\n",
        "\n",
        "\n",
        "plt.subplot(1, 5, 3);\n",
        "\n",
        "px5 = graduacao_imd_2019_01.replace({',': '.'}, regex=True)\n",
        "px5[\"nota\"] = pd.to_numeric(px5[\"nota\"])\n",
        "px5[\"media_final\"] = pd.to_numeric(px5[\"media_final\"])\n",
        "plt.title('2019.1')\n",
        "plt.hist(px5.dropna().nota, bins='auto', density=True)\n",
        "plt.ylim(0, 0.33);\n",
        "\n",
        "\n",
        "plt.subplot(1, 5, 4);\n",
        "\n",
        "px2 = graduacao_imd_2019_02.replace({',': '.'}, regex=True)\n",
        "px2[\"nota\"] = pd.to_numeric(px2[\"nota\"])\n",
        "px2[\"media_final\"] = pd.to_numeric(px2[\"media_final\"])\n",
        "plt.title('2019.2')\n",
        "plt.hist(px2.dropna().nota, bins='auto', density=True)\n",
        "plt.ylim(0, 0.33);\n",
        "\n",
        "plt.subplot(1, 5, 5);\n",
        "plt.title('2020.1');\n",
        "\n",
        "px3 = graduacao_imd_2020_01.replace({',': '.'}, regex=True)\n",
        "px3[\"nota\"] = pd.to_numeric(px3[\"nota\"])\n",
        "px3[\"media_final\"] = pd.to_numeric(px3[\"media_final\"])\n",
        "plt.title('2020.1')\n",
        "plt.hist(px3.dropna().nota, bins='auto', density=True)\n",
        "plt.ylim(0, 0.33);\n",
        "\n",
        "plt.show()\n",
        "\n",
        "\n"
      ],
      "execution_count": null,
      "outputs": []
    },
    {
      "cell_type": "code",
      "source": [
        "# A PARTIR DAQUI REFAZER OS K-MEANS"
      ],
      "metadata": {
        "id": "G9qwTnIICFMp"
      },
      "execution_count": null,
      "outputs": []
    },
    {
      "cell_type": "code",
      "source": [
        "kmeansdb = base_final\n",
        "\n",
        "dfkm = kmeansdb[['discente', 'docente', 'unidade', 'nota', 'media_final','numero_total_faltas', 'aprovado', 'reposicao', 'reprovadoporfalta']]\n",
        "\n",
        "\n",
        "def strhash_to_inthash(row):\n",
        "  strhash = row['discente'];\n",
        "  return hash(strhash) % 10**8;\n",
        "\n",
        "def bool_to_int_aprovado(row):\n",
        "  if row['aprovado'] == True:\n",
        "    return 1;\n",
        "  else:\n",
        "    return 0;\n",
        "\n",
        "def bool_to_int_reprovadoporfalta(row):\n",
        "  if row['reprovadoporfalta'] == True:\n",
        "    return 1;\n",
        "  else:\n",
        "    return 0;\n",
        "\n",
        "def bool_to_int_reposicao(row):\n",
        "  if row['reposicao'] == True:\n",
        "    return 1;\n",
        "  else:\n",
        "    return 0;\n",
        "\n",
        "def docentehash(row):\n",
        "  strhash = row['docente'].split()[0];\n",
        "  inthash = hash(strhash) % 10**8;\n",
        "  return inthash;\n",
        "\n",
        "inthashed_docente = dfkm.apply(docentehash, axis = 1)\n",
        "dfkm[\"docente\"] = inthashed_docente\n",
        "\n",
        "inthashed_discente = dfkm.apply(strhash_to_inthash, axis = 1)\n",
        "dfkm[\"discente\"] = inthashed_discente \n",
        "\n",
        "aprovacao = dfkm.apply(bool_to_int_aprovado, axis = 1)\n",
        "dfkm[\"aprovado\"] = aprovacao \n",
        "\n",
        "reprovacaoporfalta = dfkm.apply(bool_to_int_reprovadoporfalta, axis = 1)\n",
        "dfkm[\"reprovadoporfalta\"] = reprovacaoporfalta \n",
        "\n",
        "reposicao = dfkm.apply(bool_to_int_reposicao, axis = 1)\n",
        "dfkm[\"reposicao\"] = reposicao \n",
        "\n",
        "#'''\n",
        "normalized_docente=(dfkm.docente-dfkm.docente.min())/(dfkm.docente.max()-dfkm.docente.min())\n",
        "dfkm[\"docente\"] = normalized_docente\n",
        "#'''\n",
        "\n",
        "#'''\n",
        "normalized_discente=(dfkm.discente-dfkm.discente.min())/(dfkm.discente.max()-dfkm.discente.min())\n",
        "dfkm[\"discente\"] = normalized_discente\n",
        "#'''\n",
        "\n",
        "#'''\n",
        "normalized_unidade=(dfkm.unidade-dfkm.unidade.min())/(dfkm.unidade.max()-dfkm.unidade.min())\n",
        "dfkm[\"unidade\"] = normalized_unidade\n",
        "#'''\n",
        "\n",
        "\n",
        "normalized_nota=(dfkm.nota-dfkm.nota.min())/(dfkm.nota.max()-dfkm.nota.min())\n",
        "dfkm[\"nota\"] = normalized_nota\n",
        "\n",
        "normalized_media_final=(dfkm.media_final-dfkm.media_final.min())/(dfkm.media_final.max()-dfkm.media_final.min())\n",
        "dfkm[\"media_final\"] = normalized_media_final\n",
        "\n",
        "normalized_numero_total_faltas=(dfkm.numero_total_faltas-dfkm.numero_total_faltas.min())/(dfkm.numero_total_faltas.max()-dfkm.numero_total_faltas.min())\n",
        "dfkm[\"numero_total_faltas\"] = normalized_numero_total_faltas\n",
        "\n",
        "dfkm\n",
        "#dfkm[dfkm[\"reprovadoporfalta\"] == 1]\n",
        "#dfkm[dfkm[\"aprovado\"] == 1]\n",
        "#dfkm[dfkm[\"media_final\"] == 1]\n",
        "#dfkm[dfkm[\"nota\"] == 1]\n",
        "\n",
        "# TODAS CARACTERISTICAS COM VALORES ENTE [0, 1] (inclusive)\n",
        "# DISCENTE/DOCENTE COM HASH EM FLOAT\n"
      ],
      "metadata": {
        "id": "cCWKktyQSV1h"
      },
      "execution_count": null,
      "outputs": []
    },
    {
      "cell_type": "code",
      "source": [
        "#dfkm.info()\n",
        "\n",
        "dfkm.aprovado = dfkm.aprovado.astype(np.float64)\n",
        "dfkm.reprovadoporfalta = dfkm.reprovadoporfalta.astype(np.float64)\n",
        "dfkm.reposicao = dfkm.reposicao.astype(np.float64)\n",
        "\n",
        "dfkm.info()"
      ],
      "metadata": {
        "id": "L74mxZAmauoc"
      },
      "execution_count": null,
      "outputs": []
    },
    {
      "cell_type": "code",
      "source": [
        "dfkm"
      ],
      "metadata": {
        "id": "GALRyoGqbjUR"
      },
      "execution_count": null,
      "outputs": []
    },
    {
      "cell_type": "code",
      "source": [
        "describedb = dfkm\n",
        "describedb = dfkm[['nota', 'media_final', 'numero_total_faltas', 'aprovado']]\n",
        "\n",
        "describedb.describe()"
      ],
      "metadata": {
        "id": "nzcl9lulh9gS"
      },
      "execution_count": null,
      "outputs": []
    },
    {
      "cell_type": "code",
      "source": [
        "\n",
        "# Selecionando o número de clusters através do método Elbow (Soma das distâncias quadráticas intra clusters):\n",
        "X2 = base_final[['unidade','nota']].iloc[: , :].values\n",
        "inertia = []\n",
        "for n in range(1 , 11):\n",
        "    algorithm = (KMeans(n_clusters = n))\n",
        "    algorithm.fit(X2)\n",
        "    inertia.append(algorithm.inertia_)\n",
        "\n",
        "plt.figure(1 , figsize = (15 ,6))\n",
        "plt.plot(np.arange(1 , 11) , inertia , 'o')\n",
        "plt.plot(np.arange(1 , 11) , inertia , '-' , alpha = 0.5)\n",
        "plt.xlabel('Número de Clusters') , plt.ylabel('Soma das Distâncias Q intra Clusters')\n",
        "plt.show()\n",
        "\n",
        "# Inicializando e Computando o KMeans com o valor de 4 clusters:\n",
        "algorithm = (KMeans(n_clusters = 3))\n",
        "algorithm.fit(X2)\n",
        "\n",
        "# Saída:\n",
        "\n",
        "KMeans(algorithm='auto', copy_x=True, init='k-means++', max_iter=300,\n",
        "       n_clusters=4, n_init=10,\n",
        "       random_state=None, tol=0.0001, verbose=0)\n",
        "\n",
        "# Visualizando os grupos criados e seus centroides:\n",
        "labels2 = algorithm.labels_\n",
        "centroids2 = algorithm.cluster_centers_\n",
        "\n",
        "h = 0.02\n",
        "x_min, x_max = X2[:, 0].min() - 1, X2[:, 0].max() + 1\n",
        "y_min, y_max = X2[:, 1].min() - 1, X2[:, 1].max() + 1\n",
        "xx, yy = np.meshgrid(np.arange(x_min, x_max, h), np.arange(y_min, y_max, h))\n",
        "Z = algorithm.predict(np.c_[xx.ravel(), yy.ravel()]) \n",
        "\n",
        "plt.figure(1 , figsize = (15 , 7) )\n",
        "plt.clf()\n",
        "Z2 = Z.reshape(xx.shape)\n",
        "plt.imshow(Z2 , interpolation='nearest', extent=(xx.min(), xx.max(), yy.min(), yy.max()), cmap = plt.cm.Pastel2, aspect = 'auto', origin='lower')\n",
        "plt.scatter( x = 'unidade' ,y = 'nota' , data = base_final , c = labels2 , s = 200 )\n",
        "plt.scatter(x = centroids2[: , 0] , y =  centroids2[: , 1] , s = 300 , c = 'red' , alpha = 0.5)\n",
        "plt.ylabel('Nota') , plt.xlabel('Unidade')\n",
        "plt.show()"
      ],
      "metadata": {
        "id": "j8oQGd08-opO"
      },
      "execution_count": null,
      "outputs": []
    },
    {
      "cell_type": "code",
      "source": [
        "X2 = base_final[['nota','media_final']].iloc[: , :].values\n",
        "inertia = []\n",
        "for n in range(1 , 11):\n",
        "    algorithm = (KMeans(n_clusters = n))\n",
        "    algorithm.fit(X2)\n",
        "    inertia.append(algorithm.inertia_)\n",
        "\n",
        "plt.figure(1 , figsize = (15 ,6))\n",
        "plt.plot(np.arange(1 , 11) , inertia , 'o')\n",
        "plt.plot(np.arange(1 , 11) , inertia , '-' , alpha = 0.5)\n",
        "plt.xlabel('Número de Clusters') , plt.ylabel('Soma das Distâncias Q intra Clusters')\n",
        "plt.show()\n",
        "\n",
        "# Inicializando e Computando o KMeans com o valor de 4 clusters:\n",
        "algorithm = (KMeans(n_clusters = 3))\n",
        "algorithm.fit(X2)\n",
        "\n",
        "# Saída:\n",
        "\n",
        "KMeans(algorithm='auto', copy_x=True, init='k-means++', max_iter=300,\n",
        "       n_clusters=4, n_init=10,\n",
        "       random_state=None, tol=0.0001, verbose=0)\n",
        "\n",
        "# Visualizando os grupos criados e seus centroides:\n",
        "labels2 = algorithm.labels_\n",
        "centroids2 = algorithm.cluster_centers_\n",
        "\n",
        "h = 0.02\n",
        "x_min, x_max = X2[:, 0].min() - 1, X2[:, 0].max() + 1\n",
        "y_min, y_max = X2[:, 1].min() - 1, X2[:, 1].max() + 1\n",
        "xx, yy = np.meshgrid(np.arange(x_min, x_max, h), np.arange(y_min, y_max, h))\n",
        "Z = algorithm.predict(np.c_[xx.ravel(), yy.ravel()]) \n",
        "\n",
        "plt.figure(1 , figsize = (15 , 7) )\n",
        "plt.clf()\n",
        "Z2 = Z.reshape(xx.shape)\n",
        "plt.imshow(Z2 , interpolation='nearest', extent=(xx.min(), xx.max(), yy.min(), yy.max()), cmap = plt.cm.Pastel2, aspect = 'auto', origin='lower')\n",
        "plt.scatter( x = 'nota' ,y = 'media_final' , data = base_final , c = labels2 , s = 200 )\n",
        "plt.scatter(x = centroids2[: , 0] , y =  centroids2[: , 1] , s = 300 , c = 'red' , alpha = 0.5)\n",
        "plt.ylabel('Média Final') , plt.xlabel('Nota')\n",
        "plt.show()"
      ],
      "metadata": {
        "id": "OUK_9NWk-p2S"
      },
      "execution_count": null,
      "outputs": []
    },
    {
      "cell_type": "code",
      "source": [
        "X2 = base_final[['docente','media_final']].iloc[: , :].values\n",
        "inertia = []\n",
        "for n in range(1 , 11):\n",
        "    algorithm = (KMeans(n_clusters = n))\n",
        "    algorithm.fit(X2)\n",
        "    inertia.append(algorithm.inertia_)\n",
        "\n",
        "plt.figure(1 , figsize = (15 ,6))\n",
        "plt.plot(np.arange(1 , 11) , inertia , 'o')\n",
        "plt.plot(np.arange(1 , 11) , inertia , '-' , alpha = 0.5)\n",
        "plt.xlabel('Número de Clusters') , plt.ylabel('Soma das Distâncias Q intra Clusters')\n",
        "plt.show()\n",
        "\n",
        "# Inicializando e Computando o KMeans com o valor de 4 clusters:\n",
        "algorithm = (KMeans(n_clusters = 3))\n",
        "algorithm.fit(X2)\n",
        "\n",
        "# Saída:\n",
        "\n",
        "KMeans(algorithm='auto', copy_x=True, init='k-means++', max_iter=300,\n",
        "       n_clusters=4, n_init=10,\n",
        "       random_state=None, tol=0.0001, verbose=0)\n",
        "\n",
        "# Visualizando os grupos criados e seus centroides:\n",
        "labels2 = algorithm.labels_\n",
        "centroids2 = algorithm.cluster_centers_\n",
        "\n",
        "h = 0.02\n",
        "x_min, x_max = X2[:, 0].min() - 1, X2[:, 0].max() + 1\n",
        "y_min, y_max = X2[:, 1].min() - 1, X2[:, 1].max() + 1\n",
        "xx, yy = np.meshgrid(np.arange(x_min, x_max, h), np.arange(y_min, y_max, h))\n",
        "Z = algorithm.predict(np.c_[xx.ravel(), yy.ravel()]) \n",
        "\n",
        "plt.figure(1 , figsize = (15 , 7) )\n",
        "plt.clf()\n",
        "Z2 = Z.reshape(xx.shape)\n",
        "plt.imshow(Z2 , interpolation='nearest', extent=(xx.min(), xx.max(), yy.min(), yy.max()), cmap = plt.cm.Pastel2, aspect = 'auto', origin='lower')\n",
        "plt.scatter( x = 'docente' ,y = 'media_final' , data = base_final , c = labels2 , s = 200 )\n",
        "plt.scatter(x = centroids2[: , 0] , y =  centroids2[: , 1] , s = 300 , c = 'red' , alpha = 0.5)\n",
        "plt.ylabel('Média Final') , plt.xlabel('Docente')\n",
        "plt.show()"
      ],
      "metadata": {
        "id": "xhnKFN0yCd1t"
      },
      "execution_count": null,
      "outputs": []
    },
    {
      "cell_type": "code",
      "source": [
        "\n",
        "# Inicializando e Computando o KMeans com o valor de 4 clusters:\n",
        "algorithm = (KMeans(n_clusters = 4))\n",
        "algorithm.fit(X2)\n",
        "\n",
        "# Saída:\n",
        "\n",
        "KMeans(algorithm='auto', copy_x=True, init='k-means++', max_iter=300,\n",
        "       n_clusters=4, n_init=10,\n",
        "       random_state=None, tol=0.0001, verbose=0)\n",
        "\n",
        "# Visualizando os grupos criados e seus centroides:\n",
        "labels2 = algorithm.labels_\n",
        "centroids2 = algorithm.cluster_centers_\n",
        "\n",
        "h = 0.02\n",
        "x_min, x_max = X2[:, 0].min() - 1, X2[:, 0].max() + 1\n",
        "y_min, y_max = X2[:, 1].min() - 1, X2[:, 1].max() + 1\n",
        "xx, yy = np.meshgrid(np.arange(x_min, x_max, h), np.arange(y_min, y_max, h))\n",
        "Z = algorithm.predict(np.c_[xx.ravel(), yy.ravel()]) \n",
        "\n",
        "plt.figure(1 , figsize = (22 , 7) )\n",
        "plt.clf()\n",
        "Z2 = Z.reshape(xx.shape)\n",
        "plt.imshow(Z2 , interpolation='nearest', extent=(xx.min(), xx.max(), yy.min(), yy.max()), cmap = plt.cm.Pastel2, aspect = 'auto', origin='lower')\n",
        "plt.scatter( x = 'docente' ,y = 'aprovado' , data = base_final , c = labels2 , s = 200 )\n",
        "plt.scatter(x = centroids2[: , 0] , y =  centroids2[: , 1] , s = 300 , c = 'red' , alpha = 0.5)\n",
        "plt.ylabel('Aprovado') , plt.xlabel('Docente')\n",
        "plt.show()"
      ],
      "metadata": {
        "id": "o0v7cpahD1At"
      },
      "execution_count": null,
      "outputs": []
    },
    {
      "cell_type": "code",
      "source": [
        "\n",
        "# Inicializando e Computando o KMeans com o valor de 4 clusters:\n",
        "algorithm = (KMeans(n_clusters = 4))\n",
        "algorithm.fit(X2)\n",
        "\n",
        "# Saída:\n",
        "\n",
        "KMeans(algorithm='auto', copy_x=True, init='k-means++', max_iter=300,\n",
        "       n_clusters=4, n_init=10,\n",
        "       random_state=None, tol=0.0001, verbose=0)\n",
        "\n",
        "# Visualizando os grupos criados e seus centroides:\n",
        "labels2 = algorithm.labels_\n",
        "centroids2 = algorithm.cluster_centers_\n",
        "\n",
        "h = 0.02\n",
        "x_min, x_max = X2[:, 0].min() - 1, X2[:, 0].max() + 1\n",
        "y_min, y_max = X2[:, 1].min() - 1, X2[:, 1].max() + 1\n",
        "xx, yy = np.meshgrid(np.arange(x_min, x_max, h), np.arange(y_min, y_max, h))\n",
        "Z = algorithm.predict(np.c_[xx.ravel(), yy.ravel()]) \n",
        "\n",
        "plt.figure(1 , figsize = (22 , 7) )\n",
        "plt.clf()\n",
        "Z2 = Z.reshape(xx.shape)\n",
        "plt.imshow(Z2 , interpolation='nearest', extent=(xx.min(), xx.max(), yy.min(), yy.max()), cmap = plt.cm.Pastel2, aspect = 'auto', origin='lower')\n",
        "plt.scatter( x = 'docente' ,y = 'descricao' , data = base_final , c = labels2 , s = 200 )\n",
        "plt.scatter(x = centroids2[: , 0] , y =  centroids2[: , 1] , s = 300 , c = 'red' , alpha = 0.5)\n",
        "plt.ylabel('Matrícula') , plt.xlabel('Professor')\n",
        "plt.show()"
      ],
      "metadata": {
        "id": "I9G8lscuEBPA"
      },
      "execution_count": null,
      "outputs": []
    }
  ]
}